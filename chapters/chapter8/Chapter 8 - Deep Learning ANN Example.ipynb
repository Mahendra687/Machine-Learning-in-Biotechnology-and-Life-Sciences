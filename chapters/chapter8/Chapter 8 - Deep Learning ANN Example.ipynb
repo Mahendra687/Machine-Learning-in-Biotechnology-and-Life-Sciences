{
 "cells": [
  {
   "cell_type": "markdown",
   "id": "abc1adb4",
   "metadata": {},
   "source": [
    "### Chapter 8 - Deep Learning ANN Example:"
   ]
  },
  {
   "cell_type": "code",
   "execution_count": 1,
   "id": "5c37b1fc",
   "metadata": {},
   "outputs": [],
   "source": [
    "import pandas as pd\n",
    "import numpy as np\n",
    "\n",
    "import matplotlib.pyplot as plt\n",
    "import seaborn as sns"
   ]
  },
  {
   "cell_type": "code",
   "execution_count": 2,
   "id": "33895e3c",
   "metadata": {},
   "outputs": [],
   "source": [
    "from sklearn.datasets import make_blobs\n",
    "X, y = make_blobs(n_samples=2000, centers=2, n_features=4, random_state=1, cluster_std=5)"
   ]
  },
  {
   "cell_type": "code",
   "execution_count": 3,
   "id": "91e24908",
   "metadata": {},
   "outputs": [
    {
     "data": {
      "text/plain": [
       "MinMaxScaler()"
      ]
     },
     "execution_count": 3,
     "metadata": {},
     "output_type": "execute_result"
    }
   ],
   "source": [
    "from sklearn.preprocessing import MinMaxScaler\n",
    "scalar = MinMaxScaler()\n",
    "scalar.fit(X)"
   ]
  },
  {
   "cell_type": "code",
   "execution_count": 4,
   "id": "c205a0f3",
   "metadata": {},
   "outputs": [],
   "source": [
    "X_scaled = scalar.transform(X)"
   ]
  },
  {
   "cell_type": "code",
   "execution_count": 32,
   "id": "876bb84e",
   "metadata": {},
   "outputs": [],
   "source": [
    "from sklearn.model_selection import train_test_split\n",
    "X_train, X_test, y_train, y_test = train_test_split(X_scaled, y, test_size=0.25)"
   ]
  },
  {
   "cell_type": "code",
   "execution_count": 33,
   "id": "edded76a",
   "metadata": {},
   "outputs": [
    {
     "data": {
      "text/html": [
       "<div>\n",
       "<style scoped>\n",
       "    .dataframe tbody tr th:only-of-type {\n",
       "        vertical-align: middle;\n",
       "    }\n",
       "\n",
       "    .dataframe tbody tr th {\n",
       "        vertical-align: top;\n",
       "    }\n",
       "\n",
       "    .dataframe thead th {\n",
       "        text-align: right;\n",
       "    }\n",
       "</style>\n",
       "<table border=\"1\" class=\"dataframe\">\n",
       "  <thead>\n",
       "    <tr style=\"text-align: right;\">\n",
       "      <th></th>\n",
       "      <th>Feature1</th>\n",
       "      <th>Feature2</th>\n",
       "      <th>Feature3</th>\n",
       "      <th>Feature4</th>\n",
       "    </tr>\n",
       "  </thead>\n",
       "  <tbody>\n",
       "    <tr>\n",
       "      <th>0</th>\n",
       "      <td>0.574143</td>\n",
       "      <td>0.517287</td>\n",
       "      <td>0.653328</td>\n",
       "      <td>0.419282</td>\n",
       "    </tr>\n",
       "    <tr>\n",
       "      <th>1</th>\n",
       "      <td>0.438718</td>\n",
       "      <td>0.687339</td>\n",
       "      <td>0.732762</td>\n",
       "      <td>0.602197</td>\n",
       "    </tr>\n",
       "    <tr>\n",
       "      <th>2</th>\n",
       "      <td>0.454498</td>\n",
       "      <td>0.411297</td>\n",
       "      <td>0.560572</td>\n",
       "      <td>0.486019</td>\n",
       "    </tr>\n",
       "    <tr>\n",
       "      <th>3</th>\n",
       "      <td>0.758072</td>\n",
       "      <td>0.140497</td>\n",
       "      <td>0.462432</td>\n",
       "      <td>0.393466</td>\n",
       "    </tr>\n",
       "    <tr>\n",
       "      <th>4</th>\n",
       "      <td>0.595967</td>\n",
       "      <td>0.794863</td>\n",
       "      <td>0.406181</td>\n",
       "      <td>0.242629</td>\n",
       "    </tr>\n",
       "    <tr>\n",
       "      <th>...</th>\n",
       "      <td>...</td>\n",
       "      <td>...</td>\n",
       "      <td>...</td>\n",
       "      <td>...</td>\n",
       "    </tr>\n",
       "    <tr>\n",
       "      <th>1495</th>\n",
       "      <td>0.433280</td>\n",
       "      <td>0.356902</td>\n",
       "      <td>0.547584</td>\n",
       "      <td>0.407951</td>\n",
       "    </tr>\n",
       "    <tr>\n",
       "      <th>1496</th>\n",
       "      <td>0.367920</td>\n",
       "      <td>0.328708</td>\n",
       "      <td>0.774894</td>\n",
       "      <td>0.457759</td>\n",
       "    </tr>\n",
       "    <tr>\n",
       "      <th>1497</th>\n",
       "      <td>0.529657</td>\n",
       "      <td>0.605698</td>\n",
       "      <td>0.739527</td>\n",
       "      <td>0.648285</td>\n",
       "    </tr>\n",
       "    <tr>\n",
       "      <th>1498</th>\n",
       "      <td>0.398777</td>\n",
       "      <td>0.583251</td>\n",
       "      <td>0.480954</td>\n",
       "      <td>0.596516</td>\n",
       "    </tr>\n",
       "    <tr>\n",
       "      <th>1499</th>\n",
       "      <td>0.572319</td>\n",
       "      <td>0.467092</td>\n",
       "      <td>0.296478</td>\n",
       "      <td>0.472477</td>\n",
       "    </tr>\n",
       "  </tbody>\n",
       "</table>\n",
       "<p>1500 rows × 4 columns</p>\n",
       "</div>"
      ],
      "text/plain": [
       "      Feature1  Feature2  Feature3  Feature4\n",
       "0     0.574143  0.517287  0.653328  0.419282\n",
       "1     0.438718  0.687339  0.732762  0.602197\n",
       "2     0.454498  0.411297  0.560572  0.486019\n",
       "3     0.758072  0.140497  0.462432  0.393466\n",
       "4     0.595967  0.794863  0.406181  0.242629\n",
       "...        ...       ...       ...       ...\n",
       "1495  0.433280  0.356902  0.547584  0.407951\n",
       "1496  0.367920  0.328708  0.774894  0.457759\n",
       "1497  0.529657  0.605698  0.739527  0.648285\n",
       "1498  0.398777  0.583251  0.480954  0.596516\n",
       "1499  0.572319  0.467092  0.296478  0.472477\n",
       "\n",
       "[1500 rows x 4 columns]"
      ]
     },
     "execution_count": 33,
     "metadata": {},
     "output_type": "execute_result"
    }
   ],
   "source": [
    "dfx_train = pd.DataFrame(X_train, columns=[\"Feature1\", \"Feature2\", \"Feature3\", \"Feature4\"])\n",
    "dfx_train"
   ]
  },
  {
   "cell_type": "code",
   "execution_count": 77,
   "id": "6f02129a",
   "metadata": {},
   "outputs": [
    {
     "data": {
      "text/plain": [
       "1500"
      ]
     },
     "execution_count": 77,
     "metadata": {},
     "output_type": "execute_result"
    }
   ],
   "source": [
    "len(y_train)"
   ]
  },
  {
   "cell_type": "code",
   "execution_count": 76,
   "id": "c181a66e",
   "metadata": {},
   "outputs": [
    {
     "name": "stdout",
     "output_type": "stream",
     "text": [
      "[1 0 1 ... 0 0 0]\n"
     ]
    }
   ],
   "source": [
    "print(y_train)"
   ]
  },
  {
   "cell_type": "code",
   "execution_count": 34,
   "id": "8a9c9af4",
   "metadata": {},
   "outputs": [
    {
     "data": {
      "text/plain": [
       "<AxesSubplot:xlabel='Feature1', ylabel='Feature2'>"
      ]
     },
     "execution_count": 34,
     "metadata": {},
     "output_type": "execute_result"
    },
    {
     "data": {
      "image/png": "[encoded data removed]",
      "text/plain": [
       "<Figure size 432x288 with 1 Axes>"
      ]
     },
     "metadata": {
      "needs_background": "light"
     },
     "output_type": "display_data"
    }
   ],
   "source": [
    "sns.scatterplot(x=dfx_train.Feature1, y=dfx_train.Feature2, hue=y_train)"
   ]
  },
  {
   "cell_type": "code",
   "execution_count": 35,
   "id": "d2a4bc41",
   "metadata": {},
   "outputs": [],
   "source": [
    "from keras.models import Sequential\n",
    "model = Sequential()"
   ]
  },
  {
   "cell_type": "code",
   "execution_count": 36,
   "id": "ef769dfa",
   "metadata": {},
   "outputs": [],
   "source": [
    "from keras.layers import Dense\n",
    "model.add(Dense(4, input_dim=2, activation='relu', name=\"DenseLayer1\"))"
   ]
  },
  {
   "cell_type": "code",
   "execution_count": 37,
   "id": "988c2b14",
   "metadata": {},
   "outputs": [
    {
     "name": "stdout",
     "output_type": "stream",
     "text": [
      "Model: \"sequential_5\"\n",
      "_________________________________________________________________\n",
      "Layer (type)                 Output Shape              Param #   \n",
      "=================================================================\n",
      "DenseLayer1 (Dense)          (None, 4)                 12        \n",
      "=================================================================\n",
      "Total params: 12\n",
      "Trainable params: 12\n",
      "Non-trainable params: 0\n",
      "_________________________________________________________________\n"
     ]
    }
   ],
   "source": [
    "model.summary()"
   ]
  },
  {
   "cell_type": "code",
   "execution_count": 38,
   "id": "5ae671db",
   "metadata": {},
   "outputs": [],
   "source": [
    "model.add(Dense(4, input_dim=2, activation='relu', name=\"DenseLayer2\"))"
   ]
  },
  {
   "cell_type": "code",
   "execution_count": 39,
   "id": "9d797a2d",
   "metadata": {},
   "outputs": [
    {
     "name": "stdout",
     "output_type": "stream",
     "text": [
      "Model: \"sequential_5\"\n",
      "_________________________________________________________________\n",
      "Layer (type)                 Output Shape              Param #   \n",
      "=================================================================\n",
      "DenseLayer1 (Dense)          (None, 4)                 12        \n",
      "_________________________________________________________________\n",
      "DenseLayer2 (Dense)          (None, 4)                 20        \n",
      "=================================================================\n",
      "Total params: 32\n",
      "Trainable params: 32\n",
      "Non-trainable params: 0\n",
      "_________________________________________________________________\n"
     ]
    }
   ],
   "source": [
    "model.summary()"
   ]
  },
  {
   "cell_type": "code",
   "execution_count": 40,
   "id": "f5f667e1",
   "metadata": {},
   "outputs": [],
   "source": [
    "model = Sequential()\n",
    "model.add(Dense(4, input_shape=(4,), activation='relu', name=\"DenseLayer1\"))\n",
    "model.add(Dense(8, activation='relu', name=\"DenseLayer2\"))\n",
    "model.add(Dense(1, activation='sigmoid', name=\"DenseLayer3\"))"
   ]
  },
  {
   "cell_type": "code",
   "execution_count": 41,
   "id": "43de4b60",
   "metadata": {},
   "outputs": [],
   "source": [
    "model.compile(loss='binary_crossentropy', optimizer='adam', metrics=[\"accuracy\"])"
   ]
  },
  {
   "cell_type": "code",
   "execution_count": 42,
   "id": "77ccb129",
   "metadata": {},
   "outputs": [
    {
     "name": "stdout",
     "output_type": "stream",
     "text": [
      "Model: \"sequential_6\"\n",
      "_________________________________________________________________\n",
      "Layer (type)                 Output Shape              Param #   \n",
      "=================================================================\n",
      "DenseLayer1 (Dense)          (None, 4)                 20        \n",
      "_________________________________________________________________\n",
      "DenseLayer2 (Dense)          (None, 8)                 40        \n",
      "_________________________________________________________________\n",
      "DenseLayer3 (Dense)          (None, 1)                 9         \n",
      "=================================================================\n",
      "Total params: 69\n",
      "Trainable params: 69\n",
      "Non-trainable params: 0\n",
      "_________________________________________________________________\n"
     ]
    }
   ],
   "source": [
    "model.summary()"
   ]
  },
  {
   "cell_type": "code",
   "execution_count": 43,
   "id": "f82f2c9c",
   "metadata": {},
   "outputs": [
    {
     "name": "stdout",
     "output_type": "stream",
     "text": [
      "Epoch 1/75\n",
      "38/38 [==============================] - 1s 5ms/step - loss: 0.6541 - accuracy: 0.5433 - val_loss: 0.6294 - val_accuracy: 0.7300\n",
      "Epoch 2/75\n",
      "38/38 [==============================] - 0s 2ms/step - loss: 0.6282 - accuracy: 0.8008 - val_loss: 0.6064 - val_accuracy: 0.8667\n",
      "Epoch 3/75\n",
      "38/38 [==============================] - 0s 2ms/step - loss: 0.6024 - accuracy: 0.8542 - val_loss: 0.5785 - val_accuracy: 0.8767\n",
      "Epoch 4/75\n",
      "38/38 [==============================] - 0s 2ms/step - loss: 0.5723 - accuracy: 0.8850 - val_loss: 0.5467 - val_accuracy: 0.8933\n",
      "Epoch 5/75\n",
      "38/38 [==============================] - 0s 2ms/step - loss: 0.5396 - accuracy: 0.8900 - val_loss: 0.5124 - val_accuracy: 0.8933\n",
      "Epoch 6/75\n",
      "38/38 [==============================] - 0s 2ms/step - loss: 0.5051 - accuracy: 0.9025 - val_loss: 0.4800 - val_accuracy: 0.9033\n",
      "Epoch 7/75\n",
      "38/38 [==============================] - 0s 2ms/step - loss: 0.4715 - accuracy: 0.9025 - val_loss: 0.4449 - val_accuracy: 0.8967\n",
      "Epoch 8/75\n",
      "38/38 [==============================] - 0s 2ms/step - loss: 0.4378 - accuracy: 0.9042 - val_loss: 0.4147 - val_accuracy: 0.9033\n",
      "Epoch 9/75\n",
      "38/38 [==============================] - 0s 2ms/step - loss: 0.4056 - accuracy: 0.9133 - val_loss: 0.3808 - val_accuracy: 0.9033\n",
      "Epoch 10/75\n",
      "38/38 [==============================] - 0s 2ms/step - loss: 0.3766 - accuracy: 0.9133 - val_loss: 0.3537 - val_accuracy: 0.9067\n",
      "Epoch 11/75\n",
      "38/38 [==============================] - 0s 2ms/step - loss: 0.3506 - accuracy: 0.9108 - val_loss: 0.3301 - val_accuracy: 0.9067\n",
      "Epoch 12/75\n",
      "38/38 [==============================] - 0s 2ms/step - loss: 0.3287 - accuracy: 0.9117 - val_loss: 0.3081 - val_accuracy: 0.9067\n",
      "Epoch 13/75\n",
      "38/38 [==============================] - 0s 2ms/step - loss: 0.3093 - accuracy: 0.9133 - val_loss: 0.2912 - val_accuracy: 0.9067\n",
      "Epoch 14/75\n",
      "38/38 [==============================] - 0s 2ms/step - loss: 0.2946 - accuracy: 0.9142 - val_loss: 0.2771 - val_accuracy: 0.9100\n",
      "Epoch 15/75\n",
      "38/38 [==============================] - 0s 2ms/step - loss: 0.2794 - accuracy: 0.9142 - val_loss: 0.2645 - val_accuracy: 0.9100\n",
      "Epoch 16/75\n",
      "38/38 [==============================] - 0s 2ms/step - loss: 0.2704 - accuracy: 0.9200 - val_loss: 0.2581 - val_accuracy: 0.9267\n",
      "Epoch 17/75\n",
      "38/38 [==============================] - 0s 2ms/step - loss: 0.2584 - accuracy: 0.9150 - val_loss: 0.2468 - val_accuracy: 0.9200\n",
      "Epoch 18/75\n",
      "38/38 [==============================] - 0s 2ms/step - loss: 0.2503 - accuracy: 0.9167 - val_loss: 0.2388 - val_accuracy: 0.9167\n",
      "Epoch 19/75\n",
      "38/38 [==============================] - 0s 2ms/step - loss: 0.2428 - accuracy: 0.9158 - val_loss: 0.2326 - val_accuracy: 0.9200\n",
      "Epoch 20/75\n",
      "38/38 [==============================] - 0s 2ms/step - loss: 0.2365 - accuracy: 0.9167 - val_loss: 0.2278 - val_accuracy: 0.9233\n",
      "Epoch 21/75\n",
      "38/38 [==============================] - 0s 2ms/step - loss: 0.2310 - accuracy: 0.9183 - val_loss: 0.2230 - val_accuracy: 0.9167\n",
      "Epoch 22/75\n",
      "38/38 [==============================] - 0s 2ms/step - loss: 0.2267 - accuracy: 0.9158 - val_loss: 0.2189 - val_accuracy: 0.9233\n",
      "Epoch 23/75\n",
      "38/38 [==============================] - 0s 2ms/step - loss: 0.2233 - accuracy: 0.9150 - val_loss: 0.2156 - val_accuracy: 0.9167\n",
      "Epoch 24/75\n",
      "38/38 [==============================] - 0s 2ms/step - loss: 0.2192 - accuracy: 0.9175 - val_loss: 0.2131 - val_accuracy: 0.9167\n",
      "Epoch 25/75\n",
      "38/38 [==============================] - 0s 2ms/step - loss: 0.2158 - accuracy: 0.9225 - val_loss: 0.2102 - val_accuracy: 0.9167\n",
      "Epoch 26/75\n",
      "38/38 [==============================] - 0s 2ms/step - loss: 0.2122 - accuracy: 0.9192 - val_loss: 0.2077 - val_accuracy: 0.9200\n",
      "Epoch 27/75\n",
      "38/38 [==============================] - 0s 2ms/step - loss: 0.2099 - accuracy: 0.9217 - val_loss: 0.2065 - val_accuracy: 0.9200\n",
      "Epoch 28/75\n",
      "38/38 [==============================] - 0s 2ms/step - loss: 0.2070 - accuracy: 0.9217 - val_loss: 0.2052 - val_accuracy: 0.9300\n",
      "Epoch 29/75\n",
      "38/38 [==============================] - 0s 2ms/step - loss: 0.2032 - accuracy: 0.9225 - val_loss: 0.2020 - val_accuracy: 0.9167\n",
      "Epoch 30/75\n",
      "38/38 [==============================] - 0s 2ms/step - loss: 0.2005 - accuracy: 0.9242 - val_loss: 0.1992 - val_accuracy: 0.9200\n",
      "Epoch 31/75\n",
      "38/38 [==============================] - 0s 2ms/step - loss: 0.1991 - accuracy: 0.9233 - val_loss: 0.1981 - val_accuracy: 0.9200\n",
      "Epoch 32/75\n",
      "38/38 [==============================] - 0s 2ms/step - loss: 0.1970 - accuracy: 0.9258 - val_loss: 0.1971 - val_accuracy: 0.9267\n",
      "Epoch 33/75\n",
      "38/38 [==============================] - 0s 2ms/step - loss: 0.1953 - accuracy: 0.9233 - val_loss: 0.1970 - val_accuracy: 0.9200\n",
      "Epoch 34/75\n",
      "38/38 [==============================] - 0s 2ms/step - loss: 0.1939 - accuracy: 0.9258 - val_loss: 0.1950 - val_accuracy: 0.9267\n",
      "Epoch 35/75\n",
      "38/38 [==============================] - 0s 2ms/step - loss: 0.1934 - accuracy: 0.9283 - val_loss: 0.1960 - val_accuracy: 0.9267\n",
      "Epoch 36/75\n",
      "38/38 [==============================] - 0s 2ms/step - loss: 0.1906 - accuracy: 0.9267 - val_loss: 0.1952 - val_accuracy: 0.9200\n",
      "Epoch 37/75\n",
      "38/38 [==============================] - 0s 2ms/step - loss: 0.1897 - accuracy: 0.9267 - val_loss: 0.1934 - val_accuracy: 0.9200\n",
      "Epoch 38/75\n",
      "38/38 [==============================] - 0s 2ms/step - loss: 0.1886 - accuracy: 0.9250 - val_loss: 0.1933 - val_accuracy: 0.9167\n",
      "Epoch 39/75\n",
      "38/38 [==============================] - 0s 2ms/step - loss: 0.1881 - accuracy: 0.9258 - val_loss: 0.1925 - val_accuracy: 0.9233\n",
      "Epoch 40/75\n",
      "38/38 [==============================] - 0s 2ms/step - loss: 0.1868 - accuracy: 0.9250 - val_loss: 0.1926 - val_accuracy: 0.9167\n",
      "Epoch 41/75\n",
      "38/38 [==============================] - 0s 2ms/step - loss: 0.1857 - accuracy: 0.9283 - val_loss: 0.1921 - val_accuracy: 0.9233\n",
      "Epoch 42/75\n",
      "38/38 [==============================] - 0s 2ms/step - loss: 0.1844 - accuracy: 0.9267 - val_loss: 0.1929 - val_accuracy: 0.9200\n",
      "Epoch 43/75\n",
      "38/38 [==============================] - 0s 2ms/step - loss: 0.1845 - accuracy: 0.9267 - val_loss: 0.1926 - val_accuracy: 0.9200\n",
      "Epoch 44/75\n",
      "38/38 [==============================] - 0s 2ms/step - loss: 0.1846 - accuracy: 0.9267 - val_loss: 0.1943 - val_accuracy: 0.9167\n",
      "Epoch 45/75\n",
      "38/38 [==============================] - 0s 2ms/step - loss: 0.1849 - accuracy: 0.9267 - val_loss: 0.1924 - val_accuracy: 0.9200\n",
      "Epoch 46/75\n",
      "38/38 [==============================] - 0s 2ms/step - loss: 0.1854 - accuracy: 0.9283 - val_loss: 0.1913 - val_accuracy: 0.9267\n",
      "Epoch 47/75\n",
      "38/38 [==============================] - 0s 2ms/step - loss: 0.1840 - accuracy: 0.9250 - val_loss: 0.1914 - val_accuracy: 0.9233\n",
      "Epoch 48/75\n",
      "38/38 [==============================] - 0s 2ms/step - loss: 0.1817 - accuracy: 0.9250 - val_loss: 0.1912 - val_accuracy: 0.9233\n",
      "Epoch 49/75\n",
      "38/38 [==============================] - 0s 2ms/step - loss: 0.1811 - accuracy: 0.9275 - val_loss: 0.1919 - val_accuracy: 0.9200\n",
      "Epoch 50/75\n",
      "38/38 [==============================] - 0s 2ms/step - loss: 0.1804 - accuracy: 0.9292 - val_loss: 0.1920 - val_accuracy: 0.9200\n",
      "Epoch 51/75\n",
      "38/38 [==============================] - 0s 2ms/step - loss: 0.1795 - accuracy: 0.9258 - val_loss: 0.1909 - val_accuracy: 0.9267\n",
      "Epoch 52/75\n",
      "38/38 [==============================] - 0s 2ms/step - loss: 0.1800 - accuracy: 0.9292 - val_loss: 0.1918 - val_accuracy: 0.9200\n",
      "Epoch 53/75\n",
      "38/38 [==============================] - 0s 2ms/step - loss: 0.1802 - accuracy: 0.9250 - val_loss: 0.1922 - val_accuracy: 0.9167\n",
      "Epoch 54/75\n",
      "38/38 [==============================] - 0s 2ms/step - loss: 0.1813 - accuracy: 0.9233 - val_loss: 0.1935 - val_accuracy: 0.9133\n",
      "Epoch 55/75\n",
      "38/38 [==============================] - 0s 2ms/step - loss: 0.1777 - accuracy: 0.9225 - val_loss: 0.1910 - val_accuracy: 0.9233\n",
      "Epoch 56/75\n",
      "38/38 [==============================] - 0s 2ms/step - loss: 0.1784 - accuracy: 0.9275 - val_loss: 0.1925 - val_accuracy: 0.9133\n",
      "Epoch 57/75\n",
      "38/38 [==============================] - 0s 2ms/step - loss: 0.1783 - accuracy: 0.9225 - val_loss: 0.1911 - val_accuracy: 0.9233\n",
      "Epoch 58/75\n",
      "38/38 [==============================] - 0s 2ms/step - loss: 0.1785 - accuracy: 0.9267 - val_loss: 0.1923 - val_accuracy: 0.9133\n",
      "Epoch 59/75\n",
      "38/38 [==============================] - 0s 2ms/step - loss: 0.1772 - accuracy: 0.9250 - val_loss: 0.1911 - val_accuracy: 0.9233\n",
      "Epoch 60/75\n",
      "38/38 [==============================] - 0s 2ms/step - loss: 0.1772 - accuracy: 0.9242 - val_loss: 0.1915 - val_accuracy: 0.9200\n",
      "Epoch 61/75\n",
      "38/38 [==============================] - 0s 2ms/step - loss: 0.1768 - accuracy: 0.9267 - val_loss: 0.1915 - val_accuracy: 0.9200\n",
      "Epoch 62/75\n",
      "38/38 [==============================] - 0s 2ms/step - loss: 0.1785 - accuracy: 0.9258 - val_loss: 0.1919 - val_accuracy: 0.9100\n",
      "Epoch 63/75\n",
      "38/38 [==============================] - 0s 2ms/step - loss: 0.1765 - accuracy: 0.9233 - val_loss: 0.1922 - val_accuracy: 0.9100\n",
      "Epoch 64/75\n",
      "38/38 [==============================] - 0s 2ms/step - loss: 0.1758 - accuracy: 0.9258 - val_loss: 0.1929 - val_accuracy: 0.9133\n",
      "Epoch 65/75\n",
      "38/38 [==============================] - 0s 2ms/step - loss: 0.1757 - accuracy: 0.9250 - val_loss: 0.1922 - val_accuracy: 0.9133\n",
      "Epoch 66/75\n",
      "38/38 [==============================] - 0s 2ms/step - loss: 0.1759 - accuracy: 0.9217 - val_loss: 0.1925 - val_accuracy: 0.9100\n",
      "Epoch 67/75\n",
      "38/38 [==============================] - 0s 2ms/step - loss: 0.1757 - accuracy: 0.9258 - val_loss: 0.1917 - val_accuracy: 0.9167\n",
      "Epoch 68/75\n",
      "38/38 [==============================] - 0s 2ms/step - loss: 0.1760 - accuracy: 0.9250 - val_loss: 0.1916 - val_accuracy: 0.9200\n",
      "Epoch 69/75\n",
      "38/38 [==============================] - 0s 2ms/step - loss: 0.1755 - accuracy: 0.9258 - val_loss: 0.1919 - val_accuracy: 0.9167\n",
      "Epoch 70/75\n",
      "38/38 [==============================] - 0s 2ms/step - loss: 0.1771 - accuracy: 0.9275 - val_loss: 0.1952 - val_accuracy: 0.9167\n",
      "Epoch 71/75\n",
      "38/38 [==============================] - 0s 2ms/step - loss: 0.1759 - accuracy: 0.9233 - val_loss: 0.1926 - val_accuracy: 0.9100\n",
      "Epoch 72/75\n",
      "38/38 [==============================] - 0s 2ms/step - loss: 0.1752 - accuracy: 0.9267 - val_loss: 0.1927 - val_accuracy: 0.9100\n",
      "Epoch 73/75\n",
      "38/38 [==============================] - 0s 2ms/step - loss: 0.1747 - accuracy: 0.9250 - val_loss: 0.1940 - val_accuracy: 0.9100\n",
      "Epoch 74/75\n",
      "38/38 [==============================] - 0s 2ms/step - loss: 0.1754 - accuracy: 0.9242 - val_loss: 0.1919 - val_accuracy: 0.9200\n",
      "Epoch 75/75\n",
      "38/38 [==============================] - 0s 2ms/step - loss: 0.1756 - accuracy: 0.9233 - val_loss: 0.1926 - val_accuracy: 0.9133\n"
     ]
    }
   ],
   "source": [
    "history = model.fit(X_train, y_train, epochs=75, verbose=1, validation_split=0.2)"
   ]
  },
  {
   "cell_type": "code",
   "execution_count": 90,
   "id": "ff41f47f",
   "metadata": {},
   "outputs": [],
   "source": [
    "y_pred = (model.predict(X_test) > 0.5).astype(\"int32\").ravel()"
   ]
  },
  {
   "cell_type": "code",
   "execution_count": 91,
   "id": "6c4b0ca5",
   "metadata": {},
   "outputs": [
    {
     "data": {
      "text/plain": [
       "array([0, 0, 1, 0, 1, 1, 0, 0, 0, 0], dtype=int32)"
      ]
     },
     "execution_count": 91,
     "metadata": {},
     "output_type": "execute_result"
    }
   ],
   "source": [
    "y_pred[:10]"
   ]
  },
  {
   "cell_type": "code",
   "execution_count": 92,
   "id": "3e101e82",
   "metadata": {},
   "outputs": [
    {
     "data": {
      "text/plain": [
       "array([0, 0, 1, 0, 0, 1, 0, 0, 0, 0])"
      ]
     },
     "execution_count": 92,
     "metadata": {},
     "output_type": "execute_result"
    }
   ],
   "source": [
    "y_test[:10]"
   ]
  },
  {
   "cell_type": "code",
   "execution_count": 93,
   "id": "be0115bb",
   "metadata": {},
   "outputs": [
    {
     "name": "stdout",
     "output_type": "stream",
     "text": [
      "              precision    recall  f1-score   support\n",
      "\n",
      "           0       0.95      0.93      0.94       266\n",
      "           1       0.92      0.94      0.93       234\n",
      "\n",
      "    accuracy                           0.94       500\n",
      "   macro avg       0.94      0.94      0.94       500\n",
      "weighted avg       0.94      0.94      0.94       500\n",
      "\n"
     ]
    }
   ],
   "source": [
    "from sklearn.metrics import classification_report\n",
    "\n",
    "print(classification_report(y_pred, y_test))"
   ]
  },
  {
   "cell_type": "code",
   "execution_count": 95,
   "id": "de5fb95c",
   "metadata": {},
   "outputs": [
    {
     "data": {
      "text/plain": [
       "<matplotlib.legend.Legend at 0x7f71f8728da0>"
      ]
     },
     "execution_count": 95,
     "metadata": {},
     "output_type": "execute_result"
    },
    {
     "data": {
      "image/png": "[encoded data removed]",
      "text/plain": [
       "<Figure size 720x720 with 2 Axes>"
      ]
     },
     "metadata": {
      "needs_background": "light"
     },
     "output_type": "display_data"
    }
   ],
   "source": [
    "fig = plt.figure(figsize=(10,10))\n",
    "\n",
    "# total_rows, total_columns, subplot_index(1st, 2nd, etc..)\n",
    "plt.subplot(2, 2, 1)\n",
    "plt.title(\"Accuracy\", fontsize=15)\n",
    "plt.xlabel(\"Epochs\", fontsize=15)\n",
    "plt.ylabel(\"Accuracy (%)\", fontsize=15)\n",
    "plt.plot(history.history[\"val_accuracy\"], label='Validation Accuracy', linestyle='dashed')\n",
    "plt.plot(history.history[\"accuracy\"], label='Training Accuracy')\n",
    "plt.legend([\"Validation\", \"Training\"], loc=\"lower right\")\n",
    "\n",
    "plt.subplot(2, 2, 2)\n",
    "plt.title(\"Loss\", fontsize=15)\n",
    "plt.xlabel(\"Epochs\", fontsize=15)\n",
    "plt.ylabel(\"Loss\", fontsize=15)\n",
    "plt.plot(history.history[\"val_loss\"], label='Validation loss', linestyle='dashed')\n",
    "plt.plot(history.history[\"loss\"], label='Training loss')\n",
    "plt.legend([\"Validation\", \"Training\"], loc=\"upper right\")"
   ]
  },
  {
   "cell_type": "code",
   "execution_count": null,
   "id": "5fcd3ee6",
   "metadata": {},
   "outputs": [],
   "source": []
  },
  {
   "cell_type": "code",
   "execution_count": null,
   "id": "797ea87a",
   "metadata": {},
   "outputs": [],
   "source": []
  },
  {
   "cell_type": "code",
   "execution_count": null,
   "id": "fd8c3a10",
   "metadata": {},
   "outputs": [],
   "source": []
  }
 ],
 "metadata": {
  "kernelspec": {
   "display_name": "conda_python3",
   "language": "python",
   "name": "conda_python3"
  },
  "language_info": {
   "codemirror_mode": {
    "name": "ipython",
    "version": 3
   },
   "file_extension": ".py",
   "mimetype": "text/x-python",
   "name": "python",
   "nbconvert_exporter": "python",
   "pygments_lexer": "ipython3",
   "version": "3.6.13"
  }
 },
 "nbformat": 4,
 "nbformat_minor": 5
}
