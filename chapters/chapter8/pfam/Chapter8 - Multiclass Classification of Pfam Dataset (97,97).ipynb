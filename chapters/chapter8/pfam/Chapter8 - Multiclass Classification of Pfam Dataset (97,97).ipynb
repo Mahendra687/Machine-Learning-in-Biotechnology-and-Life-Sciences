{
 "cells": [
  {
   "cell_type": "markdown",
   "metadata": {},
   "source": [
    "### Tutorial: Pfam Protein Sequence Classification 1"
   ]
  },
  {
   "cell_type": "code",
   "execution_count": 3,
   "metadata": {},
   "outputs": [],
   "source": [
    "import pandas as pd\n",
    "import numpy as np\n",
    "from tensorflow.keras.utils import to_categorical\n",
    "\n",
    "import matplotlib.pyplot as plt\n",
    "import seaborn as sns\n",
    "sns.set_style(\"darkgrid\")\n",
    "\n",
    "import os"
   ]
  },
  {
   "cell_type": "code",
   "execution_count": 4,
   "metadata": {},
   "outputs": [],
   "source": [
    "df = pd.read_csv(\"../../../datasets/dataset_pfam_seq_sd.csv\")"
   ]
  },
  {
   "cell_type": "code",
   "execution_count": 5,
   "metadata": {},
   "outputs": [
    {
     "data": {
      "text/plain": [
       "(1339083, 5)"
      ]
     },
     "execution_count": 5,
     "metadata": {},
     "output_type": "execute_result"
    }
   ],
   "source": [
    "df.shape"
   ]
  },
  {
   "cell_type": "code",
   "execution_count": 6,
   "metadata": {},
   "outputs": [
    {
     "data": {
      "text/html": [
       "<div>\n",
       "<style scoped>\n",
       "    .dataframe tbody tr th:only-of-type {\n",
       "        vertical-align: middle;\n",
       "    }\n",
       "\n",
       "    .dataframe tbody tr th {\n",
       "        vertical-align: top;\n",
       "    }\n",
       "\n",
       "    .dataframe thead th {\n",
       "        text-align: right;\n",
       "    }\n",
       "</style>\n",
       "<table border=\"1\" class=\"dataframe\">\n",
       "  <thead>\n",
       "    <tr style=\"text-align: right;\">\n",
       "      <th></th>\n",
       "      <th>family_id</th>\n",
       "      <th>sequence_name</th>\n",
       "      <th>family_accession</th>\n",
       "      <th>aligned_sequence</th>\n",
       "      <th>sequence</th>\n",
       "    </tr>\n",
       "  </thead>\n",
       "  <tbody>\n",
       "    <tr>\n",
       "      <th>0</th>\n",
       "      <td>GMC_oxred_C</td>\n",
       "      <td>A4WZS5_RHOS5/416-539</td>\n",
       "      <td>PF05199.13</td>\n",
       "      <td>PHPE.SRIRLST.RRDAHGMP.....IP.RIESRLGP............</td>\n",
       "      <td>PHPESRIRLSTRRDAHGMPIPRIESRLGPDAFARLRFMARTCRAIL...</td>\n",
       "    </tr>\n",
       "    <tr>\n",
       "      <th>1</th>\n",
       "      <td>DUF2887</td>\n",
       "      <td>K9QI92_9NOSO/3-203</td>\n",
       "      <td>PF11103.8</td>\n",
       "      <td>RDSIYYQIFKRFPALIFEL..VD.NRPPQAQNYRFESVEVKETAFR...</td>\n",
       "      <td>RDSIYYQIFKRFPALIFELVDNRPPQAQNYRFESVEVKETAFRIDG...</td>\n",
       "    </tr>\n",
       "    <tr>\n",
       "      <th>2</th>\n",
       "      <td>zf-IS66</td>\n",
       "      <td>Q92LC9_RHIME/32-75</td>\n",
       "      <td>PF13005.7</td>\n",
       "      <td>.TCCPDCGG.E..LRLVGED.AS....EILDMI.AAQMKVIEVARL...</td>\n",
       "      <td>TCCPDCGGELRLVGEDASEILDMIAAQMKVIEVARLKKSCRCCE</td>\n",
       "    </tr>\n",
       "    <tr>\n",
       "      <th>3</th>\n",
       "      <td>Asp_decarbox</td>\n",
       "      <td>X2GQZ4_9BACI/1-115</td>\n",
       "      <td>PF02261.16</td>\n",
       "      <td>MLRMMMNSKIHRATVTEADLNYVGSITIDEDILDAVGMLPNEKVHI...</td>\n",
       "      <td>MLRMMMNSKIHRATVTEADLNYVGSITIDEDILDAVGMLPNEKVHI...</td>\n",
       "    </tr>\n",
       "    <tr>\n",
       "      <th>4</th>\n",
       "      <td>Filamin</td>\n",
       "      <td>A7SQM3_NEMVE/342-439</td>\n",
       "      <td>PF00630.19</td>\n",
       "      <td>TACPKQ.CTA....RGLG.............LK.AAPVT.QPT..R...</td>\n",
       "      <td>TACPKQCTARGLGLKAAPVTQPTRFVVILNDCHGQPLGRSEGELEV...</td>\n",
       "    </tr>\n",
       "  </tbody>\n",
       "</table>\n",
       "</div>"
      ],
      "text/plain": [
       "      family_id         sequence_name family_accession  \\\n",
       "0   GMC_oxred_C  A4WZS5_RHOS5/416-539       PF05199.13   \n",
       "1       DUF2887    K9QI92_9NOSO/3-203        PF11103.8   \n",
       "2       zf-IS66    Q92LC9_RHIME/32-75        PF13005.7   \n",
       "3  Asp_decarbox    X2GQZ4_9BACI/1-115       PF02261.16   \n",
       "4       Filamin  A7SQM3_NEMVE/342-439       PF00630.19   \n",
       "\n",
       "                                    aligned_sequence  \\\n",
       "0  PHPE.SRIRLST.RRDAHGMP.....IP.RIESRLGP............   \n",
       "1  RDSIYYQIFKRFPALIFEL..VD.NRPPQAQNYRFESVEVKETAFR...   \n",
       "2  .TCCPDCGG.E..LRLVGED.AS....EILDMI.AAQMKVIEVARL...   \n",
       "3  MLRMMMNSKIHRATVTEADLNYVGSITIDEDILDAVGMLPNEKVHI...   \n",
       "4  TACPKQ.CTA....RGLG.............LK.AAPVT.QPT..R...   \n",
       "\n",
       "                                            sequence  \n",
       "0  PHPESRIRLSTRRDAHGMPIPRIESRLGPDAFARLRFMARTCRAIL...  \n",
       "1  RDSIYYQIFKRFPALIFELVDNRPPQAQNYRFESVEVKETAFRIDG...  \n",
       "2       TCCPDCGGELRLVGEDASEILDMIAAQMKVIEVARLKKSCRCCE  \n",
       "3  MLRMMMNSKIHRATVTEADLNYVGSITIDEDILDAVGMLPNEKVHI...  \n",
       "4  TACPKQCTARGLGLKAAPVTQPTRFVVILNDCHGQPLGRSEGELEV...  "
      ]
     },
     "execution_count": 6,
     "metadata": {},
     "output_type": "execute_result"
    }
   ],
   "source": [
    "df.head()"
   ]
  },
  {
   "cell_type": "code",
   "execution_count": 7,
   "metadata": {},
   "outputs": [
    {
     "data": {
      "text/plain": [
       "family_id           0\n",
       "sequence_name       0\n",
       "family_accession    0\n",
       "aligned_sequence    0\n",
       "sequence            0\n",
       "dtype: int64"
      ]
     },
     "execution_count": 7,
     "metadata": {},
     "output_type": "execute_result"
    }
   ],
   "source": [
    "df.isna().sum()"
   ]
  },
  {
   "cell_type": "code",
   "execution_count": 8,
   "metadata": {},
   "outputs": [
    {
     "data": {
      "text/plain": [
       "family_id        family_id      \n",
       "Methyltransf_25  Methyltransf_25    4545\n",
       "LRR_1            LRR_1              2407\n",
       "Acetyltransf_7   Acetyltransf_7     2199\n",
       "His_kinase       His_kinase         1921\n",
       "Bac_transf       Bac_transf         1908\n",
       "Lum_binding      Lum_binding        1878\n",
       "DNA_binding_1    DNA_binding_1      1681\n",
       "Chromate_transp  Chromate_transp    1579\n",
       "Lipase_GDSL_2    Lipase_GDSL_2      1564\n",
       "DnaJ_CXXCXGXG    DnaJ_CXXCXGXG      1512\n",
       "Name: family_id, dtype: int64"
      ]
     },
     "execution_count": 8,
     "metadata": {},
     "output_type": "execute_result"
    }
   ],
   "source": [
    "df[\"family_id\"].groupby(df[\"family_id\"]).value_counts().nlargest(10)"
   ]
  },
  {
   "cell_type": "code",
   "execution_count": 9,
   "metadata": {},
   "outputs": [
    {
     "data": {
      "text/plain": [
       "family_accession  family_accession\n",
       "PF13649.6         PF13649.6           4545\n",
       "PF00560.33        PF00560.33          2407\n",
       "PF13508.7         PF13508.7           2199\n",
       "PF06580.13        PF06580.13          1921\n",
       "PF02397.16        PF02397.16          1908\n",
       "PF00677.17        PF00677.17          1878\n",
       "PF01035.20        PF01035.20          1681\n",
       "PF02417.15        PF02417.15          1579\n",
       "PF13472.6         PF13472.6           1564\n",
       "PF00684.19        PF00684.19          1512\n",
       "Name: family_accession, dtype: int64"
      ]
     },
     "execution_count": 9,
     "metadata": {},
     "output_type": "execute_result"
    }
   ],
   "source": [
    "df[\"family_accession\"].groupby(df[\"family_accession\"]).value_counts().nlargest(10)"
   ]
  },
  {
   "cell_type": "code",
   "execution_count": 48,
   "metadata": {},
   "outputs": [
    {
     "data": {
      "text/plain": [
       "<seaborn.axisgrid.FacetGrid at 0x2185f0fbfa0>"
      ]
     },
     "execution_count": 48,
     "metadata": {},
     "output_type": "execute_result"
    },
    {
     "data": {
      "image/png": "[encoded data removed]",
      "text/plain": [
       "<Figure size 576x288 with 1 Axes>"
      ]
     },
     "metadata": {},
     "output_type": "display_data"
    }
   ],
   "source": [
    "sns.displot(df[\"sequence\"].apply(lambda x: len(x)), bins=75, height=4, aspect=2)"
   ]
  },
  {
   "cell_type": "code",
   "execution_count": 11,
   "metadata": {},
   "outputs": [
    {
     "data": {
      "text/plain": [
       "155.15658103343856"
      ]
     },
     "execution_count": 11,
     "metadata": {},
     "output_type": "execute_result"
    }
   ],
   "source": [
    "df[\"sequence\"].str.len().mean()"
   ]
  },
  {
   "cell_type": "code",
   "execution_count": 12,
   "metadata": {},
   "outputs": [
    {
     "data": {
      "text/plain": [
       "4"
      ]
     },
     "execution_count": 12,
     "metadata": {},
     "output_type": "execute_result"
    }
   ],
   "source": [
    "df[\"sequence\"].str.len().min()"
   ]
  },
  {
   "cell_type": "code",
   "execution_count": 13,
   "metadata": {},
   "outputs": [
    {
     "data": {
      "text/plain": [
       "2037"
      ]
     },
     "execution_count": 13,
     "metadata": {},
     "output_type": "execute_result"
    }
   ],
   "source": [
    "df[\"sequence\"].str.len().max()"
   ]
  },
  {
   "cell_type": "code",
   "execution_count": 14,
   "metadata": {},
   "outputs": [
    {
     "data": {
      "text/plain": [
       "119.0"
      ]
     },
     "execution_count": 14,
     "metadata": {},
     "output_type": "execute_result"
    }
   ],
   "source": [
    "df[\"sequence\"].str.len().median()"
   ]
  },
  {
   "cell_type": "code",
   "execution_count": 15,
   "metadata": {},
   "outputs": [],
   "source": [
    "df_filt = df.groupby(\"family_accession\").filter(lambda x: len(x) > 1200)"
   ]
  },
  {
   "cell_type": "code",
   "execution_count": 16,
   "metadata": {},
   "outputs": [
    {
     "data": {
      "text/html": [
       "<div>\n",
       "<style scoped>\n",
       "    .dataframe tbody tr th:only-of-type {\n",
       "        vertical-align: middle;\n",
       "    }\n",
       "\n",
       "    .dataframe tbody tr th {\n",
       "        vertical-align: top;\n",
       "    }\n",
       "\n",
       "    .dataframe thead th {\n",
       "        text-align: right;\n",
       "    }\n",
       "</style>\n",
       "<table border=\"1\" class=\"dataframe\">\n",
       "  <thead>\n",
       "    <tr style=\"text-align: right;\">\n",
       "      <th></th>\n",
       "      <th>family_id</th>\n",
       "      <th>sequence_name</th>\n",
       "      <th>family_accession</th>\n",
       "      <th>aligned_sequence</th>\n",
       "      <th>sequence</th>\n",
       "    </tr>\n",
       "  </thead>\n",
       "  <tbody>\n",
       "    <tr>\n",
       "      <th>8</th>\n",
       "      <td>His_kinase</td>\n",
       "      <td>Q47E94_DECAR/372-450</td>\n",
       "      <td>PF06580.13</td>\n",
       "      <td>SE.I..KLLHAQVNPHFLFNALNTL......S....AV...I.......</td>\n",
       "      <td>SEIKLLHAQVNPHFLFNALNTLSAVIRRDPEKACHLVLNLSTFFRK...</td>\n",
       "    </tr>\n",
       "    <tr>\n",
       "      <th>29</th>\n",
       "      <td>Bac_transf</td>\n",
       "      <td>D3EZT3_CONWI/319-507</td>\n",
       "      <td>PF02397.16</td>\n",
       "      <td>KRTFDLIG.SL.....LLLT.L.L.S...P.L.L...L....T......</td>\n",
       "      <td>KRTFDLIGSLLLLTLLSPLLLTLSLAVKLSSRGPVFYRSTRPGIGG...</td>\n",
       "    </tr>\n",
       "    <tr>\n",
       "      <th>57</th>\n",
       "      <td>WD40</td>\n",
       "      <td>O48679_ARATH/318-354</td>\n",
       "      <td>PF00400.32</td>\n",
       "      <td>MSVVGA..L....R.....GH....RKA.............I...M...</td>\n",
       "      <td>MSVVGALRGHRKAIMCLAVASDLVLSGSADKSLRVWR</td>\n",
       "    </tr>\n",
       "    <tr>\n",
       "      <th>103</th>\n",
       "      <td>Glycos_trans_3N</td>\n",
       "      <td>A0A068Y394_ECHMU/7-69</td>\n",
       "      <td>PF02885.17</td>\n",
       "      <td>SGILSKKANG....G..SLSSTEIDYYTKEL..AE.DN...........</td>\n",
       "      <td>SGILSKKANGGSLSSTEIDYYTKELAEDNVNIAQIGAFLMAVFTRG...</td>\n",
       "    </tr>\n",
       "    <tr>\n",
       "      <th>120</th>\n",
       "      <td>Chromate_transp</td>\n",
       "      <td>D5EXG9_PRER2/4-187</td>\n",
       "      <td>PF02417.15</td>\n",
       "      <td>VSLFITFFEIGLFGFGGGYGML.SLIQHET........VE.........</td>\n",
       "      <td>VSLFITFFEIGLFGFGGGYGMLSLIQHETVEAHHWLSTSEFTDIVA...</td>\n",
       "    </tr>\n",
       "    <tr>\n",
       "      <th>...</th>\n",
       "      <td>...</td>\n",
       "      <td>...</td>\n",
       "      <td>...</td>\n",
       "      <td>...</td>\n",
       "      <td>...</td>\n",
       "    </tr>\n",
       "    <tr>\n",
       "      <th>1338917</th>\n",
       "      <td>DHH</td>\n",
       "      <td>R7FC58_9FIRM/344-498</td>\n",
       "      <td>PF01368.20</td>\n",
       "      <td>QVFL.MGHRFGDLDSIGS.ACGLAG........................</td>\n",
       "      <td>QVFLMGHRFGDLDSIGSACGLAGAVRLMRKPAYVVVSRQSCLATQL...</td>\n",
       "    </tr>\n",
       "    <tr>\n",
       "      <th>1338932</th>\n",
       "      <td>HTH_1</td>\n",
       "      <td>Q98N95_RHILO/3-62</td>\n",
       "      <td>PF00126.27</td>\n",
       "      <td>LEALADFNLVAAHG.GFGRAGR.ISGR...SKATLSRHVNELEH.S...</td>\n",
       "      <td>LEALADFNLVAAHGGFGRAGRISGRSKATLSRHVNELEHSLGVRLI...</td>\n",
       "    </tr>\n",
       "    <tr>\n",
       "      <th>1338989</th>\n",
       "      <td>MutS_III</td>\n",
       "      <td>I0IH70_PHYMF/275-582</td>\n",
       "      <td>PF05192.18</td>\n",
       "      <td>ASLASLEV.VR................TQAAAGA...............</td>\n",
       "      <td>ASLASLEVVRTQAAAGASGETAGSLLGVLSGNGKATRTPMGGRLLR...</td>\n",
       "    </tr>\n",
       "    <tr>\n",
       "      <th>1339027</th>\n",
       "      <td>Chromate_transp</td>\n",
       "      <td>R5XL48_9FIRM/4-177</td>\n",
       "      <td>PF02417.15</td>\n",
       "      <td>LKLFLSFLQIGLFSFGGGYAAM.PFIRDQV........VV.........</td>\n",
       "      <td>LKLFLSFLQIGLFSFGGGYAAMPFIRDQVVVQNSWLSMQEFTDLIT...</td>\n",
       "    </tr>\n",
       "    <tr>\n",
       "      <th>1339072</th>\n",
       "      <td>AIRS</td>\n",
       "      <td>F9VEB0_LACGL/446-564</td>\n",
       "      <td>PF00586.24</td>\n",
       "      <td>SD......AA.......................................</td>\n",
       "      <td>SDAAVIRLRHSNKALAMTTDCNARYLYLNPEIGGQIAVAEAARNII...</td>\n",
       "    </tr>\n",
       "  </tbody>\n",
       "</table>\n",
       "<p>45363 rows × 5 columns</p>\n",
       "</div>"
      ],
      "text/plain": [
       "               family_id          sequence_name family_accession  \\\n",
       "8             His_kinase   Q47E94_DECAR/372-450       PF06580.13   \n",
       "29            Bac_transf   D3EZT3_CONWI/319-507       PF02397.16   \n",
       "57                  WD40   O48679_ARATH/318-354       PF00400.32   \n",
       "103      Glycos_trans_3N  A0A068Y394_ECHMU/7-69       PF02885.17   \n",
       "120      Chromate_transp     D5EXG9_PRER2/4-187       PF02417.15   \n",
       "...                  ...                    ...              ...   \n",
       "1338917              DHH   R7FC58_9FIRM/344-498       PF01368.20   \n",
       "1338932            HTH_1      Q98N95_RHILO/3-62       PF00126.27   \n",
       "1338989         MutS_III   I0IH70_PHYMF/275-582       PF05192.18   \n",
       "1339027  Chromate_transp     R5XL48_9FIRM/4-177       PF02417.15   \n",
       "1339072             AIRS   F9VEB0_LACGL/446-564       PF00586.24   \n",
       "\n",
       "                                          aligned_sequence  \\\n",
       "8        SE.I..KLLHAQVNPHFLFNALNTL......S....AV...I.......   \n",
       "29       KRTFDLIG.SL.....LLLT.L.L.S...P.L.L...L....T......   \n",
       "57       MSVVGA..L....R.....GH....RKA.............I...M...   \n",
       "103      SGILSKKANG....G..SLSSTEIDYYTKEL..AE.DN...........   \n",
       "120      VSLFITFFEIGLFGFGGGYGML.SLIQHET........VE.........   \n",
       "...                                                    ...   \n",
       "1338917  QVFL.MGHRFGDLDSIGS.ACGLAG........................   \n",
       "1338932  LEALADFNLVAAHG.GFGRAGR.ISGR...SKATLSRHVNELEH.S...   \n",
       "1338989  ASLASLEV.VR................TQAAAGA...............   \n",
       "1339027  LKLFLSFLQIGLFSFGGGYAAM.PFIRDQV........VV.........   \n",
       "1339072  SD......AA.......................................   \n",
       "\n",
       "                                                  sequence  \n",
       "8        SEIKLLHAQVNPHFLFNALNTLSAVIRRDPEKACHLVLNLSTFFRK...  \n",
       "29       KRTFDLIGSLLLLTLLSPLLLTLSLAVKLSSRGPVFYRSTRPGIGG...  \n",
       "57                   MSVVGALRGHRKAIMCLAVASDLVLSGSADKSLRVWR  \n",
       "103      SGILSKKANGGSLSSTEIDYYTKELAEDNVNIAQIGAFLMAVFTRG...  \n",
       "120      VSLFITFFEIGLFGFGGGYGMLSLIQHETVEAHHWLSTSEFTDIVA...  \n",
       "...                                                    ...  \n",
       "1338917  QVFLMGHRFGDLDSIGSACGLAGAVRLMRKPAYVVVSRQSCLATQL...  \n",
       "1338932  LEALADFNLVAAHGGFGRAGRISGRSKATLSRHVNELEHSLGVRLI...  \n",
       "1338989  ASLASLEVVRTQAAAGASGETAGSLLGVLSGNGKATRTPMGGRLLR...  \n",
       "1339027  LKLFLSFLQIGLFSFGGGYAAMPFIRDQVVVQNSWLSMQEFTDLIT...  \n",
       "1339072  SDAAVIRLRHSNKALAMTTDCNARYLYLNPEIGGQIAVAEAARNII...  \n",
       "\n",
       "[45363 rows x 5 columns]"
      ]
     },
     "execution_count": 16,
     "metadata": {},
     "output_type": "execute_result"
    }
   ],
   "source": [
    "df_filt"
   ]
  },
  {
   "cell_type": "code",
   "execution_count": 17,
   "metadata": {},
   "outputs": [
    {
     "data": {
      "text/plain": [
       "PF06580.13    1200\n",
       "PF01523.16    1200\n",
       "PF02881.19    1200\n",
       "PF01255.19    1200\n",
       "PF02397.16    1200\n",
       "PF00586.24    1200\n",
       "PF00400.32    1200\n",
       "PF02885.17    1200\n",
       "PF01368.20    1200\n",
       "PF02729.21    1200\n",
       "PF00763.23    1200\n",
       "PF01725.16    1200\n",
       "PF00677.17    1200\n",
       "PF13508.7     1200\n",
       "PF02417.15    1200\n",
       "PF02545.14    1200\n",
       "PF05192.18    1200\n",
       "PF01035.20    1200\n",
       "PF01799.20    1200\n",
       "PF01715.17    1200\n",
       "PF00684.19    1200\n",
       "PF00126.27    1200\n",
       "PF13472.6     1200\n",
       "PF00560.33    1200\n",
       "PF03484.15    1200\n",
       "PF03453.17    1200\n",
       "PF00391.23    1200\n",
       "PF13649.6     1200\n",
       "Name: family_accession, dtype: int64"
      ]
     },
     "execution_count": 17,
     "metadata": {},
     "output_type": "execute_result"
    }
   ],
   "source": [
    "df_bal = df_filt.groupby('family_accession').apply(lambda x: x.sample(1200))\n",
    "df_bal.family_accession.value_counts()"
   ]
  },
  {
   "cell_type": "code",
   "execution_count": 18,
   "metadata": {},
   "outputs": [
    {
     "data": {
      "text/html": [
       "<div>\n",
       "<style scoped>\n",
       "    .dataframe tbody tr th:only-of-type {\n",
       "        vertical-align: middle;\n",
       "    }\n",
       "\n",
       "    .dataframe tbody tr th {\n",
       "        vertical-align: top;\n",
       "    }\n",
       "\n",
       "    .dataframe thead th {\n",
       "        text-align: right;\n",
       "    }\n",
       "</style>\n",
       "<table border=\"1\" class=\"dataframe\">\n",
       "  <thead>\n",
       "    <tr style=\"text-align: right;\">\n",
       "      <th></th>\n",
       "      <th></th>\n",
       "      <th>family_id</th>\n",
       "      <th>sequence_name</th>\n",
       "      <th>family_accession</th>\n",
       "      <th>aligned_sequence</th>\n",
       "      <th>sequence</th>\n",
       "    </tr>\n",
       "    <tr>\n",
       "      <th>family_accession</th>\n",
       "      <th></th>\n",
       "      <th></th>\n",
       "      <th></th>\n",
       "      <th></th>\n",
       "      <th></th>\n",
       "      <th></th>\n",
       "    </tr>\n",
       "  </thead>\n",
       "  <tbody>\n",
       "    <tr>\n",
       "      <th rowspan=\"5\" valign=\"top\">PF00126.27</th>\n",
       "      <th>1163177</th>\n",
       "      <td>HTH_1</td>\n",
       "      <td>Q88J16_PSEPK/16-75</td>\n",
       "      <td>PF00126.27</td>\n",
       "      <td>YKHLVLIDTLARTR.NMHATAT.RMNL...SQPALSKMLRDLEE.Q...</td>\n",
       "      <td>YKHLVLIDTLARTRNMHATATRMNLSQPALSKMLRDLEEQFGFALF...</td>\n",
       "    </tr>\n",
       "    <tr>\n",
       "      <th>897198</th>\n",
       "      <td>HTH_1</td>\n",
       "      <td>A1W2J5_ACISJ/3-62</td>\n",
       "      <td>PF00126.27</td>\n",
       "      <td>LRDLRHFLAVAEEG.HIGRAAA.RLHL...SQPPLTRHIQALEE.K...</td>\n",
       "      <td>LRDLRHFLAVAEEGHIGRAAARLHLSQPPLTRHIQALEEKIGVPLF...</td>\n",
       "    </tr>\n",
       "    <tr>\n",
       "      <th>311700</th>\n",
       "      <td>HTH_1</td>\n",
       "      <td>A9CFQ6_AGRFC/4-63</td>\n",
       "      <td>PF00126.27</td>\n",
       "      <td>RQHLSILREVDRMG.SLTAAAE.RLNV...SQSALSHTIRKLED.R...</td>\n",
       "      <td>RQHLSILREVDRMGSLTAAAERLNVSQSALSHTIRKLEDRYGVAMW...</td>\n",
       "    </tr>\n",
       "    <tr>\n",
       "      <th>1153531</th>\n",
       "      <td>HTH_1</td>\n",
       "      <td>Q93RT2_STRCO/8-67</td>\n",
       "      <td>PF00126.27</td>\n",
       "      <td>LNLVVALRALLEER.NVTRAGQ.RVGL...SQPAMSAALARLRR.H...</td>\n",
       "      <td>LNLVVALRALLEERNVTRAGQRVGLSQPAMSAALARLRRHFDDDLL...</td>\n",
       "    </tr>\n",
       "    <tr>\n",
       "      <th>817674</th>\n",
       "      <td>HTH_1</td>\n",
       "      <td>Q9KQQ1_VIBCH/18-77</td>\n",
       "      <td>PF00126.27</td>\n",
       "      <td>LKRIVIFNKVVECG.SFTCAAE.ALGM...TKSKVSEQITALEK.T...</td>\n",
       "      <td>LKRIVIFNKVVECGSFTCAAEALGMTKSKVSEQITALEKTLNVRLL...</td>\n",
       "    </tr>\n",
       "  </tbody>\n",
       "</table>\n",
       "</div>"
      ],
      "text/plain": [
       "                         family_id       sequence_name family_accession  \\\n",
       "family_accession                                                          \n",
       "PF00126.27       1163177     HTH_1  Q88J16_PSEPK/16-75       PF00126.27   \n",
       "                 897198      HTH_1   A1W2J5_ACISJ/3-62       PF00126.27   \n",
       "                 311700      HTH_1   A9CFQ6_AGRFC/4-63       PF00126.27   \n",
       "                 1153531     HTH_1   Q93RT2_STRCO/8-67       PF00126.27   \n",
       "                 817674      HTH_1  Q9KQQ1_VIBCH/18-77       PF00126.27   \n",
       "\n",
       "                                                           aligned_sequence  \\\n",
       "family_accession                                                              \n",
       "PF00126.27       1163177  YKHLVLIDTLARTR.NMHATAT.RMNL...SQPALSKMLRDLEE.Q...   \n",
       "                 897198   LRDLRHFLAVAEEG.HIGRAAA.RLHL...SQPPLTRHIQALEE.K...   \n",
       "                 311700   RQHLSILREVDRMG.SLTAAAE.RLNV...SQSALSHTIRKLED.R...   \n",
       "                 1153531  LNLVVALRALLEER.NVTRAGQ.RVGL...SQPAMSAALARLRR.H...   \n",
       "                 817674   LKRIVIFNKVVECG.SFTCAAE.ALGM...TKSKVSEQITALEK.T...   \n",
       "\n",
       "                                                                   sequence  \n",
       "family_accession                                                             \n",
       "PF00126.27       1163177  YKHLVLIDTLARTRNMHATATRMNLSQPALSKMLRDLEEQFGFALF...  \n",
       "                 897198   LRDLRHFLAVAEEGHIGRAAARLHLSQPPLTRHIQALEEKIGVPLF...  \n",
       "                 311700   RQHLSILREVDRMGSLTAAAERLNVSQSALSHTIRKLEDRYGVAMW...  \n",
       "                 1153531  LNLVVALRALLEERNVTRAGQRVGLSQPAMSAALARLRRHFDDDLL...  \n",
       "                 817674   LKRIVIFNKVVECGSFTCAAEALGMTKSKVSEQITALEKTLNVRLL...  "
      ]
     },
     "execution_count": 18,
     "metadata": {},
     "output_type": "execute_result"
    }
   ],
   "source": [
    "df_bal.head()"
   ]
  },
  {
   "cell_type": "code",
   "execution_count": 57,
   "metadata": {},
   "outputs": [
    {
     "data": {
      "text/html": [
       "<div>\n",
       "<style scoped>\n",
       "    .dataframe tbody tr th:only-of-type {\n",
       "        vertical-align: middle;\n",
       "    }\n",
       "\n",
       "    .dataframe tbody tr th {\n",
       "        vertical-align: top;\n",
       "    }\n",
       "\n",
       "    .dataframe thead th {\n",
       "        text-align: right;\n",
       "    }\n",
       "</style>\n",
       "<table border=\"1\" class=\"dataframe\">\n",
       "  <thead>\n",
       "    <tr style=\"text-align: right;\">\n",
       "      <th></th>\n",
       "      <th>family_accession</th>\n",
       "      <th>sequence</th>\n",
       "    </tr>\n",
       "  </thead>\n",
       "  <tbody>\n",
       "    <tr>\n",
       "      <th>0</th>\n",
       "      <td>PF00126.27</td>\n",
       "      <td>YKHLVLIDTLARTRNMHATATRMNLSQPALSKMLRDLEEQFGFALF...</td>\n",
       "    </tr>\n",
       "    <tr>\n",
       "      <th>1</th>\n",
       "      <td>PF00126.27</td>\n",
       "      <td>LRDLRHFLAVAEEGHIGRAAARLHLSQPPLTRHIQALEEKIGVPLF...</td>\n",
       "    </tr>\n",
       "    <tr>\n",
       "      <th>2</th>\n",
       "      <td>PF00126.27</td>\n",
       "      <td>RQHLSILREVDRMGSLTAAAERLNVSQSALSHTIRKLEDRYGVAMW...</td>\n",
       "    </tr>\n",
       "    <tr>\n",
       "      <th>3</th>\n",
       "      <td>PF00126.27</td>\n",
       "      <td>LNLVVALRALLEERNVTRAGQRVGLSQPAMSAALARLRRHFDDDLL...</td>\n",
       "    </tr>\n",
       "    <tr>\n",
       "      <th>4</th>\n",
       "      <td>PF00126.27</td>\n",
       "      <td>LKRIVIFNKVVECGSFTCAAEALGMTKSKVSEQITALEKTLNVRLL...</td>\n",
       "    </tr>\n",
       "  </tbody>\n",
       "</table>\n",
       "</div>"
      ],
      "text/plain": [
       "  family_accession                                           sequence\n",
       "0       PF00126.27  YKHLVLIDTLARTRNMHATATRMNLSQPALSKMLRDLEEQFGFALF...\n",
       "1       PF00126.27  LRDLRHFLAVAEEGHIGRAAARLHLSQPPLTRHIQALEEKIGVPLF...\n",
       "2       PF00126.27  RQHLSILREVDRMGSLTAAAERLNVSQSALSHTIRKLEDRYGVAMW...\n",
       "3       PF00126.27  LNLVVALRALLEERNVTRAGQRVGLSQPAMSAALARLRRHFDDDLL...\n",
       "4       PF00126.27  LKRIVIFNKVVECGSFTCAAEALGMTKSKVSEQITALEKTLNVRLL..."
      ]
     },
     "execution_count": 57,
     "metadata": {},
     "output_type": "execute_result"
    }
   ],
   "source": [
    "df_red = df_bal[[\"family_accession\", \"sequence\"]].reset_index(drop=True)\n",
    "df_red.head()"
   ]
  },
  {
   "cell_type": "code",
   "execution_count": 20,
   "metadata": {},
   "outputs": [
    {
     "data": {
      "text/plain": [
       "28"
      ]
     },
     "execution_count": 20,
     "metadata": {},
     "output_type": "execute_result"
    }
   ],
   "source": [
    "num_classes = len(df_red.family_accession.value_counts())\n",
    "num_classes"
   ]
  },
  {
   "cell_type": "code",
   "execution_count": 21,
   "metadata": {},
   "outputs": [
    {
     "data": {
      "text/plain": [
       "PF06580.13    1200\n",
       "PF01523.16    1200\n",
       "PF02881.19    1200\n",
       "PF01255.19    1200\n",
       "PF02397.16    1200\n",
       "PF00586.24    1200\n",
       "PF00400.32    1200\n",
       "PF02885.17    1200\n",
       "PF01368.20    1200\n",
       "PF02729.21    1200\n",
       "PF00763.23    1200\n",
       "PF01725.16    1200\n",
       "PF00677.17    1200\n",
       "PF13508.7     1200\n",
       "PF02417.15    1200\n",
       "PF02545.14    1200\n",
       "PF05192.18    1200\n",
       "PF01035.20    1200\n",
       "PF01799.20    1200\n",
       "PF01715.17    1200\n",
       "PF00684.19    1200\n",
       "PF00126.27    1200\n",
       "PF13472.6     1200\n",
       "PF00560.33    1200\n",
       "PF03484.15    1200\n",
       "PF03453.17    1200\n",
       "PF00391.23    1200\n",
       "PF13649.6     1200\n",
       "Name: family_accession, dtype: int64"
      ]
     },
     "execution_count": 21,
     "metadata": {},
     "output_type": "execute_result"
    }
   ],
   "source": [
    "df_red.family_accession.value_counts()"
   ]
  },
  {
   "cell_type": "code",
   "execution_count": 22,
   "metadata": {},
   "outputs": [],
   "source": [
    "from sklearn.model_selection import train_test_split\n",
    "\n",
    "X_train, X_test = train_test_split(df_red, test_size=0.25)\n",
    "X_val, X_test = train_test_split(X_test, test_size=0.50)"
   ]
  },
  {
   "cell_type": "code",
   "execution_count": 23,
   "metadata": {},
   "outputs": [
    {
     "name": "stdout",
     "output_type": "stream",
     "text": [
      "(25200, 2)\n",
      "(4200, 2)\n",
      "(4200, 2)\n"
     ]
    }
   ],
   "source": [
    "print(X_train.shape)\n",
    "print(X_test.shape)\n",
    "print(X_val.shape)"
   ]
  },
  {
   "cell_type": "code",
   "execution_count": 24,
   "metadata": {},
   "outputs": [],
   "source": [
    "aa_seq_dict = {'A': 1,'C': 2,'D': 3,'E': 4,'F': 5,'G': 6,'H': 7,'I': 8,'K': 9,'L': 10,'M': 11,'N': 12,'P': 13,'Q': 14,'R': 15,'S': 16,'T': 17,'V': 18,'W': 19,'Y': 20}"
   ]
  },
  {
   "cell_type": "code",
   "execution_count": 25,
   "metadata": {},
   "outputs": [],
   "source": [
    "def aa_seq_encoder(data):\n",
    "    full_sequence_list = []\n",
    "    for i in data['sequence'].values:\n",
    "        row_sequence_list = []\n",
    "        for j in i:\n",
    "            row_sequence_list.append(aa_seq_dict.get(j, 0))\n",
    "        full_sequence_list.append(np.array(row_sequence_list))\n",
    "    return full_sequence_list\n",
    "  \n",
    "X_train_encode = aa_seq_encoder(X_train) \n",
    "X_val_encode = aa_seq_encoder(X_val) \n",
    "X_test_encode = aa_seq_encoder(X_test) "
   ]
  },
  {
   "cell_type": "code",
   "execution_count": 26,
   "metadata": {},
   "outputs": [
    {
     "data": {
      "text/plain": [
       "array([ 1,  3,  1,  1, 18, 18, 15, 10, 15, 13, 10,  4, 18,  6,  8, 13, 12,\n",
       "       13,  9, 16,  1, 18,  1,  1, 17, 18,  3,  2, 12, 16, 15, 20, 18, 20,\n",
       "       10,  3, 13, 20,  4,  6,  1,  9,  1, 18, 18,  1,  4,  1,  1, 15, 12,\n",
       "       10, 16,  2, 18,  6,  1,  4, 13, 10,  1, 18, 17,  3, 12, 10, 12,  5,\n",
       "        6, 16, 13,  4,  9, 13,  8,  6, 20, 19, 14, 10,  1, 16,  1,  2, 14,\n",
       "        6,  8,  1,  4,  1,  2, 15,  8, 11,  4, 17, 13, 18, 17,  6,  6, 12,\n",
       "       18, 16, 10, 20, 12,  4, 17, 10,  3,  1, 17,  6, 17, 13, 14, 13,  8,\n",
       "       20, 13, 17, 13, 18,  8,  6, 11, 18,  6, 10,  8])"
      ]
     },
     "execution_count": 26,
     "metadata": {},
     "output_type": "execute_result"
    }
   ],
   "source": [
    "X_train_encode[0]"
   ]
  },
  {
   "cell_type": "code",
   "execution_count": 27,
   "metadata": {},
   "outputs": [],
   "source": [
    "from keras.preprocessing.sequence import pad_sequences\n",
    "\n",
    "max_length = 100\n",
    "\n",
    "X_train_padded = pad_sequences(X_train_encode, maxlen=max_length, padding='post', truncating='post')\n",
    "X_val_padded = pad_sequences(X_val_encode, maxlen=max_length, padding='post', truncating='post')\n",
    "X_test_padded = pad_sequences(X_test_encode, maxlen=max_length, padding='post', truncating='post')"
   ]
  },
  {
   "cell_type": "code",
   "execution_count": 78,
   "metadata": {},
   "outputs": [
    {
     "data": {
      "text/plain": [
       "'LRDLRHFLAVAEEGHIGRAAARLHLSQPPL'"
      ]
     },
     "execution_count": 78,
     "metadata": {},
     "output_type": "execute_result"
    }
   ],
   "source": [
    "X_train.sequence[1][:30]"
   ]
  },
  {
   "cell_type": "code",
   "execution_count": 80,
   "metadata": {},
   "outputs": [
    {
     "data": {
      "text/plain": [
       "array([ 7, 10, 15, 18, 10,  3, 18, 16, 14, 17, 15,  5, 12, 10,  7, 16, 15,\n",
       "       12, 12,  8, 18,  4, 14,  5, 17,  4,  2])"
      ]
     },
     "execution_count": 80,
     "metadata": {},
     "output_type": "execute_result"
    }
   ],
   "source": [
    "X_train_encode[1][:30]"
   ]
  },
  {
   "cell_type": "code",
   "execution_count": 79,
   "metadata": {},
   "outputs": [
    {
     "data": {
      "text/plain": [
       "array([ 7, 10, 15, 18, 10,  3, 18, 16, 14, 17, 15,  5, 12, 10,  7, 16, 15,\n",
       "       12, 12,  8, 18,  4, 14,  5, 17,  4,  2,  0,  0,  0])"
      ]
     },
     "execution_count": 79,
     "metadata": {},
     "output_type": "execute_result"
    }
   ],
   "source": [
    "X_train_padded[1][:30]"
   ]
  },
  {
   "cell_type": "code",
   "execution_count": 71,
   "metadata": {},
   "outputs": [],
   "source": [
    "from sklearn.preprocessing import LabelEncoder\n",
    "le = LabelEncoder()\n",
    "\n",
    "y_train_enc = le.fit_transform(X_train['family_accession'])\n",
    "y_val_enc = le.transform(X_val['family_accession'])\n",
    "y_test_enc = le.transform(X_test['family_accession'])\n"
   ]
  },
  {
   "cell_type": "code",
   "execution_count": 81,
   "metadata": {},
   "outputs": [
    {
     "data": {
      "text/plain": [
       "5190     PF00586.24\n",
       "3971     PF00560.33\n",
       "25388    PF03453.17\n",
       "14023    PF01523.16\n",
       "12758    PF01368.20\n",
       "            ...    \n",
       "24485    PF02885.17\n",
       "11655    PF01255.19\n",
       "13012    PF01368.20\n",
       "18836    PF02397.16\n",
       "15080    PF01715.17\n",
       "Name: family_accession, Length: 25200, dtype: object"
      ]
     },
     "execution_count": 81,
     "metadata": {},
     "output_type": "execute_result"
    }
   ],
   "source": [
    "X_train['family_accession']"
   ]
  },
  {
   "cell_type": "code",
   "execution_count": 82,
   "metadata": {},
   "outputs": [
    {
     "data": {
      "text/plain": [
       "array([ 4,  3, 21, ..., 10, 15, 12], dtype=int64)"
      ]
     },
     "execution_count": 82,
     "metadata": {},
     "output_type": "execute_result"
    }
   ],
   "source": [
    "y_train_enc"
   ]
  },
  {
   "cell_type": "code",
   "execution_count": 85,
   "metadata": {},
   "outputs": [
    {
     "data": {
      "text/plain": [
       "28"
      ]
     },
     "execution_count": 85,
     "metadata": {},
     "output_type": "execute_result"
    }
   ],
   "source": [
    "num_classes = len(le.classes_)\n",
    "num_classes"
   ]
  },
  {
   "cell_type": "code",
   "execution_count": 30,
   "metadata": {},
   "outputs": [],
   "source": [
    "from tensorflow.keras.utils import to_categorical\n",
    "\n",
    "y_train = to_categorical(y_train_enc)\n",
    "y_val = to_categorical(y_val_enc)\n",
    "y_test = to_categorical(y_test_enc)"
   ]
  },
  {
   "cell_type": "code",
   "execution_count": 31,
   "metadata": {},
   "outputs": [],
   "source": [
    "import tensorflow as tf\n",
    "from keras.models import Sequential\n",
    "from keras.layers import Dense, Conv1D, MaxPooling1D, Flatten, Input, Bidirectional, LSTM, Dropout\n",
    "from keras.layers.embeddings import Embedding\n",
    "from keras.regularizers import l2\n",
    "from keras.models import Model"
   ]
  },
  {
   "cell_type": "code",
   "execution_count": 99,
   "metadata": {},
   "outputs": [
    {
     "name": "stdout",
     "output_type": "stream",
     "text": [
      "Model: \"sequential_4\"\n",
      "_________________________________________________________________\n",
      "Layer (type)                 Output Shape              Param #   \n",
      "=================================================================\n",
      "EmbeddingLayer (Embedding)   (None, 100, 16)           336       \n",
      "_________________________________________________________________\n",
      "BidirectionalLayer (Bidirect (None, 32)                4224      \n",
      "_________________________________________________________________\n",
      "DropoutLayer (Dropout)       (None, 32)                0         \n",
      "_________________________________________________________________\n",
      "DenseLayer (Dense)           (None, 28)                924       \n",
      "=================================================================\n",
      "Total params: 5,484\n",
      "Trainable params: 5,484\n",
      "Non-trainable params: 0\n",
      "_________________________________________________________________\n"
     ]
    }
   ],
   "source": [
    "model = Sequential()\n",
    "\n",
    "model.add(Embedding(21, 16, input_length=max_length, name=\"EmbeddingLayer\"))\n",
    "model.add(Bidirectional(LSTM(16), name=\"BidirectionalLayer\"))\n",
    "model.add(Dropout(0.2, name=\"DropoutLayer\"))\n",
    "model.add(Dense(28, activation='softmax', name=\"DenseLayer\"))\n",
    "\n",
    "opt = tf.keras.optimizers.Adam(learning_rate=0.01)\n",
    "\n",
    "model.compile(optimizer=opt, loss='categorical_crossentropy', metrics=['accuracy'])\n",
    "model.summary()"
   ]
  },
  {
   "cell_type": "code",
   "execution_count": 105,
   "metadata": {},
   "outputs": [],
   "source": [
    "from keras.callbacks import EarlyStopping\n",
    "es = EarlyStopping(monitor='val_loss', patience=5, verbose=1)"
   ]
  },
  {
   "cell_type": "code",
   "execution_count": 106,
   "metadata": {},
   "outputs": [
    {
     "name": "stdout",
     "output_type": "stream",
     "text": [
      "Epoch 1/100\n",
      "99/99 [==============================] - 20s 175ms/step - loss: 2.0480 - accuracy: 0.3982 - val_loss: 0.2836 - val_accuracy: 0.9145\n",
      "Epoch 2/100\n",
      "99/99 [==============================] - 17s 168ms/step - loss: 0.2563 - accuracy: 0.9247 - val_loss: 0.1167 - val_accuracy: 0.9690\n",
      "Epoch 3/100\n",
      "99/99 [==============================] - 17s 169ms/step - loss: 0.1097 - accuracy: 0.9698 - val_loss: 0.0682 - val_accuracy: 0.9817\n",
      "Epoch 4/100\n",
      "99/99 [==============================] - 17s 169ms/step - loss: 0.0735 - accuracy: 0.9787 - val_loss: 0.0432 - val_accuracy: 0.9898\n",
      "Epoch 5/100\n",
      "99/99 [==============================] - 17s 171ms/step - loss: 0.0558 - accuracy: 0.9858 - val_loss: 0.0393 - val_accuracy: 0.9893\n",
      "Epoch 6/100\n",
      "99/99 [==============================] - 17s 172ms/step - loss: 0.0323 - accuracy: 0.9921 - val_loss: 0.0352 - val_accuracy: 0.9890\n",
      "Epoch 7/100\n",
      "99/99 [==============================] - 17s 171ms/step - loss: 0.0288 - accuracy: 0.9928 - val_loss: 0.0262 - val_accuracy: 0.9921\n",
      "Epoch 8/100\n",
      "99/99 [==============================] - 17s 171ms/step - loss: 0.0249 - accuracy: 0.9931 - val_loss: 0.0306 - val_accuracy: 0.9898\n",
      "Epoch 9/100\n",
      "99/99 [==============================] - 17s 172ms/step - loss: 0.0219 - accuracy: 0.9944 - val_loss: 0.0283 - val_accuracy: 0.9929\n",
      "Epoch 10/100\n",
      "99/99 [==============================] - 17s 173ms/step - loss: 0.0202 - accuracy: 0.9947 - val_loss: 0.0285 - val_accuracy: 0.9919\n",
      "Epoch 11/100\n",
      "99/99 [==============================] - 17s 172ms/step - loss: 0.0195 - accuracy: 0.9949 - val_loss: 0.0339 - val_accuracy: 0.9917\n",
      "Epoch 12/100\n",
      "99/99 [==============================] - 17s 173ms/step - loss: 0.0123 - accuracy: 0.9968 - val_loss: 0.0352 - val_accuracy: 0.9905\n",
      "Epoch 00012: early stopping\n"
     ]
    }
   ],
   "source": [
    "history = model.fit(\n",
    "    X_train_padded, y_train,\n",
    "    epochs=100, batch_size=256,\n",
    "    validation_data=(X_val_padded, y_val),\n",
    "    callbacks=[es]\n",
    "    )"
   ]
  },
  {
   "cell_type": "code",
   "execution_count": 111,
   "metadata": {},
   "outputs": [
    {
     "data": {
      "text/plain": [
       "<matplotlib.legend.Legend at 0x217a40f9550>"
      ]
     },
     "execution_count": 111,
     "metadata": {},
     "output_type": "execute_result"
    },
    {
     "data": {
      "image/png": "[encoded data removed]",
      "text/plain": [
       "<Figure size 720x720 with 2 Axes>"
      ]
     },
     "metadata": {},
     "output_type": "display_data"
    }
   ],
   "source": [
    "fig = plt.figure(figsize=(10,10))\n",
    "\n",
    "# total_rows, total_columns, subplot_index(1st, 2nd, etc..)\n",
    "plt.subplot(2, 2, 1)\n",
    "plt.title(\"Accuracy\", fontsize=15)\n",
    "plt.xlabel(\"Epochs\", fontsize=15)\n",
    "plt.ylabel(\"Accuracy (%)\", fontsize=15)\n",
    "plt.plot(history.history[\"val_accuracy\"], label='Validation Accuracy', linestyle='dashed')\n",
    "plt.plot(history.history[\"accuracy\"], label='Training Accuracy')\n",
    "plt.legend([\"Validation\", \"Training\"], loc=\"lower right\")\n",
    "\n",
    "plt.subplot(2, 2, 2)\n",
    "plt.title(\"Loss\", fontsize=15)\n",
    "plt.xlabel(\"Epochs\", fontsize=15)\n",
    "plt.ylabel(\"Loss\", fontsize=15)\n",
    "plt.plot(history.history[\"val_loss\"], label='Validation loss', linestyle='dashed')\n",
    "plt.plot(history.history[\"loss\"], label='Training loss')\n",
    "plt.legend([\"Validation\", \"Training\"], loc=\"upper right\")"
   ]
  },
  {
   "cell_type": "code",
   "execution_count": 108,
   "metadata": {},
   "outputs": [
    {
     "name": "stdout",
     "output_type": "stream",
     "text": [
      "             precision    recall  f1-score   support\n",
      "\n",
      " PF00126.27       0.99      1.00      0.99       157\n",
      " PF00391.23       1.00      0.99      0.99       157\n",
      " PF00400.32       0.99      1.00      1.00       131\n",
      " PF00560.33       1.00      0.99      1.00       161\n",
      " PF00586.24       0.99      0.99      0.99       149\n",
      " PF00677.17       1.00      1.00      1.00       149\n",
      " PF00684.19       1.00      1.00      1.00       137\n",
      " PF00763.23       0.99      0.98      0.99       148\n",
      " PF01035.20       1.00      0.99      1.00       121\n",
      " PF01255.19       0.99      0.99      0.99       163\n",
      " PF01368.20       0.99      1.00      0.99       142\n",
      " PF01523.16       0.97      0.97      0.97       132\n",
      " PF01715.17       1.00      0.99      0.99       151\n",
      " PF01725.16       0.99      1.00      0.99       139\n",
      " PF01799.20       1.00      0.99      0.99       168\n",
      " PF02397.16       1.00      1.00      1.00       152\n",
      " PF02417.15       1.00      1.00      1.00       158\n",
      " PF02545.14       0.99      0.98      0.99       173\n",
      " PF02729.21       0.98      0.97      0.98       156\n",
      " PF02881.19       0.99      0.97      0.98       151\n",
      " PF02885.17       0.98      1.00      0.99       146\n",
      " PF03453.17       0.98      1.00      0.99       139\n",
      " PF03484.15       0.97      1.00      0.98       160\n",
      " PF05192.18       0.99      0.99      0.99       170\n",
      " PF06580.13       1.00      0.98      0.99       129\n",
      "  PF13472.6       0.99      1.00      0.99       164\n",
      "  PF13508.7       0.99      0.99      0.99       144\n",
      "  PF13649.6       1.00      0.99      0.99       153\n",
      "\n",
      "avg / total       0.99      0.99      0.99      4200\n",
      "\n"
     ]
    }
   ],
   "source": [
    "from sklearn.metrics import classification_report\n",
    "y_pred = model.predict(X_test_padded)\n",
    "\n",
    "print(classification_report(np.argmax(y_test, axis=1), np.argmax(y_pred, axis=1), target_names=le.classes_))"
   ]
  },
  {
   "cell_type": "code",
   "execution_count": 109,
   "metadata": {},
   "outputs": [],
   "source": [
    "from sklearn.metrics import confusion_matrix\n",
    "cf_matrix = confusion_matrix(np.argmax(y_test, axis=1), np.argmax(y_pred, axis=1))"
   ]
  },
  {
   "cell_type": "code",
   "execution_count": 110,
   "metadata": {},
   "outputs": [
    {
     "data": {
      "text/plain": [
       "<AxesSubplot:>"
      ]
     },
     "execution_count": 110,
     "metadata": {},
     "output_type": "execute_result"
    },
    {
     "data": {
      "image/png": "[encoded data removed]",
      "text/plain": [
       "<Figure size 1080x720 with 2 Axes>"
      ]
     },
     "metadata": {},
     "output_type": "display_data"
    }
   ],
   "source": [
    "import seaborn as sns\n",
    "plt.figure(figsize=(15,10))\n",
    "sns.heatmap(cf_matrix, annot=True, fmt='', cmap='Blues')"
   ]
  },
  {
   "cell_type": "code",
   "execution_count": null,
   "metadata": {},
   "outputs": [],
   "source": []
  },
  {
   "cell_type": "code",
   "execution_count": null,
   "metadata": {},
   "outputs": [],
   "source": []
  }
 ],
 "metadata": {
  "kernelspec": {
   "display_name": "Python 3",
   "language": "python",
   "name": "python3"
  },
  "language_info": {
   "codemirror_mode": {
    "name": "ipython",
    "version": 3
   },
   "file_extension": ".py",
   "mimetype": "text/x-python",
   "name": "python",
   "nbconvert_exporter": "python",
   "pygments_lexer": "ipython3",
   "version": "3.8.5"
  }
 },
 "nbformat": 4,
 "nbformat_minor": 4
}
