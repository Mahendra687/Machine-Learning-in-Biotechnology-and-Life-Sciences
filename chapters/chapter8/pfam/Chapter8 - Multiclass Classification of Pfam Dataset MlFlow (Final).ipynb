{
 "cells": [
  {
   "cell_type": "code",
   "execution_count": 1,
   "metadata": {},
   "outputs": [
    {
     "name": "stdout",
     "output_type": "stream",
     "text": [
      "\u001b[33mWARNING: You are using pip version 21.1.3; however, version 21.2.4 is available.\n",
      "You should consider upgrading via the '/home/ec2-user/anaconda3/envs/python3/bin/python -m pip install --upgrade pip' command.\u001b[0m\n"
     ]
    }
   ],
   "source": [
    "!pip install tensorflow keras mlflow --quiet"
   ]
  },
  {
   "cell_type": "markdown",
   "metadata": {},
   "source": [
    "### Tutorial: Pfam Protein Sequence Classification with Keras and MlFlow"
   ]
  },
  {
   "cell_type": "code",
   "execution_count": 1,
   "metadata": {},
   "outputs": [],
   "source": [
    "import pandas as pd\n",
    "import numpy as np\n",
    "from tensorflow.keras.utils import to_categorical\n",
    "\n",
    "import matplotlib.pyplot as plt\n",
    "import seaborn as sns\n",
    "sns.set_style(\"darkgrid\")\n",
    "\n",
    "import os"
   ]
  },
  {
   "cell_type": "code",
   "execution_count": 2,
   "metadata": {},
   "outputs": [],
   "source": [
    "df = pd.read_csv(\"../../../datasets/dataset_pfam_seq_sd.csv\")"
   ]
  },
  {
   "cell_type": "code",
   "execution_count": 3,
   "metadata": {},
   "outputs": [
    {
     "data": {
      "text/plain": [
       "(1339083, 5)"
      ]
     },
     "execution_count": 3,
     "metadata": {},
     "output_type": "execute_result"
    }
   ],
   "source": [
    "df.shape"
   ]
  },
  {
   "cell_type": "code",
   "execution_count": 4,
   "metadata": {},
   "outputs": [
    {
     "data": {
      "text/html": [
       "<div>\n",
       "<style scoped>\n",
       "    .dataframe tbody tr th:only-of-type {\n",
       "        vertical-align: middle;\n",
       "    }\n",
       "\n",
       "    .dataframe tbody tr th {\n",
       "        vertical-align: top;\n",
       "    }\n",
       "\n",
       "    .dataframe thead th {\n",
       "        text-align: right;\n",
       "    }\n",
       "</style>\n",
       "<table border=\"1\" class=\"dataframe\">\n",
       "  <thead>\n",
       "    <tr style=\"text-align: right;\">\n",
       "      <th></th>\n",
       "      <th>family_id</th>\n",
       "      <th>sequence_name</th>\n",
       "      <th>family_accession</th>\n",
       "      <th>aligned_sequence</th>\n",
       "      <th>sequence</th>\n",
       "    </tr>\n",
       "  </thead>\n",
       "  <tbody>\n",
       "    <tr>\n",
       "      <th>0</th>\n",
       "      <td>GMC_oxred_C</td>\n",
       "      <td>A4WZS5_RHOS5/416-539</td>\n",
       "      <td>PF05199.13</td>\n",
       "      <td>PHPE.SRIRLST.RRDAHGMP.....IP.RIESRLGP............</td>\n",
       "      <td>PHPESRIRLSTRRDAHGMPIPRIESRLGPDAFARLRFMARTCRAIL...</td>\n",
       "    </tr>\n",
       "    <tr>\n",
       "      <th>1</th>\n",
       "      <td>DUF2887</td>\n",
       "      <td>K9QI92_9NOSO/3-203</td>\n",
       "      <td>PF11103.8</td>\n",
       "      <td>RDSIYYQIFKRFPALIFEL..VD.NRPPQAQNYRFESVEVKETAFR...</td>\n",
       "      <td>RDSIYYQIFKRFPALIFELVDNRPPQAQNYRFESVEVKETAFRIDG...</td>\n",
       "    </tr>\n",
       "    <tr>\n",
       "      <th>2</th>\n",
       "      <td>zf-IS66</td>\n",
       "      <td>Q92LC9_RHIME/32-75</td>\n",
       "      <td>PF13005.7</td>\n",
       "      <td>.TCCPDCGG.E..LRLVGED.AS....EILDMI.AAQMKVIEVARL...</td>\n",
       "      <td>TCCPDCGGELRLVGEDASEILDMIAAQMKVIEVARLKKSCRCCE</td>\n",
       "    </tr>\n",
       "    <tr>\n",
       "      <th>3</th>\n",
       "      <td>Asp_decarbox</td>\n",
       "      <td>X2GQZ4_9BACI/1-115</td>\n",
       "      <td>PF02261.16</td>\n",
       "      <td>MLRMMMNSKIHRATVTEADLNYVGSITIDEDILDAVGMLPNEKVHI...</td>\n",
       "      <td>MLRMMMNSKIHRATVTEADLNYVGSITIDEDILDAVGMLPNEKVHI...</td>\n",
       "    </tr>\n",
       "    <tr>\n",
       "      <th>4</th>\n",
       "      <td>Filamin</td>\n",
       "      <td>A7SQM3_NEMVE/342-439</td>\n",
       "      <td>PF00630.19</td>\n",
       "      <td>TACPKQ.CTA....RGLG.............LK.AAPVT.QPT..R...</td>\n",
       "      <td>TACPKQCTARGLGLKAAPVTQPTRFVVILNDCHGQPLGRSEGELEV...</td>\n",
       "    </tr>\n",
       "  </tbody>\n",
       "</table>\n",
       "</div>"
      ],
      "text/plain": [
       "      family_id         sequence_name family_accession  \\\n",
       "0   GMC_oxred_C  A4WZS5_RHOS5/416-539       PF05199.13   \n",
       "1       DUF2887    K9QI92_9NOSO/3-203        PF11103.8   \n",
       "2       zf-IS66    Q92LC9_RHIME/32-75        PF13005.7   \n",
       "3  Asp_decarbox    X2GQZ4_9BACI/1-115       PF02261.16   \n",
       "4       Filamin  A7SQM3_NEMVE/342-439       PF00630.19   \n",
       "\n",
       "                                    aligned_sequence  \\\n",
       "0  PHPE.SRIRLST.RRDAHGMP.....IP.RIESRLGP............   \n",
       "1  RDSIYYQIFKRFPALIFEL..VD.NRPPQAQNYRFESVEVKETAFR...   \n",
       "2  .TCCPDCGG.E..LRLVGED.AS....EILDMI.AAQMKVIEVARL...   \n",
       "3  MLRMMMNSKIHRATVTEADLNYVGSITIDEDILDAVGMLPNEKVHI...   \n",
       "4  TACPKQ.CTA....RGLG.............LK.AAPVT.QPT..R...   \n",
       "\n",
       "                                            sequence  \n",
       "0  PHPESRIRLSTRRDAHGMPIPRIESRLGPDAFARLRFMARTCRAIL...  \n",
       "1  RDSIYYQIFKRFPALIFELVDNRPPQAQNYRFESVEVKETAFRIDG...  \n",
       "2       TCCPDCGGELRLVGEDASEILDMIAAQMKVIEVARLKKSCRCCE  \n",
       "3  MLRMMMNSKIHRATVTEADLNYVGSITIDEDILDAVGMLPNEKVHI...  \n",
       "4  TACPKQCTARGLGLKAAPVTQPTRFVVILNDCHGQPLGRSEGELEV...  "
      ]
     },
     "execution_count": 4,
     "metadata": {},
     "output_type": "execute_result"
    }
   ],
   "source": [
    "df.head()"
   ]
  },
  {
   "cell_type": "code",
   "execution_count": 5,
   "metadata": {},
   "outputs": [
    {
     "data": {
      "text/plain": [
       "family_id           0\n",
       "sequence_name       0\n",
       "family_accession    0\n",
       "aligned_sequence    0\n",
       "sequence            0\n",
       "dtype: int64"
      ]
     },
     "execution_count": 5,
     "metadata": {},
     "output_type": "execute_result"
    }
   ],
   "source": [
    "df.isna().sum()"
   ]
  },
  {
   "cell_type": "code",
   "execution_count": 6,
   "metadata": {},
   "outputs": [
    {
     "data": {
      "text/plain": [
       "family_id        family_id      \n",
       "Methyltransf_25  Methyltransf_25    4545\n",
       "LRR_1            LRR_1              2407\n",
       "Acetyltransf_7   Acetyltransf_7     2199\n",
       "His_kinase       His_kinase         1921\n",
       "Bac_transf       Bac_transf         1908\n",
       "Lum_binding      Lum_binding        1878\n",
       "DNA_binding_1    DNA_binding_1      1681\n",
       "Chromate_transp  Chromate_transp    1579\n",
       "Lipase_GDSL_2    Lipase_GDSL_2      1564\n",
       "DnaJ_CXXCXGXG    DnaJ_CXXCXGXG      1512\n",
       "Name: family_id, dtype: int64"
      ]
     },
     "execution_count": 6,
     "metadata": {},
     "output_type": "execute_result"
    }
   ],
   "source": [
    "df[\"family_id\"].groupby(df[\"family_id\"]).value_counts().nlargest(10)"
   ]
  },
  {
   "cell_type": "code",
   "execution_count": 7,
   "metadata": {},
   "outputs": [
    {
     "data": {
      "text/plain": [
       "family_accession  family_accession\n",
       "PF13649.6         PF13649.6           4545\n",
       "PF00560.33        PF00560.33          2407\n",
       "PF13508.7         PF13508.7           2199\n",
       "PF06580.13        PF06580.13          1921\n",
       "PF02397.16        PF02397.16          1908\n",
       "PF00677.17        PF00677.17          1878\n",
       "PF01035.20        PF01035.20          1681\n",
       "PF02417.15        PF02417.15          1579\n",
       "PF13472.6         PF13472.6           1564\n",
       "PF00684.19        PF00684.19          1512\n",
       "Name: family_accession, dtype: int64"
      ]
     },
     "execution_count": 7,
     "metadata": {},
     "output_type": "execute_result"
    }
   ],
   "source": [
    "df[\"family_accession\"].groupby(df[\"family_accession\"]).value_counts().nlargest(10)"
   ]
  },
  {
   "cell_type": "code",
   "execution_count": 8,
   "metadata": {},
   "outputs": [
    {
     "data": {
      "text/plain": [
       "<seaborn.axisgrid.FacetGrid at 0x12abdf34280>"
      ]
     },
     "execution_count": 8,
     "metadata": {},
     "output_type": "execute_result"
    },
    {
     "data": {
      "image/png": "[encoded data removed]",
      "text/plain": [
       "<Figure size 360x360 with 1 Axes>"
      ]
     },
     "metadata": {},
     "output_type": "display_data"
    }
   ],
   "source": [
    "sns.displot(df[\"sequence\"].apply(lambda x: len(x)), bins=75)"
   ]
  },
  {
   "cell_type": "code",
   "execution_count": 9,
   "metadata": {},
   "outputs": [
    {
     "data": {
      "text/plain": [
       "155.15658103343856"
      ]
     },
     "execution_count": 9,
     "metadata": {},
     "output_type": "execute_result"
    }
   ],
   "source": [
    "df[\"sequence\"].str.len().mean()"
   ]
  },
  {
   "cell_type": "code",
   "execution_count": 10,
   "metadata": {},
   "outputs": [
    {
     "data": {
      "text/plain": [
       "4"
      ]
     },
     "execution_count": 10,
     "metadata": {},
     "output_type": "execute_result"
    }
   ],
   "source": [
    "df[\"sequence\"].str.len().min()"
   ]
  },
  {
   "cell_type": "code",
   "execution_count": 11,
   "metadata": {},
   "outputs": [
    {
     "data": {
      "text/plain": [
       "2037"
      ]
     },
     "execution_count": 11,
     "metadata": {},
     "output_type": "execute_result"
    }
   ],
   "source": [
    "df[\"sequence\"].str.len().max()"
   ]
  },
  {
   "cell_type": "code",
   "execution_count": 12,
   "metadata": {},
   "outputs": [
    {
     "data": {
      "text/plain": [
       "119.0"
      ]
     },
     "execution_count": 12,
     "metadata": {},
     "output_type": "execute_result"
    }
   ],
   "source": [
    "df[\"sequence\"].str.len().median()"
   ]
  },
  {
   "cell_type": "code",
   "execution_count": 13,
   "metadata": {},
   "outputs": [],
   "source": [
    "df_filt = df.groupby(\"family_accession\").filter(lambda x: len(x) > 1200)"
   ]
  },
  {
   "cell_type": "code",
   "execution_count": 14,
   "metadata": {},
   "outputs": [
    {
     "data": {
      "text/html": [
       "<div>\n",
       "<style scoped>\n",
       "    .dataframe tbody tr th:only-of-type {\n",
       "        vertical-align: middle;\n",
       "    }\n",
       "\n",
       "    .dataframe tbody tr th {\n",
       "        vertical-align: top;\n",
       "    }\n",
       "\n",
       "    .dataframe thead th {\n",
       "        text-align: right;\n",
       "    }\n",
       "</style>\n",
       "<table border=\"1\" class=\"dataframe\">\n",
       "  <thead>\n",
       "    <tr style=\"text-align: right;\">\n",
       "      <th></th>\n",
       "      <th>family_id</th>\n",
       "      <th>sequence_name</th>\n",
       "      <th>family_accession</th>\n",
       "      <th>aligned_sequence</th>\n",
       "      <th>sequence</th>\n",
       "    </tr>\n",
       "  </thead>\n",
       "  <tbody>\n",
       "    <tr>\n",
       "      <th>8</th>\n",
       "      <td>His_kinase</td>\n",
       "      <td>Q47E94_DECAR/372-450</td>\n",
       "      <td>PF06580.13</td>\n",
       "      <td>SE.I..KLLHAQVNPHFLFNALNTL......S....AV...I.......</td>\n",
       "      <td>SEIKLLHAQVNPHFLFNALNTLSAVIRRDPEKACHLVLNLSTFFRK...</td>\n",
       "    </tr>\n",
       "    <tr>\n",
       "      <th>29</th>\n",
       "      <td>Bac_transf</td>\n",
       "      <td>D3EZT3_CONWI/319-507</td>\n",
       "      <td>PF02397.16</td>\n",
       "      <td>KRTFDLIG.SL.....LLLT.L.L.S...P.L.L...L....T......</td>\n",
       "      <td>KRTFDLIGSLLLLTLLSPLLLTLSLAVKLSSRGPVFYRSTRPGIGG...</td>\n",
       "    </tr>\n",
       "    <tr>\n",
       "      <th>57</th>\n",
       "      <td>WD40</td>\n",
       "      <td>O48679_ARATH/318-354</td>\n",
       "      <td>PF00400.32</td>\n",
       "      <td>MSVVGA..L....R.....GH....RKA.............I...M...</td>\n",
       "      <td>MSVVGALRGHRKAIMCLAVASDLVLSGSADKSLRVWR</td>\n",
       "    </tr>\n",
       "    <tr>\n",
       "      <th>103</th>\n",
       "      <td>Glycos_trans_3N</td>\n",
       "      <td>A0A068Y394_ECHMU/7-69</td>\n",
       "      <td>PF02885.17</td>\n",
       "      <td>SGILSKKANG....G..SLSSTEIDYYTKEL..AE.DN...........</td>\n",
       "      <td>SGILSKKANGGSLSSTEIDYYTKELAEDNVNIAQIGAFLMAVFTRG...</td>\n",
       "    </tr>\n",
       "    <tr>\n",
       "      <th>120</th>\n",
       "      <td>Chromate_transp</td>\n",
       "      <td>D5EXG9_PRER2/4-187</td>\n",
       "      <td>PF02417.15</td>\n",
       "      <td>VSLFITFFEIGLFGFGGGYGML.SLIQHET........VE.........</td>\n",
       "      <td>VSLFITFFEIGLFGFGGGYGMLSLIQHETVEAHHWLSTSEFTDIVA...</td>\n",
       "    </tr>\n",
       "    <tr>\n",
       "      <th>...</th>\n",
       "      <td>...</td>\n",
       "      <td>...</td>\n",
       "      <td>...</td>\n",
       "      <td>...</td>\n",
       "      <td>...</td>\n",
       "    </tr>\n",
       "    <tr>\n",
       "      <th>1338917</th>\n",
       "      <td>DHH</td>\n",
       "      <td>R7FC58_9FIRM/344-498</td>\n",
       "      <td>PF01368.20</td>\n",
       "      <td>QVFL.MGHRFGDLDSIGS.ACGLAG........................</td>\n",
       "      <td>QVFLMGHRFGDLDSIGSACGLAGAVRLMRKPAYVVVSRQSCLATQL...</td>\n",
       "    </tr>\n",
       "    <tr>\n",
       "      <th>1338932</th>\n",
       "      <td>HTH_1</td>\n",
       "      <td>Q98N95_RHILO/3-62</td>\n",
       "      <td>PF00126.27</td>\n",
       "      <td>LEALADFNLVAAHG.GFGRAGR.ISGR...SKATLSRHVNELEH.S...</td>\n",
       "      <td>LEALADFNLVAAHGGFGRAGRISGRSKATLSRHVNELEHSLGVRLI...</td>\n",
       "    </tr>\n",
       "    <tr>\n",
       "      <th>1338989</th>\n",
       "      <td>MutS_III</td>\n",
       "      <td>I0IH70_PHYMF/275-582</td>\n",
       "      <td>PF05192.18</td>\n",
       "      <td>ASLASLEV.VR................TQAAAGA...............</td>\n",
       "      <td>ASLASLEVVRTQAAAGASGETAGSLLGVLSGNGKATRTPMGGRLLR...</td>\n",
       "    </tr>\n",
       "    <tr>\n",
       "      <th>1339027</th>\n",
       "      <td>Chromate_transp</td>\n",
       "      <td>R5XL48_9FIRM/4-177</td>\n",
       "      <td>PF02417.15</td>\n",
       "      <td>LKLFLSFLQIGLFSFGGGYAAM.PFIRDQV........VV.........</td>\n",
       "      <td>LKLFLSFLQIGLFSFGGGYAAMPFIRDQVVVQNSWLSMQEFTDLIT...</td>\n",
       "    </tr>\n",
       "    <tr>\n",
       "      <th>1339072</th>\n",
       "      <td>AIRS</td>\n",
       "      <td>F9VEB0_LACGL/446-564</td>\n",
       "      <td>PF00586.24</td>\n",
       "      <td>SD......AA.......................................</td>\n",
       "      <td>SDAAVIRLRHSNKALAMTTDCNARYLYLNPEIGGQIAVAEAARNII...</td>\n",
       "    </tr>\n",
       "  </tbody>\n",
       "</table>\n",
       "<p>45363 rows × 5 columns</p>\n",
       "</div>"
      ],
      "text/plain": [
       "               family_id          sequence_name family_accession  \\\n",
       "8             His_kinase   Q47E94_DECAR/372-450       PF06580.13   \n",
       "29            Bac_transf   D3EZT3_CONWI/319-507       PF02397.16   \n",
       "57                  WD40   O48679_ARATH/318-354       PF00400.32   \n",
       "103      Glycos_trans_3N  A0A068Y394_ECHMU/7-69       PF02885.17   \n",
       "120      Chromate_transp     D5EXG9_PRER2/4-187       PF02417.15   \n",
       "...                  ...                    ...              ...   \n",
       "1338917              DHH   R7FC58_9FIRM/344-498       PF01368.20   \n",
       "1338932            HTH_1      Q98N95_RHILO/3-62       PF00126.27   \n",
       "1338989         MutS_III   I0IH70_PHYMF/275-582       PF05192.18   \n",
       "1339027  Chromate_transp     R5XL48_9FIRM/4-177       PF02417.15   \n",
       "1339072             AIRS   F9VEB0_LACGL/446-564       PF00586.24   \n",
       "\n",
       "                                          aligned_sequence  \\\n",
       "8        SE.I..KLLHAQVNPHFLFNALNTL......S....AV...I.......   \n",
       "29       KRTFDLIG.SL.....LLLT.L.L.S...P.L.L...L....T......   \n",
       "57       MSVVGA..L....R.....GH....RKA.............I...M...   \n",
       "103      SGILSKKANG....G..SLSSTEIDYYTKEL..AE.DN...........   \n",
       "120      VSLFITFFEIGLFGFGGGYGML.SLIQHET........VE.........   \n",
       "...                                                    ...   \n",
       "1338917  QVFL.MGHRFGDLDSIGS.ACGLAG........................   \n",
       "1338932  LEALADFNLVAAHG.GFGRAGR.ISGR...SKATLSRHVNELEH.S...   \n",
       "1338989  ASLASLEV.VR................TQAAAGA...............   \n",
       "1339027  LKLFLSFLQIGLFSFGGGYAAM.PFIRDQV........VV.........   \n",
       "1339072  SD......AA.......................................   \n",
       "\n",
       "                                                  sequence  \n",
       "8        SEIKLLHAQVNPHFLFNALNTLSAVIRRDPEKACHLVLNLSTFFRK...  \n",
       "29       KRTFDLIGSLLLLTLLSPLLLTLSLAVKLSSRGPVFYRSTRPGIGG...  \n",
       "57                   MSVVGALRGHRKAIMCLAVASDLVLSGSADKSLRVWR  \n",
       "103      SGILSKKANGGSLSSTEIDYYTKELAEDNVNIAQIGAFLMAVFTRG...  \n",
       "120      VSLFITFFEIGLFGFGGGYGMLSLIQHETVEAHHWLSTSEFTDIVA...  \n",
       "...                                                    ...  \n",
       "1338917  QVFLMGHRFGDLDSIGSACGLAGAVRLMRKPAYVVVSRQSCLATQL...  \n",
       "1338932  LEALADFNLVAAHGGFGRAGRISGRSKATLSRHVNELEHSLGVRLI...  \n",
       "1338989  ASLASLEVVRTQAAAGASGETAGSLLGVLSGNGKATRTPMGGRLLR...  \n",
       "1339027  LKLFLSFLQIGLFSFGGGYAAMPFIRDQVVVQNSWLSMQEFTDLIT...  \n",
       "1339072  SDAAVIRLRHSNKALAMTTDCNARYLYLNPEIGGQIAVAEAARNII...  \n",
       "\n",
       "[45363 rows x 5 columns]"
      ]
     },
     "execution_count": 14,
     "metadata": {},
     "output_type": "execute_result"
    }
   ],
   "source": [
    "df_filt"
   ]
  },
  {
   "cell_type": "code",
   "execution_count": 15,
   "metadata": {},
   "outputs": [
    {
     "data": {
      "text/plain": [
       "PF02729.21    1200\n",
       "PF03453.17    1200\n",
       "PF00560.33    1200\n",
       "PF00684.19    1200\n",
       "PF03484.15    1200\n",
       "PF06580.13    1200\n",
       "PF00126.27    1200\n",
       "PF01368.20    1200\n",
       "PF01715.17    1200\n",
       "PF01523.16    1200\n",
       "PF02881.19    1200\n",
       "PF00400.32    1200\n",
       "PF13649.6     1200\n",
       "PF01725.16    1200\n",
       "PF01799.20    1200\n",
       "PF13472.6     1200\n",
       "PF00391.23    1200\n",
       "PF02545.14    1200\n",
       "PF02397.16    1200\n",
       "PF13508.7     1200\n",
       "PF05192.18    1200\n",
       "PF01035.20    1200\n",
       "PF02417.15    1200\n",
       "PF00677.17    1200\n",
       "PF00586.24    1200\n",
       "PF00763.23    1200\n",
       "PF01255.19    1200\n",
       "PF02885.17    1200\n",
       "Name: family_accession, dtype: int64"
      ]
     },
     "execution_count": 15,
     "metadata": {},
     "output_type": "execute_result"
    }
   ],
   "source": [
    "df_bal = df_filt.groupby('family_accession').apply(lambda x: x.sample(1200))\n",
    "df_bal.family_accession.value_counts()"
   ]
  },
  {
   "cell_type": "code",
   "execution_count": 16,
   "metadata": {},
   "outputs": [
    {
     "data": {
      "text/html": [
       "<div>\n",
       "<style scoped>\n",
       "    .dataframe tbody tr th:only-of-type {\n",
       "        vertical-align: middle;\n",
       "    }\n",
       "\n",
       "    .dataframe tbody tr th {\n",
       "        vertical-align: top;\n",
       "    }\n",
       "\n",
       "    .dataframe thead th {\n",
       "        text-align: right;\n",
       "    }\n",
       "</style>\n",
       "<table border=\"1\" class=\"dataframe\">\n",
       "  <thead>\n",
       "    <tr style=\"text-align: right;\">\n",
       "      <th></th>\n",
       "      <th></th>\n",
       "      <th>family_id</th>\n",
       "      <th>sequence_name</th>\n",
       "      <th>family_accession</th>\n",
       "      <th>aligned_sequence</th>\n",
       "      <th>sequence</th>\n",
       "    </tr>\n",
       "    <tr>\n",
       "      <th>family_accession</th>\n",
       "      <th></th>\n",
       "      <th></th>\n",
       "      <th></th>\n",
       "      <th></th>\n",
       "      <th></th>\n",
       "      <th></th>\n",
       "    </tr>\n",
       "  </thead>\n",
       "  <tbody>\n",
       "    <tr>\n",
       "      <th rowspan=\"5\" valign=\"top\">PF00126.27</th>\n",
       "      <th>1164493</th>\n",
       "      <td>HTH_1</td>\n",
       "      <td>Q8XQJ0_RALSO/7-66</td>\n",
       "      <td>PF00126.27</td>\n",
       "      <td>IRHLWLFHAVAEER.NFSRAAK.RLGM...SQPPLTDQIKVLEH.A...</td>\n",
       "      <td>IRHLWLFHAVAEERNFSRAAKRLGMSQPPLTDQIKVLEHALKIKLF...</td>\n",
       "    </tr>\n",
       "    <tr>\n",
       "      <th>1064301</th>\n",
       "      <td>HTH_1</td>\n",
       "      <td>Q8PCA2_XANCP/3-62</td>\n",
       "      <td>PF00126.27</td>\n",
       "      <td>LRDLKYLVALADHK.HFGRAAT.ACFV...SQPTLSTQIKKLED.E...</td>\n",
       "      <td>LRDLKYLVALADHKHFGRAATACFVSQPTLSTQIKKLEDELGVPLV...</td>\n",
       "    </tr>\n",
       "    <tr>\n",
       "      <th>165761</th>\n",
       "      <td>HTH_1</td>\n",
       "      <td>Q7VWW6_BORPE/24-88</td>\n",
       "      <td>PF00126.27</td>\n",
       "      <td>QHRIDLLAQIEATG.SISAAAR.AAGM...SYKGAWDAIDAMNN.L...</td>\n",
       "      <td>QHRIDLLAQIEATGSISAAARAAGMSYKGAWDAIDAMNNLAGEPLV...</td>\n",
       "    </tr>\n",
       "    <tr>\n",
       "      <th>715198</th>\n",
       "      <td>HTH_1</td>\n",
       "      <td>Q7D3E4_AGRFC/5-64</td>\n",
       "      <td>PF00126.27</td>\n",
       "      <td>LSVLRNFAVVARAG.SISVASQ.QVGR...TQSTLSMQMQRLEE.M...</td>\n",
       "      <td>LSVLRNFAVVARAGSISVASQQVGRTQSTLSMQMQRLEEMIGQILL...</td>\n",
       "    </tr>\n",
       "    <tr>\n",
       "      <th>70910</th>\n",
       "      <td>HTH_1</td>\n",
       "      <td>CMPR_SYNY3/6-65</td>\n",
       "      <td>PF00126.27</td>\n",
       "      <td>LHQFEVFAAIARTG.SFTKAAE.ELFL...TQPTVSQQMKQLTK.A...</td>\n",
       "      <td>LHQFEVFAAIARTGSFTKAAEELFLTQPTVSQQMKQLTKAIGVPLY...</td>\n",
       "    </tr>\n",
       "  </tbody>\n",
       "</table>\n",
       "</div>"
      ],
      "text/plain": [
       "                         family_id       sequence_name family_accession  \\\n",
       "family_accession                                                          \n",
       "PF00126.27       1164493     HTH_1   Q8XQJ0_RALSO/7-66       PF00126.27   \n",
       "                 1064301     HTH_1   Q8PCA2_XANCP/3-62       PF00126.27   \n",
       "                 165761      HTH_1  Q7VWW6_BORPE/24-88       PF00126.27   \n",
       "                 715198      HTH_1   Q7D3E4_AGRFC/5-64       PF00126.27   \n",
       "                 70910       HTH_1     CMPR_SYNY3/6-65       PF00126.27   \n",
       "\n",
       "                                                           aligned_sequence  \\\n",
       "family_accession                                                              \n",
       "PF00126.27       1164493  IRHLWLFHAVAEER.NFSRAAK.RLGM...SQPPLTDQIKVLEH.A...   \n",
       "                 1064301  LRDLKYLVALADHK.HFGRAAT.ACFV...SQPTLSTQIKKLED.E...   \n",
       "                 165761   QHRIDLLAQIEATG.SISAAAR.AAGM...SYKGAWDAIDAMNN.L...   \n",
       "                 715198   LSVLRNFAVVARAG.SISVASQ.QVGR...TQSTLSMQMQRLEE.M...   \n",
       "                 70910    LHQFEVFAAIARTG.SFTKAAE.ELFL...TQPTVSQQMKQLTK.A...   \n",
       "\n",
       "                                                                   sequence  \n",
       "family_accession                                                             \n",
       "PF00126.27       1164493  IRHLWLFHAVAEERNFSRAAKRLGMSQPPLTDQIKVLEHALKIKLF...  \n",
       "                 1064301  LRDLKYLVALADHKHFGRAATACFVSQPTLSTQIKKLEDELGVPLV...  \n",
       "                 165761   QHRIDLLAQIEATGSISAAARAAGMSYKGAWDAIDAMNNLAGEPLV...  \n",
       "                 715198   LSVLRNFAVVARAGSISVASQQVGRTQSTLSMQMQRLEEMIGQILL...  \n",
       "                 70910    LHQFEVFAAIARTGSFTKAAEELFLTQPTVSQQMKQLTKAIGVPLY...  "
      ]
     },
     "execution_count": 16,
     "metadata": {},
     "output_type": "execute_result"
    }
   ],
   "source": [
    "df_bal.head()"
   ]
  },
  {
   "cell_type": "code",
   "execution_count": 17,
   "metadata": {},
   "outputs": [
    {
     "data": {
      "text/html": [
       "<div>\n",
       "<style scoped>\n",
       "    .dataframe tbody tr th:only-of-type {\n",
       "        vertical-align: middle;\n",
       "    }\n",
       "\n",
       "    .dataframe tbody tr th {\n",
       "        vertical-align: top;\n",
       "    }\n",
       "\n",
       "    .dataframe thead th {\n",
       "        text-align: right;\n",
       "    }\n",
       "</style>\n",
       "<table border=\"1\" class=\"dataframe\">\n",
       "  <thead>\n",
       "    <tr style=\"text-align: right;\">\n",
       "      <th></th>\n",
       "      <th>family_accession</th>\n",
       "      <th>sequence</th>\n",
       "    </tr>\n",
       "  </thead>\n",
       "  <tbody>\n",
       "    <tr>\n",
       "      <th>0</th>\n",
       "      <td>PF00126.27</td>\n",
       "      <td>IRHLWLFHAVAEERNFSRAAKRLGMSQPPLTDQIKVLEHALKIKLF...</td>\n",
       "    </tr>\n",
       "    <tr>\n",
       "      <th>1</th>\n",
       "      <td>PF00126.27</td>\n",
       "      <td>LRDLKYLVALADHKHFGRAATACFVSQPTLSTQIKKLEDELGVPLV...</td>\n",
       "    </tr>\n",
       "    <tr>\n",
       "      <th>2</th>\n",
       "      <td>PF00126.27</td>\n",
       "      <td>QHRIDLLAQIEATGSISAAARAAGMSYKGAWDAIDAMNNLAGEPLV...</td>\n",
       "    </tr>\n",
       "    <tr>\n",
       "      <th>3</th>\n",
       "      <td>PF00126.27</td>\n",
       "      <td>LSVLRNFAVVARAGSISVASQQVGRTQSTLSMQMQRLEEMIGQILL...</td>\n",
       "    </tr>\n",
       "    <tr>\n",
       "      <th>4</th>\n",
       "      <td>PF00126.27</td>\n",
       "      <td>LHQFEVFAAIARTGSFTKAAEELFLTQPTVSQQMKQLTKAIGVPLY...</td>\n",
       "    </tr>\n",
       "    <tr>\n",
       "      <th>...</th>\n",
       "      <td>...</td>\n",
       "      <td>...</td>\n",
       "    </tr>\n",
       "    <tr>\n",
       "      <th>33595</th>\n",
       "      <td>PF13649.6</td>\n",
       "      <td>VLDIGCGDGKFTANFVDRVEYVLGLDASKGMIEAAKRDFARGNAEY...</td>\n",
       "    </tr>\n",
       "    <tr>\n",
       "      <th>33596</th>\n",
       "      <td>PF13649.6</td>\n",
       "      <td>ALDLAGGTGDLALLMQKRMTRSGRVTICDINYSMLDQGRHRLTDEG...</td>\n",
       "    </tr>\n",
       "    <tr>\n",
       "      <th>33597</th>\n",
       "      <td>PF13649.6</td>\n",
       "      <td>VLDIGTGPGFFAILLALSGHQVTAIDATPGMLLEAKNNASQHNVSI...</td>\n",
       "    </tr>\n",
       "    <tr>\n",
       "      <th>33598</th>\n",
       "      <td>PF13649.6</td>\n",
       "      <td>VLDVGTGTGLVALAAARLVGSSGRVTGVDLSDAMIHKAAVKARAQG...</td>\n",
       "    </tr>\n",
       "    <tr>\n",
       "      <th>33599</th>\n",
       "      <td>PF13649.6</td>\n",
       "      <td>VLEAGCGVGAQTLPLAQNSPASTIVALEISRPSAAEARGRAEAAGL...</td>\n",
       "    </tr>\n",
       "  </tbody>\n",
       "</table>\n",
       "<p>33600 rows × 2 columns</p>\n",
       "</div>"
      ],
      "text/plain": [
       "      family_accession                                           sequence\n",
       "0           PF00126.27  IRHLWLFHAVAEERNFSRAAKRLGMSQPPLTDQIKVLEHALKIKLF...\n",
       "1           PF00126.27  LRDLKYLVALADHKHFGRAATACFVSQPTLSTQIKKLEDELGVPLV...\n",
       "2           PF00126.27  QHRIDLLAQIEATGSISAAARAAGMSYKGAWDAIDAMNNLAGEPLV...\n",
       "3           PF00126.27  LSVLRNFAVVARAGSISVASQQVGRTQSTLSMQMQRLEEMIGQILL...\n",
       "4           PF00126.27  LHQFEVFAAIARTGSFTKAAEELFLTQPTVSQQMKQLTKAIGVPLY...\n",
       "...                ...                                                ...\n",
       "33595        PF13649.6  VLDIGCGDGKFTANFVDRVEYVLGLDASKGMIEAAKRDFARGNAEY...\n",
       "33596        PF13649.6  ALDLAGGTGDLALLMQKRMTRSGRVTICDINYSMLDQGRHRLTDEG...\n",
       "33597        PF13649.6  VLDIGTGPGFFAILLALSGHQVTAIDATPGMLLEAKNNASQHNVSI...\n",
       "33598        PF13649.6  VLDVGTGTGLVALAAARLVGSSGRVTGVDLSDAMIHKAAVKARAQG...\n",
       "33599        PF13649.6  VLEAGCGVGAQTLPLAQNSPASTIVALEISRPSAAEARGRAEAAGL...\n",
       "\n",
       "[33600 rows x 2 columns]"
      ]
     },
     "execution_count": 17,
     "metadata": {},
     "output_type": "execute_result"
    }
   ],
   "source": [
    "df_red = df_bal[[\"family_accession\", \"sequence\"]].reset_index(drop=True)\n",
    "df_red"
   ]
  },
  {
   "cell_type": "code",
   "execution_count": 18,
   "metadata": {},
   "outputs": [
    {
     "data": {
      "text/plain": [
       "28"
      ]
     },
     "execution_count": 18,
     "metadata": {},
     "output_type": "execute_result"
    }
   ],
   "source": [
    "num_classes = len(df_red.family_accession.value_counts())\n",
    "num_classes"
   ]
  },
  {
   "cell_type": "code",
   "execution_count": 19,
   "metadata": {},
   "outputs": [
    {
     "data": {
      "text/plain": [
       "PF02729.21    1200\n",
       "PF03453.17    1200\n",
       "PF00560.33    1200\n",
       "PF00684.19    1200\n",
       "PF03484.15    1200\n",
       "PF06580.13    1200\n",
       "PF00126.27    1200\n",
       "PF01368.20    1200\n",
       "PF01715.17    1200\n",
       "PF01523.16    1200\n",
       "PF02881.19    1200\n",
       "PF00400.32    1200\n",
       "PF13649.6     1200\n",
       "PF01725.16    1200\n",
       "PF01799.20    1200\n",
       "PF13472.6     1200\n",
       "PF00391.23    1200\n",
       "PF02545.14    1200\n",
       "PF02397.16    1200\n",
       "PF13508.7     1200\n",
       "PF05192.18    1200\n",
       "PF01035.20    1200\n",
       "PF02417.15    1200\n",
       "PF00677.17    1200\n",
       "PF00586.24    1200\n",
       "PF00763.23    1200\n",
       "PF01255.19    1200\n",
       "PF02885.17    1200\n",
       "Name: family_accession, dtype: int64"
      ]
     },
     "execution_count": 19,
     "metadata": {},
     "output_type": "execute_result"
    }
   ],
   "source": [
    "df_red.family_accession.value_counts()"
   ]
  },
  {
   "cell_type": "code",
   "execution_count": 20,
   "metadata": {},
   "outputs": [],
   "source": [
    "from sklearn.model_selection import train_test_split\n",
    "\n",
    "X_train, X_test = train_test_split(df_red, test_size=0.25)\n",
    "X_val, X_test = train_test_split(X_test, test_size=0.50)"
   ]
  },
  {
   "cell_type": "code",
   "execution_count": 21,
   "metadata": {},
   "outputs": [
    {
     "name": "stdout",
     "output_type": "stream",
     "text": [
      "(25200, 2)\n",
      "(4200, 2)\n",
      "(4200, 2)\n"
     ]
    }
   ],
   "source": [
    "print(X_train.shape)\n",
    "print(X_test.shape)\n",
    "print(X_val.shape)"
   ]
  },
  {
   "cell_type": "code",
   "execution_count": 22,
   "metadata": {},
   "outputs": [],
   "source": [
    "aa_seq_dict = { 'A': 1,\n",
    "                'C': 2,\n",
    "                'D': 3,\n",
    "                'E': 4,\n",
    "                'F': 5,\n",
    "                'G': 6,\n",
    "                'H': 7,\n",
    "                'I': 8,\n",
    "                'K': 9,\n",
    "                'L': 10,\n",
    "                'M': 11,\n",
    "                'N': 12,\n",
    "                'P': 13,\n",
    "                'Q': 14,\n",
    "                'R': 15,\n",
    "                'S': 16,\n",
    "                'T': 17,\n",
    "                'V': 18,\n",
    "                'W': 19,\n",
    "                'Y': 20 }"
   ]
  },
  {
   "cell_type": "code",
   "execution_count": 23,
   "metadata": {},
   "outputs": [],
   "source": [
    "def aa_seq_encoder(data):\n",
    "    full_sequence_list = []\n",
    "    for i in data['sequence'].values:\n",
    "        row_sequence_list = []\n",
    "        for j in i:\n",
    "            row_sequence_list.append(aa_seq_dict.get(j, 0))\n",
    "        full_sequence_list.append(np.array(row_sequence_list))\n",
    "    return full_sequence_list\n",
    "  \n",
    "X_train_encode = aa_seq_encoder(X_train) \n",
    "X_val_encode = aa_seq_encoder(X_val) \n",
    "X_test_encode = aa_seq_encoder(X_test) "
   ]
  },
  {
   "cell_type": "code",
   "execution_count": 24,
   "metadata": {},
   "outputs": [
    {
     "data": {
      "text/plain": [
       "array([ 4,  9, 15,  1, 20,  5, 18, 18,  4,  3, 13, 17,  6,  9, 18, 10,  6,\n",
       "        6,  8,  6,  8,  3,  4,  5, 13,  6,  5,  1, 15,  2,  1,  4,  8, 14,\n",
       "        9, 10, 20, 10, 16,  3,  4,  1,  9,  6,  9,  6, 10,  6,  9,  1, 10,\n",
       "       11,  4,  1,  1,  4,  6, 20,  1, 18, 14,  1,  6, 20,  4, 15, 10, 20,\n",
       "       10,  4, 17,  7, 17, 12, 10,  4,  1,  1,  8,  7, 10, 20,  4,  9, 16,\n",
       "        6,  5,  7,  9])"
      ]
     },
     "execution_count": 24,
     "metadata": {},
     "output_type": "execute_result"
    }
   ],
   "source": [
    "X_train_encode[0]"
   ]
  },
  {
   "cell_type": "code",
   "execution_count": 25,
   "metadata": {},
   "outputs": [],
   "source": [
    "from keras.preprocessing.sequence import pad_sequences\n",
    "\n",
    "max_length = 100\n",
    "\n",
    "X_train_padded = pad_sequences(X_train_encode, maxlen=max_length, padding='post', truncating='post')\n",
    "X_val_padded = pad_sequences(X_val_encode, maxlen=max_length, padding='post', truncating='post')\n",
    "X_test_padded = pad_sequences(X_test_encode, maxlen=max_length, padding='post', truncating='post')"
   ]
  },
  {
   "cell_type": "code",
   "execution_count": 26,
   "metadata": {},
   "outputs": [],
   "source": [
    "from sklearn.preprocessing import LabelEncoder\n",
    "le = LabelEncoder()\n",
    "\n",
    "y_train_enc = le.fit_transform(X_train['family_accession'])\n",
    "y_val_enc = le.transform(X_val['family_accession'])\n",
    "y_test_enc = le.transform(X_test['family_accession'])\n"
   ]
  },
  {
   "cell_type": "code",
   "execution_count": 27,
   "metadata": {},
   "outputs": [
    {
     "name": "stdout",
     "output_type": "stream",
     "text": [
      "Total classes:  28\n"
     ]
    }
   ],
   "source": [
    "print('Total classes: ', len(le.classes_))"
   ]
  },
  {
   "cell_type": "code",
   "execution_count": 28,
   "metadata": {},
   "outputs": [],
   "source": [
    "y_train = to_categorical(y_train_enc)\n",
    "y_val = to_categorical(y_val_enc)\n",
    "y_test = to_categorical(y_test_enc)"
   ]
  },
  {
   "cell_type": "markdown",
   "metadata": {},
   "source": [
    "### Model Development:"
   ]
  },
  {
   "cell_type": "code",
   "execution_count": 29,
   "metadata": {},
   "outputs": [],
   "source": [
    "import mlflow\n",
    "import mlflow.keras"
   ]
  },
  {
   "cell_type": "code",
   "execution_count": 30,
   "metadata": {},
   "outputs": [],
   "source": [
    "import tensorflow as tf\n",
    "from keras.models import Sequential\n",
    "from keras.layers import Dense, Conv1D, MaxPooling1D, Flatten, Input, Bidirectional, LSTM, Dropout, SimpleRNN\n",
    "from keras.layers.embeddings import Embedding\n",
    "from keras.regularizers import l2\n",
    "from keras.models import Model\n",
    "from keras.callbacks import EarlyStopping\n"
   ]
  },
  {
   "cell_type": "markdown",
   "metadata": {},
   "source": [
    "### Bidirectional LSTM:"
   ]
  },
  {
   "cell_type": "code",
   "execution_count": 44,
   "metadata": {},
   "outputs": [
    {
     "name": "stderr",
     "output_type": "stream",
     "text": [
      "2021/08/22 21:58:54 INFO mlflow.utils.autologging_utils: Created MLflow autologging run with ID '09a160473ea945edbacd7365202355ba', which will track hyperparameters, performance metrics, model artifacts, and lineage information for the current keras workflow\n"
     ]
    },
    {
     "name": "stdout",
     "output_type": "stream",
     "text": [
      "Epoch 1/30\n",
      "99/99 - 8s - loss: 2.2130 - accuracy: 0.3352 - val_loss: 1.2912 - val_accuracy: 0.6260\n",
      "Epoch 2/30\n",
      "99/99 - 6s - loss: 1.1113 - accuracy: 0.6483 - val_loss: 0.7402 - val_accuracy: 0.7955\n",
      "Epoch 3/30\n",
      "99/99 - 7s - loss: 0.7756 - accuracy: 0.7514 - val_loss: 0.5061 - val_accuracy: 0.8595\n",
      "Epoch 4/30\n",
      "99/99 - 7s - loss: 0.6071 - accuracy: 0.8086 - val_loss: 0.3960 - val_accuracy: 0.8874\n",
      "Epoch 5/30\n",
      "99/99 - 7s - loss: 0.5129 - accuracy: 0.8394 - val_loss: 0.3406 - val_accuracy: 0.9007\n",
      "Epoch 6/30\n",
      "99/99 - 7s - loss: 0.4457 - accuracy: 0.8606 - val_loss: 0.2723 - val_accuracy: 0.9238\n",
      "Epoch 7/30\n",
      "99/99 - 7s - loss: 0.4034 - accuracy: 0.8743 - val_loss: 0.2532 - val_accuracy: 0.9302\n",
      "Epoch 8/30\n",
      "99/99 - 7s - loss: 0.3615 - accuracy: 0.8866 - val_loss: 0.2461 - val_accuracy: 0.9267\n",
      "Epoch 9/30\n",
      "99/99 - 7s - loss: 0.3352 - accuracy: 0.8944 - val_loss: 0.2130 - val_accuracy: 0.9383\n",
      "Epoch 10/30\n",
      "99/99 - 7s - loss: 0.3178 - accuracy: 0.9039 - val_loss: 0.1873 - val_accuracy: 0.9495\n",
      "Epoch 11/30\n",
      "99/99 - 7s - loss: 0.2847 - accuracy: 0.9140 - val_loss: 0.1783 - val_accuracy: 0.9512\n",
      "Epoch 12/30\n",
      "99/99 - 7s - loss: 0.2639 - accuracy: 0.9208 - val_loss: 0.1590 - val_accuracy: 0.9552\n",
      "Epoch 13/30\n",
      "99/99 - 7s - loss: 0.2507 - accuracy: 0.9250 - val_loss: 0.1567 - val_accuracy: 0.9567\n",
      "Epoch 14/30\n",
      "99/99 - 7s - loss: 0.2373 - accuracy: 0.9285 - val_loss: 0.1402 - val_accuracy: 0.9629\n",
      "Epoch 15/30\n",
      "99/99 - 7s - loss: 0.2347 - accuracy: 0.9285 - val_loss: 0.1326 - val_accuracy: 0.9648\n",
      "Epoch 16/30\n",
      "99/99 - 7s - loss: 0.2205 - accuracy: 0.9338 - val_loss: 0.1295 - val_accuracy: 0.9636\n",
      "Epoch 17/30\n",
      "99/99 - 7s - loss: 0.2127 - accuracy: 0.9342 - val_loss: 0.1198 - val_accuracy: 0.9669\n",
      "Epoch 18/30\n",
      "99/99 - 7s - loss: 0.2126 - accuracy: 0.9354 - val_loss: 0.1177 - val_accuracy: 0.9698\n",
      "Epoch 19/30\n",
      "99/99 - 7s - loss: 0.2079 - accuracy: 0.9359 - val_loss: 0.1150 - val_accuracy: 0.9636\n",
      "Epoch 20/30\n",
      "99/99 - 7s - loss: 0.1981 - accuracy: 0.9391 - val_loss: 0.1181 - val_accuracy: 0.9667\n",
      "Epoch 21/30\n",
      "99/99 - 7s - loss: 0.1872 - accuracy: 0.9434 - val_loss: 0.1084 - val_accuracy: 0.9679\n",
      "Epoch 22/30\n",
      "99/99 - 7s - loss: 0.1869 - accuracy: 0.9427 - val_loss: 0.1176 - val_accuracy: 0.9648\n",
      "Epoch 23/30\n",
      "99/99 - 7s - loss: 0.1812 - accuracy: 0.9452 - val_loss: 0.1260 - val_accuracy: 0.9590\n",
      "Epoch 24/30\n",
      "99/99 - 7s - loss: 0.1806 - accuracy: 0.9443 - val_loss: 0.1031 - val_accuracy: 0.9721\n",
      "Epoch 25/30\n",
      "99/99 - 7s - loss: 0.1769 - accuracy: 0.9470 - val_loss: 0.1021 - val_accuracy: 0.9695\n",
      "Epoch 26/30\n",
      "99/99 - 7s - loss: 0.1720 - accuracy: 0.9464 - val_loss: 0.0989 - val_accuracy: 0.9721\n",
      "Epoch 27/30\n",
      "99/99 - 7s - loss: 0.1626 - accuracy: 0.9517 - val_loss: 0.1029 - val_accuracy: 0.9698\n",
      "Epoch 28/30\n",
      "99/99 - 7s - loss: 0.1677 - accuracy: 0.9497 - val_loss: 0.0973 - val_accuracy: 0.9707\n",
      "Epoch 29/30\n",
      "99/99 - 7s - loss: 0.1659 - accuracy: 0.9488 - val_loss: 0.0992 - val_accuracy: 0.9707\n",
      "Epoch 30/30\n",
      "99/99 - 7s - loss: 0.1593 - accuracy: 0.9514 - val_loss: 0.0959 - val_accuracy: 0.9688\n"
     ]
    },
    {
     "name": "stderr",
     "output_type": "stream",
     "text": [
      "WARNING:absl:Found untraced functions such as lstm_cell_27_layer_call_and_return_conditional_losses, lstm_cell_27_layer_call_fn, lstm_cell_28_layer_call_and_return_conditional_losses, lstm_cell_28_layer_call_fn, lstm_cell_27_layer_call_fn while saving (showing 5 of 10). These functions will not be directly callable after loading.\n",
      "WARNING:absl:Found untraced functions such as lstm_cell_27_layer_call_and_return_conditional_losses, lstm_cell_27_layer_call_fn, lstm_cell_28_layer_call_and_return_conditional_losses, lstm_cell_28_layer_call_fn, lstm_cell_27_layer_call_fn while saving (showing 5 of 10). These functions will not be directly callable after loading.\n"
     ]
    },
    {
     "name": "stdout",
     "output_type": "stream",
     "text": [
      "INFO:tensorflow:Assets written to: C:\\Users\\SALEHA~1\\AppData\\Local\\Temp\\tmpoch3r34d\\model\\data\\model\\assets\n"
     ]
    },
    {
     "name": "stderr",
     "output_type": "stream",
     "text": [
      "INFO:tensorflow:Assets written to: C:\\Users\\SALEHA~1\\AppData\\Local\\Temp\\tmpoch3r34d\\model\\data\\model\\assets\n"
     ]
    },
    {
     "data": {
      "text/plain": [
       "<matplotlib.legend.Legend at 0x12b7c23ffd0>"
      ]
     },
     "execution_count": 44,
     "metadata": {},
     "output_type": "execute_result"
    },
    {
     "data": {
      "image/png": "[encoded data removed]",
      "text/plain": [
       "<Figure size 720x720 with 2 Axes>"
      ]
     },
     "metadata": {},
     "output_type": "display_data"
    }
   ],
   "source": [
    "## Bidirectional LSTM n=8, lr=0.01\n",
    "model = Sequential()\n",
    "model.add(Embedding(21, 8, input_length=max_length, name=\"EmbeddingLayer\"))\n",
    "model.add(Bidirectional(LSTM(8), name=\"BidirectionalLayer\"))\n",
    "model.add(Dropout(0.2, name=\"DropoutLayer\"))\n",
    "model.add(Dense(28, activation='softmax', name=\"DenseLayer\"))\n",
    "opt = tf.keras.optimizers.Adam(learning_rate=0.01)\n",
    "\n",
    "model.compile(optimizer=opt, loss='categorical_crossentropy', metrics=['accuracy'])\n",
    "\n",
    "es = EarlyStopping(monitor='val_loss', patience=5, verbose=1)\n",
    "\n",
    "mlflow.keras.autolog()\n",
    "history = model.fit(\n",
    "    X_train_padded, y_train,\n",
    "    epochs=30, batch_size=256,\n",
    "    validation_data=(X_val_padded, y_val),\n",
    "    callbacks=[es], verbose=2\n",
    "    )\n",
    "\n",
    "fig = plt.figure(figsize=(10,10))\n",
    "\n",
    "# total_rows, total_columns, subplot_index(1st, 2nd, etc..)\n",
    "plt.subplot(2, 2, 1)\n",
    "plt.title(\"Accuracy\", fontsize=15)\n",
    "plt.xlabel(\"Epochs\", fontsize=15)\n",
    "plt.ylabel(\"Accuracy (%)\", fontsize=15)\n",
    "plt.plot(history.history[\"val_accuracy\"], label='Validation Accuracy', linestyle='dashed')\n",
    "plt.plot(history.history[\"accuracy\"], label='Training Accuracy')\n",
    "plt.legend([\"Validation\", \"Training\"], loc=\"lower right\")\n",
    "\n",
    "plt.subplot(2, 2, 2)\n",
    "plt.title(\"Loss\", fontsize=15)\n",
    "plt.xlabel(\"Epochs\", fontsize=15)\n",
    "plt.ylabel(\"Loss\", fontsize=15)\n",
    "plt.plot(history.history[\"val_loss\"], label='Validation loss', linestyle='dashed')\n",
    "plt.plot(history.history[\"loss\"], label='Training loss')\n",
    "plt.legend([\"Validation\", \"Training\"], loc=\"upper right\")"
   ]
  },
  {
   "cell_type": "code",
   "execution_count": 45,
   "metadata": {},
   "outputs": [
    {
     "data": {
      "text/plain": [
       "<matplotlib.legend.Legend at 0x12b776ba700>"
      ]
     },
     "execution_count": 45,
     "metadata": {},
     "output_type": "execute_result"
    },
    {
     "data": {
      "image/png": "[encoded data removed]",
      "text/plain": [
       "<Figure size 720x720 with 2 Axes>"
      ]
     },
     "metadata": {},
     "output_type": "display_data"
    }
   ],
   "source": [
    "fig = plt.figure(figsize=(10,10))\n",
    "\n",
    "# total_rows, total_columns, subplot_index(1st, 2nd, etc..)\n",
    "plt.subplot(2, 2, 1)\n",
    "plt.title(\"Accuracy\", fontsize=15)\n",
    "plt.xlabel(\"Epochs\", fontsize=15)\n",
    "plt.ylabel(\"Accuracy (%)\", fontsize=15)\n",
    "plt.plot(history.history[\"val_accuracy\"], label='Validation Accuracy', linestyle='dashed')\n",
    "plt.plot(history.history[\"accuracy\"], label='Training Accuracy')\n",
    "plt.legend([\"Validation\", \"Training\"], loc=\"lower right\")\n",
    "\n",
    "plt.subplot(2, 2, 2)\n",
    "plt.title(\"Loss\", fontsize=15)\n",
    "plt.xlabel(\"Epochs\", fontsize=15)\n",
    "plt.ylabel(\"Loss\", fontsize=15)\n",
    "plt.plot(history.history[\"val_loss\"], label='Validation loss', linestyle='dashed')\n",
    "plt.plot(history.history[\"loss\"], label='Training loss')\n",
    "plt.legend([\"Validation\", \"Training\"], loc=\"upper right\")"
   ]
  },
  {
   "cell_type": "code",
   "execution_count": 42,
   "metadata": {},
   "outputs": [
    {
     "name": "stderr",
     "output_type": "stream",
     "text": [
      "2021/08/22 21:53:45 INFO mlflow.utils.autologging_utils: Created MLflow autologging run with ID 'cf8c8e4b1dff4a4784414fa86f05059c', which will track hyperparameters, performance metrics, model artifacts, and lineage information for the current keras workflow\n"
     ]
    },
    {
     "name": "stdout",
     "output_type": "stream",
     "text": [
      "Epoch 1/30\n",
      "99/99 - 10s - loss: 1.9501 - accuracy: 0.3991 - val_loss: 0.9718 - val_accuracy: 0.7043\n",
      "Epoch 2/30\n",
      "99/99 - 6s - loss: 0.8300 - accuracy: 0.7457 - val_loss: 0.4931 - val_accuracy: 0.8655\n",
      "Epoch 3/30\n",
      "99/99 - 6s - loss: 0.4994 - accuracy: 0.8548 - val_loss: 0.3005 - val_accuracy: 0.9131\n",
      "Epoch 4/30\n",
      "99/99 - 6s - loss: 0.3533 - accuracy: 0.8951 - val_loss: 0.1944 - val_accuracy: 0.9471\n",
      "Epoch 5/30\n",
      "99/99 - 6s - loss: 0.2678 - accuracy: 0.9222 - val_loss: 0.1508 - val_accuracy: 0.9593\n",
      "Epoch 6/30\n",
      "99/99 - 6s - loss: 0.2198 - accuracy: 0.9358 - val_loss: 0.1236 - val_accuracy: 0.9664\n",
      "Epoch 7/30\n",
      "99/99 - 6s - loss: 0.1872 - accuracy: 0.9460 - val_loss: 0.1124 - val_accuracy: 0.9681\n",
      "Epoch 8/30\n",
      "99/99 - 6s - loss: 0.1598 - accuracy: 0.9526 - val_loss: 0.0988 - val_accuracy: 0.9738\n",
      "Epoch 9/30\n",
      "99/99 - 6s - loss: 0.1544 - accuracy: 0.9539 - val_loss: 0.0908 - val_accuracy: 0.9743\n",
      "Epoch 10/30\n",
      "99/99 - 6s - loss: 0.1359 - accuracy: 0.9600 - val_loss: 0.0915 - val_accuracy: 0.9762\n",
      "Epoch 11/30\n",
      "99/99 - 6s - loss: 0.1249 - accuracy: 0.9644 - val_loss: 0.0758 - val_accuracy: 0.9793\n",
      "Epoch 12/30\n",
      "99/99 - 6s - loss: 0.1154 - accuracy: 0.9658 - val_loss: 0.0722 - val_accuracy: 0.9800\n",
      "Epoch 13/30\n",
      "99/99 - 6s - loss: 0.1114 - accuracy: 0.9673 - val_loss: 0.0735 - val_accuracy: 0.9786\n",
      "Epoch 14/30\n",
      "99/99 - 6s - loss: 0.1074 - accuracy: 0.9678 - val_loss: 0.0719 - val_accuracy: 0.9779\n",
      "Epoch 15/30\n",
      "99/99 - 6s - loss: 0.1004 - accuracy: 0.9708 - val_loss: 0.0654 - val_accuracy: 0.9800\n",
      "Epoch 16/30\n",
      "99/99 - 6s - loss: 0.0937 - accuracy: 0.9723 - val_loss: 0.0696 - val_accuracy: 0.9783\n",
      "Epoch 17/30\n",
      "99/99 - 6s - loss: 0.1010 - accuracy: 0.9699 - val_loss: 0.0629 - val_accuracy: 0.9798\n",
      "Epoch 18/30\n",
      "99/99 - 6s - loss: 0.0934 - accuracy: 0.9718 - val_loss: 0.0600 - val_accuracy: 0.9824\n",
      "Epoch 19/30\n",
      "99/99 - 6s - loss: 0.0859 - accuracy: 0.9747 - val_loss: 0.0637 - val_accuracy: 0.9805\n",
      "Epoch 20/30\n",
      "99/99 - 6s - loss: 0.0820 - accuracy: 0.9758 - val_loss: 0.0575 - val_accuracy: 0.9833\n",
      "Epoch 21/30\n",
      "99/99 - 6s - loss: 0.0818 - accuracy: 0.9750 - val_loss: 0.0612 - val_accuracy: 0.9836\n",
      "Epoch 22/30\n",
      "99/99 - 6s - loss: 0.0803 - accuracy: 0.9764 - val_loss: 0.0524 - val_accuracy: 0.9843\n",
      "Epoch 23/30\n",
      "99/99 - 6s - loss: 0.0765 - accuracy: 0.9771 - val_loss: 0.0529 - val_accuracy: 0.9862\n",
      "Epoch 24/30\n",
      "99/99 - 6s - loss: 0.0758 - accuracy: 0.9775 - val_loss: 0.0482 - val_accuracy: 0.9867\n",
      "Epoch 25/30\n",
      "99/99 - 6s - loss: 0.0670 - accuracy: 0.9800 - val_loss: 0.0540 - val_accuracy: 0.9838\n",
      "Epoch 26/30\n",
      "99/99 - 6s - loss: 0.0714 - accuracy: 0.9776 - val_loss: 0.0534 - val_accuracy: 0.9852\n",
      "Epoch 27/30\n",
      "99/99 - 6s - loss: 0.0714 - accuracy: 0.9791 - val_loss: 0.0533 - val_accuracy: 0.9831\n",
      "Epoch 28/30\n",
      "99/99 - 6s - loss: 0.0775 - accuracy: 0.9763 - val_loss: 0.0470 - val_accuracy: 0.9879\n",
      "Epoch 29/30\n",
      "99/99 - 6s - loss: 0.0665 - accuracy: 0.9796 - val_loss: 0.0441 - val_accuracy: 0.9886\n",
      "Epoch 30/30\n",
      "99/99 - 6s - loss: 0.0611 - accuracy: 0.9815 - val_loss: 0.0449 - val_accuracy: 0.9871\n"
     ]
    },
    {
     "name": "stderr",
     "output_type": "stream",
     "text": [
      "WARNING:absl:Found untraced functions such as lstm_cell_24_layer_call_and_return_conditional_losses, lstm_cell_24_layer_call_fn, lstm_cell_25_layer_call_and_return_conditional_losses, lstm_cell_25_layer_call_fn, lstm_cell_24_layer_call_fn while saving (showing 5 of 10). These functions will not be directly callable after loading.\n",
      "WARNING:absl:Found untraced functions such as lstm_cell_24_layer_call_and_return_conditional_losses, lstm_cell_24_layer_call_fn, lstm_cell_25_layer_call_and_return_conditional_losses, lstm_cell_25_layer_call_fn, lstm_cell_24_layer_call_fn while saving (showing 5 of 10). These functions will not be directly callable after loading.\n"
     ]
    },
    {
     "name": "stdout",
     "output_type": "stream",
     "text": [
      "INFO:tensorflow:Assets written to: C:\\Users\\SALEHA~1\\AppData\\Local\\Temp\\tmp882qbck1\\model\\data\\model\\assets\n"
     ]
    },
    {
     "name": "stderr",
     "output_type": "stream",
     "text": [
      "INFO:tensorflow:Assets written to: C:\\Users\\SALEHA~1\\AppData\\Local\\Temp\\tmp882qbck1\\model\\data\\model\\assets\n"
     ]
    }
   ],
   "source": [
    "## Bidirectional LSTM n=12, lr=0.01\n",
    "model = Sequential()\n",
    "model.add(Embedding(21, 12, input_length=max_length, name=\"EmbeddingLayer\"))\n",
    "model.add(Bidirectional(LSTM(12), name=\"BidirectionalLayer\"))\n",
    "model.add(Dropout(0.2, name=\"DropoutLayer\"))\n",
    "model.add(Dense(28, activation='softmax', name=\"DenseLayer\"))\n",
    "opt = tf.keras.optimizers.Adam(learning_rate=0.01)\n",
    "\n",
    "model.compile(optimizer=opt, loss='categorical_crossentropy', metrics=['accuracy'])\n",
    "\n",
    "es = EarlyStopping(monitor='val_loss', patience=5, verbose=1)\n",
    "\n",
    "mlflow.keras.autolog()\n",
    "history = model.fit(\n",
    "    X_train_padded, y_train,\n",
    "    epochs=30, batch_size=256,\n",
    "    validation_data=(X_val_padded, y_val),\n",
    "    callbacks=[es], verbose=2\n",
    "    )"
   ]
  },
  {
   "cell_type": "code",
   "execution_count": 43,
   "metadata": {},
   "outputs": [
    {
     "data": {
      "text/plain": [
       "<matplotlib.legend.Legend at 0x12b7ebd8580>"
      ]
     },
     "execution_count": 43,
     "metadata": {},
     "output_type": "execute_result"
    },
    {
     "data": {
      "image/png": "[encoded data removed]",
      "text/plain": [
       "<Figure size 720x720 with 2 Axes>"
      ]
     },
     "metadata": {},
     "output_type": "display_data"
    }
   ],
   "source": [
    "fig = plt.figure(figsize=(10,10))\n",
    "\n",
    "# total_rows, total_columns, subplot_index(1st, 2nd, etc..)\n",
    "plt.subplot(2, 2, 1)\n",
    "plt.title(\"Accuracy\", fontsize=15)\n",
    "plt.xlabel(\"Epochs\", fontsize=15)\n",
    "plt.ylabel(\"Accuracy (%)\", fontsize=15)\n",
    "plt.plot(history.history[\"val_accuracy\"], label='Validation Accuracy', linestyle='dashed')\n",
    "plt.plot(history.history[\"accuracy\"], label='Training Accuracy')\n",
    "plt.legend([\"Validation\", \"Training\"], loc=\"lower right\")\n",
    "\n",
    "plt.subplot(2, 2, 2)\n",
    "plt.title(\"Loss\", fontsize=15)\n",
    "plt.xlabel(\"Epochs\", fontsize=15)\n",
    "plt.ylabel(\"Loss\", fontsize=15)\n",
    "plt.plot(history.history[\"val_loss\"], label='Validation loss', linestyle='dashed')\n",
    "plt.plot(history.history[\"loss\"], label='Training loss')\n",
    "plt.legend([\"Validation\", \"Training\"], loc=\"upper right\")"
   ]
  },
  {
   "cell_type": "code",
   "execution_count": 41,
   "metadata": {},
   "outputs": [
    {
     "name": "stderr",
     "output_type": "stream",
     "text": [
      "2021/08/22 21:52:18 INFO mlflow.utils.autologging_utils: Created MLflow autologging run with ID 'fb5142e0f776495d971d02f2b2886775', which will track hyperparameters, performance metrics, model artifacts, and lineage information for the current keras workflow\n"
     ]
    },
    {
     "name": "stdout",
     "output_type": "stream",
     "text": [
      "Epoch 1/30\n",
      "99/99 - 9s - loss: 1.1314 - accuracy: 0.6419 - val_loss: 0.5133 - val_accuracy: 0.8336\n",
      "Epoch 2/30\n",
      "99/99 - 6s - loss: 0.6811 - accuracy: 0.7823 - val_loss: 0.4025 - val_accuracy: 0.8693\n",
      "Epoch 3/30\n",
      "99/99 - 6s - loss: 0.6186 - accuracy: 0.8029 - val_loss: 0.4093 - val_accuracy: 0.8738\n",
      "Epoch 4/30\n",
      "99/99 - 6s - loss: 0.6204 - accuracy: 0.8060 - val_loss: 0.4456 - val_accuracy: 0.8648\n",
      "Epoch 5/30\n",
      "99/99 - 6s - loss: 0.5549 - accuracy: 0.8225 - val_loss: 0.3356 - val_accuracy: 0.8936\n",
      "Epoch 6/30\n",
      "99/99 - 6s - loss: 0.6180 - accuracy: 0.8019 - val_loss: 0.4124 - val_accuracy: 0.8681\n",
      "Epoch 7/30\n",
      "99/99 - 6s - loss: 0.7409 - accuracy: 0.7618 - val_loss: 0.5530 - val_accuracy: 0.8150\n",
      "Epoch 8/30\n",
      "99/99 - 6s - loss: 0.7041 - accuracy: 0.7756 - val_loss: 0.4278 - val_accuracy: 0.8645\n",
      "Epoch 9/30\n",
      "99/99 - 6s - loss: 0.6330 - accuracy: 0.7980 - val_loss: 0.4082 - val_accuracy: 0.8750\n",
      "Epoch 10/30\n",
      "99/99 - 6s - loss: 0.6213 - accuracy: 0.8030 - val_loss: 0.4841 - val_accuracy: 0.8479\n",
      "Epoch 00010: early stopping\n"
     ]
    },
    {
     "name": "stderr",
     "output_type": "stream",
     "text": [
      "WARNING:absl:Found untraced functions such as lstm_cell_21_layer_call_and_return_conditional_losses, lstm_cell_21_layer_call_fn, lstm_cell_22_layer_call_and_return_conditional_losses, lstm_cell_22_layer_call_fn, lstm_cell_21_layer_call_fn while saving (showing 5 of 10). These functions will not be directly callable after loading.\n",
      "WARNING:absl:Found untraced functions such as lstm_cell_21_layer_call_and_return_conditional_losses, lstm_cell_21_layer_call_fn, lstm_cell_22_layer_call_and_return_conditional_losses, lstm_cell_22_layer_call_fn, lstm_cell_21_layer_call_fn while saving (showing 5 of 10). These functions will not be directly callable after loading.\n"
     ]
    },
    {
     "name": "stdout",
     "output_type": "stream",
     "text": [
      "INFO:tensorflow:Assets written to: C:\\Users\\SALEHA~1\\AppData\\Local\\Temp\\tmp8yub6ir5\\model\\data\\model\\assets\n"
     ]
    },
    {
     "name": "stderr",
     "output_type": "stream",
     "text": [
      "INFO:tensorflow:Assets written to: C:\\Users\\SALEHA~1\\AppData\\Local\\Temp\\tmp8yub6ir5\\model\\data\\model\\assets\n"
     ]
    }
   ],
   "source": [
    "## Bidirectional LSTM n=12, lr=0.1\n",
    "model = Sequential()\n",
    "model.add(Embedding(21, 12, input_length=max_length, name=\"EmbeddingLayer\"))\n",
    "model.add(Bidirectional(LSTM(12), name=\"BidirectionalLayer\"))\n",
    "model.add(Dropout(0.2, name=\"DropoutLayer\"))\n",
    "model.add(Dense(28, activation='softmax', name=\"DenseLayer\"))\n",
    "opt = tf.keras.optimizers.Adam(learning_rate=0.1)\n",
    "\n",
    "model.compile(optimizer=opt, loss='categorical_crossentropy', metrics=['accuracy'])\n",
    "\n",
    "es = EarlyStopping(monitor='val_loss', patience=5, verbose=1)\n",
    "\n",
    "mlflow.keras.autolog()\n",
    "history = model.fit(\n",
    "    X_train_padded, y_train,\n",
    "    epochs=30, batch_size=256,\n",
    "    validation_data=(X_val_padded, y_val),\n",
    "    callbacks=[es], verbose=2\n",
    "    )"
   ]
  },
  {
   "cell_type": "code",
   "execution_count": 40,
   "metadata": {},
   "outputs": [
    {
     "data": {
      "text/plain": [
       "<matplotlib.legend.Legend at 0x12b6bc9cc10>"
      ]
     },
     "execution_count": 40,
     "metadata": {},
     "output_type": "execute_result"
    },
    {
     "data": {
      "image/png": "[encoded data removed]",
      "text/plain": [
       "<Figure size 720x720 with 2 Axes>"
      ]
     },
     "metadata": {},
     "output_type": "display_data"
    }
   ],
   "source": [
    "fig = plt.figure(figsize=(10,10))\n",
    "\n",
    "# total_rows, total_columns, subplot_index(1st, 2nd, etc..)\n",
    "plt.subplot(2, 2, 1)\n",
    "plt.title(\"Accuracy\", fontsize=15)\n",
    "plt.xlabel(\"Epochs\", fontsize=15)\n",
    "plt.ylabel(\"Accuracy (%)\", fontsize=15)\n",
    "plt.plot(history.history[\"val_accuracy\"], label='Validation Accuracy', linestyle='dashed')\n",
    "plt.plot(history.history[\"accuracy\"], label='Training Accuracy')\n",
    "plt.legend([\"Validation\", \"Training\"], loc=\"lower right\")\n",
    "\n",
    "plt.subplot(2, 2, 2)\n",
    "plt.title(\"Loss\", fontsize=15)\n",
    "plt.xlabel(\"Epochs\", fontsize=15)\n",
    "plt.ylabel(\"Loss\", fontsize=15)\n",
    "plt.plot(history.history[\"val_loss\"], label='Validation loss', linestyle='dashed')\n",
    "plt.plot(history.history[\"loss\"], label='Training loss')\n",
    "plt.legend([\"Validation\", \"Training\"], loc=\"upper right\")"
   ]
  },
  {
   "cell_type": "markdown",
   "metadata": {},
   "source": [
    "### LSTM Models:"
   ]
  },
  {
   "cell_type": "code",
   "execution_count": 34,
   "metadata": {},
   "outputs": [
    {
     "name": "stderr",
     "output_type": "stream",
     "text": [
      "2021/08/22 21:27:52 INFO mlflow.utils.autologging_utils: Created MLflow autologging run with ID 'e080a648a3dc491e93f9769cc20296ec', which will track hyperparameters, performance metrics, model artifacts, and lineage information for the current keras workflow\n"
     ]
    },
    {
     "name": "stdout",
     "output_type": "stream",
     "text": [
      "Epoch 1/30\n",
      "99/99 [==============================] - 4s 27ms/step - loss: 2.9675 - accuracy: 0.0773 - val_loss: 2.4261 - val_accuracy: 0.1631\n",
      "Epoch 2/30\n",
      "99/99 [==============================] - 2s 23ms/step - loss: 2.3729 - accuracy: 0.1702 - val_loss: 2.1269 - val_accuracy: 0.2724\n",
      "Epoch 3/30\n",
      "99/99 [==============================] - 2s 23ms/step - loss: 2.1439 - accuracy: 0.2373 - val_loss: 1.9758 - val_accuracy: 0.3202\n",
      "Epoch 4/30\n",
      "99/99 [==============================] - 2s 23ms/step - loss: 2.0383 - accuracy: 0.2661 - val_loss: 1.8678 - val_accuracy: 0.3788\n",
      "Epoch 5/30\n",
      "99/99 [==============================] - 2s 22ms/step - loss: 1.9394 - accuracy: 0.3161 - val_loss: 1.7441 - val_accuracy: 0.3938\n",
      "Epoch 6/30\n",
      "99/99 [==============================] - 2s 23ms/step - loss: 1.8436 - accuracy: 0.3466 - val_loss: 1.6486 - val_accuracy: 0.4188\n",
      "Epoch 7/30\n",
      "99/99 [==============================] - 2s 23ms/step - loss: 1.7541 - accuracy: 0.3790 - val_loss: 1.5130 - val_accuracy: 0.4976\n",
      "Epoch 8/30\n",
      "99/99 [==============================] - 2s 23ms/step - loss: 1.6625 - accuracy: 0.4110 - val_loss: 1.4561 - val_accuracy: 0.5114\n",
      "Epoch 9/30\n",
      "99/99 [==============================] - 2s 22ms/step - loss: 1.6120 - accuracy: 0.4308 - val_loss: 1.3752 - val_accuracy: 0.5719\n",
      "Epoch 10/30\n",
      "99/99 [==============================] - 2s 22ms/step - loss: 1.5628 - accuracy: 0.4487 - val_loss: 1.2851 - val_accuracy: 0.5862\n",
      "Epoch 11/30\n",
      "99/99 [==============================] - 2s 23ms/step - loss: 1.4889 - accuracy: 0.4735 - val_loss: 1.2594 - val_accuracy: 0.6248\n",
      "Epoch 12/30\n",
      "99/99 [==============================] - 2s 23ms/step - loss: 1.4253 - accuracy: 0.5082 - val_loss: 1.2110 - val_accuracy: 0.5969\n",
      "Epoch 13/30\n",
      "99/99 [==============================] - 2s 23ms/step - loss: 1.3926 - accuracy: 0.5306 - val_loss: 1.1320 - val_accuracy: 0.6252\n",
      "Epoch 14/30\n",
      "99/99 [==============================] - 2s 23ms/step - loss: 1.3345 - accuracy: 0.5480 - val_loss: 1.1362 - val_accuracy: 0.6712\n",
      "Epoch 15/30\n",
      "99/99 [==============================] - 2s 23ms/step - loss: 1.3420 - accuracy: 0.5430 - val_loss: 1.0509 - val_accuracy: 0.6940\n",
      "Epoch 16/30\n",
      "99/99 [==============================] - 2s 23ms/step - loss: 1.2786 - accuracy: 0.5724 - val_loss: 1.0350 - val_accuracy: 0.7107\n",
      "Epoch 17/30\n",
      "99/99 [==============================] - 2s 24ms/step - loss: 1.2397 - accuracy: 0.5973 - val_loss: 0.9918 - val_accuracy: 0.7274\n",
      "Epoch 18/30\n",
      "99/99 [==============================] - 2s 23ms/step - loss: 1.2252 - accuracy: 0.6003 - val_loss: 0.9446 - val_accuracy: 0.7340\n",
      "Epoch 19/30\n",
      "99/99 [==============================] - 2s 24ms/step - loss: 1.1667 - accuracy: 0.6201 - val_loss: 0.9536 - val_accuracy: 0.7360\n",
      "Epoch 20/30\n",
      "99/99 [==============================] - 2s 23ms/step - loss: 1.1475 - accuracy: 0.6321 - val_loss: 0.8804 - val_accuracy: 0.7517\n",
      "Epoch 21/30\n",
      "99/99 [==============================] - 2s 23ms/step - loss: 1.1235 - accuracy: 0.6371 - val_loss: 0.8974 - val_accuracy: 0.7314\n",
      "Epoch 22/30\n",
      "99/99 [==============================] - 2s 23ms/step - loss: 1.1171 - accuracy: 0.6350 - val_loss: 0.9307 - val_accuracy: 0.7179\n",
      "Epoch 23/30\n",
      "99/99 [==============================] - 2s 23ms/step - loss: 1.1912 - accuracy: 0.6176 - val_loss: 0.8178 - val_accuracy: 0.7745\n",
      "Epoch 24/30\n",
      "99/99 [==============================] - 2s 23ms/step - loss: 1.0569 - accuracy: 0.6553 - val_loss: 0.8359 - val_accuracy: 0.7610\n",
      "Epoch 25/30\n",
      "99/99 [==============================] - 2s 23ms/step - loss: 1.0468 - accuracy: 0.6562 - val_loss: 0.7830 - val_accuracy: 0.7810\n",
      "Epoch 26/30\n",
      "99/99 [==============================] - 2s 23ms/step - loss: 1.0540 - accuracy: 0.6573 - val_loss: 0.7727 - val_accuracy: 0.7707\n",
      "Epoch 27/30\n",
      "99/99 [==============================] - 2s 23ms/step - loss: 1.0106 - accuracy: 0.6660 - val_loss: 0.7551 - val_accuracy: 0.8007\n",
      "Epoch 28/30\n",
      "99/99 [==============================] - 2s 23ms/step - loss: 1.0072 - accuracy: 0.6693 - val_loss: 0.8921 - val_accuracy: 0.7445\n",
      "Epoch 29/30\n",
      "99/99 [==============================] - 2s 23ms/step - loss: 1.0692 - accuracy: 0.6513 - val_loss: 0.8123 - val_accuracy: 0.7690\n",
      "Epoch 30/30\n",
      "99/99 [==============================] - 2s 23ms/step - loss: 1.0765 - accuracy: 0.6549 - val_loss: 0.7239 - val_accuracy: 0.7907\n"
     ]
    },
    {
     "name": "stderr",
     "output_type": "stream",
     "text": [
      "WARNING:absl:Found untraced functions such as lstm_cell_7_layer_call_and_return_conditional_losses, lstm_cell_7_layer_call_fn, lstm_cell_7_layer_call_fn, lstm_cell_7_layer_call_and_return_conditional_losses, lstm_cell_7_layer_call_and_return_conditional_losses while saving (showing 5 of 5). These functions will not be directly callable after loading.\n",
      "WARNING:absl:Found untraced functions such as lstm_cell_7_layer_call_and_return_conditional_losses, lstm_cell_7_layer_call_fn, lstm_cell_7_layer_call_fn, lstm_cell_7_layer_call_and_return_conditional_losses, lstm_cell_7_layer_call_and_return_conditional_losses while saving (showing 5 of 5). These functions will not be directly callable after loading.\n"
     ]
    },
    {
     "name": "stdout",
     "output_type": "stream",
     "text": [
      "INFO:tensorflow:Assets written to: C:\\Users\\SALEHA~1\\AppData\\Local\\Temp\\tmpawrdebyo\\model\\data\\model\\assets\n"
     ]
    },
    {
     "name": "stderr",
     "output_type": "stream",
     "text": [
      "INFO:tensorflow:Assets written to: C:\\Users\\SALEHA~1\\AppData\\Local\\Temp\\tmpawrdebyo\\model\\data\\model\\assets\n"
     ]
    }
   ],
   "source": [
    "model = Sequential()\n",
    "model.add(Embedding(21, 8, input_length=max_length, name=\"EmbeddingLayer\"))\n",
    "model.add(LSTM(8, name=\"LSTMLayer\"))\n",
    "model.add(Dropout(0.2, name=\"DropoutLayer\"))\n",
    "model.add(Dense(28, activation='softmax', name=\"DenseLayer\"))\n",
    "opt = tf.keras.optimizers.Adam(learning_rate=0.01)\n",
    "\n",
    "model.compile(optimizer=opt, loss='categorical_crossentropy', metrics=['accuracy'])\n",
    "\n",
    "es = EarlyStopping(monitor='val_loss', patience=5, verbose=1)\n",
    "\n",
    "mlflow.keras.autolog()\n",
    "history = model.fit(\n",
    "    X_train_padded, y_train,\n",
    "    epochs=30, batch_size=256,\n",
    "    validation_data=(X_val_padded, y_val),\n",
    "    callbacks=[es], verbose=2\n",
    "    )\n"
   ]
  },
  {
   "cell_type": "markdown",
   "metadata": {},
   "source": [
    "### Simple RNN Models:"
   ]
  },
  {
   "cell_type": "code",
   "execution_count": 35,
   "metadata": {},
   "outputs": [
    {
     "name": "stderr",
     "output_type": "stream",
     "text": [
      "2021/08/22 21:29:17 INFO mlflow.utils.autologging_utils: Created MLflow autologging run with ID 'f88f2edf57554d53a8c9f92f4c9f8420', which will track hyperparameters, performance metrics, model artifacts, and lineage information for the current keras workflow\n"
     ]
    },
    {
     "name": "stdout",
     "output_type": "stream",
     "text": [
      "Epoch 1/30\n",
      "99/99 - 3s - loss: 2.6669 - accuracy: 0.1567 - val_loss: 2.2014 - val_accuracy: 0.2355\n",
      "Epoch 2/30\n",
      "99/99 - 1s - loss: 2.1707 - accuracy: 0.2450 - val_loss: 2.0069 - val_accuracy: 0.2919\n",
      "Epoch 3/30\n",
      "99/99 - 1s - loss: 2.0926 - accuracy: 0.2600 - val_loss: 1.9739 - val_accuracy: 0.2864\n",
      "Epoch 4/30\n",
      "99/99 - 1s - loss: 2.0522 - accuracy: 0.2663 - val_loss: 1.9227 - val_accuracy: 0.3271\n",
      "Epoch 5/30\n",
      "99/99 - 1s - loss: 2.0114 - accuracy: 0.2792 - val_loss: 1.8571 - val_accuracy: 0.3669\n",
      "Epoch 6/30\n",
      "99/99 - 1s - loss: 1.9862 - accuracy: 0.2854 - val_loss: 1.8286 - val_accuracy: 0.3845\n",
      "Epoch 7/30\n",
      "99/99 - 1s - loss: 3.0981 - accuracy: 0.1371 - val_loss: 2.6383 - val_accuracy: 0.1229\n",
      "Epoch 8/30\n",
      "99/99 - 1s - loss: 2.5962 - accuracy: 0.1267 - val_loss: 2.3848 - val_accuracy: 0.1698\n",
      "Epoch 9/30\n",
      "99/99 - 1s - loss: 2.4147 - accuracy: 0.1584 - val_loss: 2.2574 - val_accuracy: 0.2055\n",
      "Epoch 10/30\n",
      "99/99 - 1s - loss: 2.2565 - accuracy: 0.2118 - val_loss: 2.1137 - val_accuracy: 0.3002\n",
      "Epoch 11/30\n",
      "99/99 - 1s - loss: 2.1816 - accuracy: 0.2329 - val_loss: 2.0647 - val_accuracy: 0.2740\n",
      "Epoch 00011: early stopping\n",
      "INFO:tensorflow:Assets written to: C:\\Users\\SALEHA~1\\AppData\\Local\\Temp\\tmpqsgzwgzh\\model\\data\\model\\assets\n"
     ]
    },
    {
     "name": "stderr",
     "output_type": "stream",
     "text": [
      "INFO:tensorflow:Assets written to: C:\\Users\\SALEHA~1\\AppData\\Local\\Temp\\tmpqsgzwgzh\\model\\data\\model\\assets\n"
     ]
    }
   ],
   "source": [
    "model = Sequential()\n",
    "model.add(Embedding(21, 8, input_length=max_length, name=\"EmbeddingLayer\"))\n",
    "model.add(SimpleRNN(8, name=\"SimpleRNNLayer\"))\n",
    "model.add(Dropout(0.2, name=\"DropoutLayer\"))\n",
    "model.add(Dense(28, activation='softmax', name=\"DenseLayer\"))\n",
    "opt = tf.keras.optimizers.Adam(learning_rate=0.01)\n",
    "\n",
    "model.compile(optimizer=opt, loss='categorical_crossentropy', metrics=['accuracy'])\n",
    "\n",
    "es = EarlyStopping(monitor='val_loss', patience=5, verbose=1)\n",
    "\n",
    "mlflow.keras.autolog()\n",
    "history = model.fit(\n",
    "    X_train_padded, y_train,\n",
    "    epochs=30, batch_size=256,\n",
    "    validation_data=(X_val_padded, y_val),\n",
    "    callbacks=[es], verbose=2\n",
    "    )\n"
   ]
  },
  {
   "cell_type": "code",
   "execution_count": null,
   "metadata": {},
   "outputs": [],
   "source": [
    "!mlflow ui"
   ]
  },
  {
   "cell_type": "code",
   "execution_count": null,
   "metadata": {},
   "outputs": [],
   "source": []
  },
  {
   "cell_type": "code",
   "execution_count": null,
   "metadata": {},
   "outputs": [],
   "source": []
  },
  {
   "cell_type": "code",
   "execution_count": null,
   "metadata": {},
   "outputs": [],
   "source": []
  }
 ],
 "metadata": {
  "kernelspec": {
   "display_name": "Python 3",
   "language": "python",
   "name": "python3"
  },
  "language_info": {
   "codemirror_mode": {
    "name": "ipython",
    "version": 3
   },
   "file_extension": ".py",
   "mimetype": "text/x-python",
   "name": "python",
   "nbconvert_exporter": "python",
   "pygments_lexer": "ipython3",
   "version": "3.8.5"
  }
 },
 "nbformat": 4,
 "nbformat_minor": 4
}
