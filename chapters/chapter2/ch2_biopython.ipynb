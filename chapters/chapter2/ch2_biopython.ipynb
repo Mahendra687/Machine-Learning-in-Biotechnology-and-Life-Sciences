{
 "cells": [
  {
   "cell_type": "markdown",
   "id": "8535125a-52f8-4a4e-bb28-9e39b811b524",
   "metadata": {},
   "source": [
    "# Chapter 2: BioPython"
   ]
  },
  {
   "cell_type": "code",
   "execution_count": 1,
   "id": "cebd0a89-01c6-41bb-a753-2390332b748e",
   "metadata": {},
   "outputs": [],
   "source": [
    "import Bio"
   ]
  },
  {
   "cell_type": "markdown",
   "id": "4c202d35-9abd-41c7-9181-50271e21be92",
   "metadata": {},
   "source": [
    "#### Basic Sequence Handling:"
   ]
  },
  {
   "cell_type": "code",
   "execution_count": 2,
   "id": "83a38e1e-dd9d-4f70-9660-7538022f92d7",
   "metadata": {},
   "outputs": [],
   "source": [
    "from Bio.Seq import Seq\n",
    "my_seq = Seq(\"AATCCGGAGGACCGGTGTACTCAGCTCACCGGGGGCATTGCT\")"
   ]
  },
  {
   "cell_type": "code",
   "execution_count": 3,
   "id": "cd640aa6-4790-4d60-af95-743d0545a66d",
   "metadata": {},
   "outputs": [
    {
     "data": {
      "text/plain": [
       "Seq('AATCCGGAGGACCGGTGTACTCAGCTCACCGGGGGCATTGCT')"
      ]
     },
     "execution_count": 3,
     "metadata": {},
     "output_type": "execute_result"
    }
   ],
   "source": [
    "my_seq"
   ]
  },
  {
   "cell_type": "code",
   "execution_count": 4,
   "id": "bf40ee21-7b16-46e0-9c65-e24a7bed7877",
   "metadata": {},
   "outputs": [
    {
     "data": {
      "text/plain": [
       "Seq('TTAGGCCTCCTGGCCACATGAGTCGAGTGGCCCCCGTAACGA')"
      ]
     },
     "execution_count": 4,
     "metadata": {},
     "output_type": "execute_result"
    }
   ],
   "source": [
    "my_seq.complement()"
   ]
  },
  {
   "cell_type": "code",
   "execution_count": 5,
   "id": "d68aa9b6-85d3-4b59-81db-a67150981dbe",
   "metadata": {},
   "outputs": [
    {
     "data": {
      "text/plain": [
       "Seq('AGCAATGCCCCCGGTGAGCTGAGTACACCGGTCCTCCGGATT')"
      ]
     },
     "execution_count": 5,
     "metadata": {},
     "output_type": "execute_result"
    }
   ],
   "source": [
    "my_seq.reverse_complement()"
   ]
  },
  {
   "cell_type": "code",
   "execution_count": 6,
   "id": "1435d687-ce84-4810-9d4f-6c4d091e47cb",
   "metadata": {},
   "outputs": [
    {
     "data": {
      "text/plain": [
       "'T'"
      ]
     },
     "execution_count": 6,
     "metadata": {},
     "output_type": "execute_result"
    }
   ],
   "source": [
    "my_seq[2]"
   ]
  },
  {
   "cell_type": "code",
   "execution_count": 7,
   "id": "9cd1973c-da7f-474c-aee1-023db032e849",
   "metadata": {},
   "outputs": [
    {
     "data": {
      "text/plain": [
       "2"
      ]
     },
     "execution_count": 7,
     "metadata": {},
     "output_type": "execute_result"
    }
   ],
   "source": [
    "my_seq.count(\"AG\")"
   ]
  },
  {
   "cell_type": "markdown",
   "id": "190fe6b0-d1da-44b4-b18f-7f45c8397a2f",
   "metadata": {},
   "source": [
    "####  Calculating GC Content:"
   ]
  },
  {
   "cell_type": "code",
   "execution_count": 8,
   "id": "999c0d21-e6a5-4901-90a1-9e6b6bdc07f6",
   "metadata": {},
   "outputs": [
    {
     "name": "stdout",
     "output_type": "stream",
     "text": [
      "GC Content (%):  61.9\n"
     ]
    }
   ],
   "source": [
    "print(\"GC Content (%): \", 100 * round(float((my_seq.count(\"G\") + my_seq.count(\"C\")) / len(my_seq) ),4 ))"
   ]
  },
  {
   "cell_type": "code",
   "execution_count": 9,
   "id": "3d8ec3a0-fb31-4310-8c2c-a31866894352",
   "metadata": {},
   "outputs": [
    {
     "name": "stdout",
     "output_type": "stream",
     "text": [
      "GC Content (%):  61.9\n"
     ]
    }
   ],
   "source": [
    "from Bio.SeqUtils import GC\n",
    "print(\"GC Content (%): \", round(GC(my_seq), 2))"
   ]
  },
  {
   "cell_type": "markdown",
   "id": "f25bb60b-e1f2-40a5-8cfc-8183601252f6",
   "metadata": {},
   "source": [
    "#### Slicing Sequences:"
   ]
  },
  {
   "cell_type": "code",
   "execution_count": 10,
   "id": "f87f9ace-d731-4950-84f3-8a2eb66494f0",
   "metadata": {},
   "outputs": [
    {
     "data": {
      "text/plain": [
       "Seq('AATCCGGAGGACCGGTGTACTCAGCTCACCGGGGGCATTGCT')"
      ]
     },
     "execution_count": 10,
     "metadata": {},
     "output_type": "execute_result"
    }
   ],
   "source": [
    "my_seq"
   ]
  },
  {
   "cell_type": "code",
   "execution_count": 11,
   "id": "104d5250-6834-4ef5-b8b2-acd15b6c396d",
   "metadata": {},
   "outputs": [
    {
     "data": {
      "text/plain": [
       "42"
      ]
     },
     "execution_count": 11,
     "metadata": {},
     "output_type": "execute_result"
    }
   ],
   "source": [
    "len(my_seq)"
   ]
  },
  {
   "cell_type": "code",
   "execution_count": 12,
   "id": "6bb7f69b-f237-42ce-a10d-f94a482aa54b",
   "metadata": {},
   "outputs": [
    {
     "data": {
      "text/plain": [
       "Seq('AAT')"
      ]
     },
     "execution_count": 12,
     "metadata": {},
     "output_type": "execute_result"
    }
   ],
   "source": [
    "my_seq_slice = my_seq[:3]\n",
    "my_seq_slice"
   ]
  },
  {
   "cell_type": "code",
   "execution_count": 13,
   "id": "cfd31758-e864-4108-8b11-4aeecab9ee52",
   "metadata": {},
   "outputs": [],
   "source": [
    "my_seq_slice1 = my_seq[:3]\n",
    "my_seq_slice2 = my_seq[3:]\n"
   ]
  },
  {
   "cell_type": "code",
   "execution_count": 14,
   "id": "bab01396-79c8-49b9-8dc6-295012c4f43c",
   "metadata": {},
   "outputs": [
    {
     "data": {
      "text/plain": [
       "Seq('AATCCGGAGGACCGGTGTACTCAGCTCACCGGGGGCATTGCT')"
      ]
     },
     "execution_count": 14,
     "metadata": {},
     "output_type": "execute_result"
    }
   ],
   "source": [
    "concat_seq = my_seq_slice1 + my_seq_slice2\n",
    "concat_seq"
   ]
  },
  {
   "cell_type": "code",
   "execution_count": 15,
   "id": "e0f179aa-e928-413b-9a38-4af2d4ed8bc9",
   "metadata": {},
   "outputs": [
    {
     "data": {
      "text/plain": [
       "42"
      ]
     },
     "execution_count": 15,
     "metadata": {},
     "output_type": "execute_result"
    }
   ],
   "source": [
    "len(concat_seq)"
   ]
  },
  {
   "cell_type": "markdown",
   "id": "981e2067-88ea-49f5-877a-0236d8c1fac6",
   "metadata": {},
   "source": [
    "#### BLAST"
   ]
  },
  {
   "cell_type": "code",
   "execution_count": 27,
   "id": "26125e36-43ab-444c-942b-27c4b97c5489",
   "metadata": {},
   "outputs": [],
   "source": [
    "from Bio.Blast import NCBIWWW\n",
    "from Bio.Blast import NCBIXML"
   ]
  },
  {
   "cell_type": "code",
   "execution_count": 28,
   "id": "cff90676-479e-4f28-9ded-12d009ebb5be",
   "metadata": {},
   "outputs": [],
   "source": [
    "result_handle = NCBIWWW.qblast(\"blastn\", \"nt\", \"8332116\")\n",
    "blast_records = NCBIXML.read(result_handle) "
   ]
  },
  {
   "cell_type": "code",
   "execution_count": 40,
   "id": "e9f3872c-47be-4cb7-8d55-10e6a1356a53",
   "metadata": {},
   "outputs": [
    {
     "name": "stdout",
     "output_type": "stream",
     "text": [
      "| ----------------------------------------------- Alignment ---------------------------------------------- |\n",
      "  GI: 1219041180\n",
      "  Ref: XM_021875076.1\n",
      "  Predicted: Chenopodium quinoa cold-regulated 413 plasma membrane protein 2-like (LOC110697660), mRNA\n",
      "  Len: 1173\n",
      "  E-val: 3.74813e-117\n",
      "| ----------------------------------------------- Alignment ---------------------------------------------- |\n",
      "  GI: 1226796956\n",
      "  Ref: XM_021992092.1\n",
      "  Predicted: Spinacia oleracea cold-regulated 413 plasma membrane protein 2-like (LOC110787470), mRNA\n",
      "  Len: 672\n",
      "  E-val: 2.36533e-113\n",
      "| ----------------------------------------------- Alignment ---------------------------------------------- |\n",
      "  GI: 731339628\n",
      "  Ref: XM_010682658.1\n",
      "  Predicted: Beta vulgaris subsp. vulgaris cold-regulated 413 plasma membrane protein 2 (LOC104895996), mRNA\n",
      "  Len: 847\n",
      "  E-val: 6.34706e-108\n"
     ]
    }
   ],
   "source": [
    "for alignment in blast_records.alignments[:3]:\n",
    "    for hsp in alignment.hsps: \n",
    "        if hsp.expect < 0.01: \n",
    "            print (\"| ----------------------------------------------- Alignment ---------------------------------------------- |\")\n",
    "            print (\"  GI:\", alignment.title.split(\"|\")[1] )\n",
    "            print (\"  Ref:\", alignment.title.split(\"|\")[3] )\n",
    "            print (\"  Predicted:\", alignment.title.split(\"|\")[4].split(\": \")[1] )\n",
    "            print (\"  Len:\", alignment.length )\n",
    "            print (\"  E-val:\", hsp.expect )"
   ]
  },
  {
   "cell_type": "markdown",
   "id": "885f8c45-6d17-4443-a7a1-300a246e1ff7",
   "metadata": {},
   "source": [
    "### Handling PDB Structures:"
   ]
  },
  {
   "cell_type": "code",
   "execution_count": 41,
   "id": "da9ca48c-3972-4522-a807-85df86ad2b4b",
   "metadata": {},
   "outputs": [],
   "source": [
    "from Bio.PDB.PDBParser import PDBParser"
   ]
  },
  {
   "cell_type": "code",
   "execution_count": 42,
   "id": "ee9ba66c-9ca5-497f-bfd5-12de7edd3385",
   "metadata": {},
   "outputs": [],
   "source": [
    "parser = PDBParser()"
   ]
  },
  {
   "cell_type": "code",
   "execution_count": 43,
   "id": "1bfc6fff-c55d-4d2f-8567-093b2208b61e",
   "metadata": {},
   "outputs": [
    {
     "name": "stderr",
     "output_type": "stream",
     "text": [
      "C:\\Users\\Saleh Alkhalifa\\anaconda3\\envs\\my-rdkit-env\\lib\\site-packages\\Bio\\PDB\\StructureBuilder.py:89: PDBConstructionWarning: WARNING: Chain A is discontinuous at line 2061.\n",
      "  warnings.warn(\n",
      "C:\\Users\\Saleh Alkhalifa\\anaconda3\\envs\\my-rdkit-env\\lib\\site-packages\\Bio\\PDB\\StructureBuilder.py:89: PDBConstructionWarning: WARNING: Chain B is discontinuous at line 2073.\n",
      "  warnings.warn(\n",
      "C:\\Users\\Saleh Alkhalifa\\anaconda3\\envs\\my-rdkit-env\\lib\\site-packages\\Bio\\PDB\\StructureBuilder.py:89: PDBConstructionWarning: WARNING: Chain A is discontinuous at line 2079.\n",
      "  warnings.warn(\n",
      "C:\\Users\\Saleh Alkhalifa\\anaconda3\\envs\\my-rdkit-env\\lib\\site-packages\\Bio\\PDB\\StructureBuilder.py:89: PDBConstructionWarning: WARNING: Chain B is discontinuous at line 2231.\n",
      "  warnings.warn(\n"
     ]
    }
   ],
   "source": [
    "structure_id = \"4g4k\"\n",
    "filename = \"4g4k.pdb\"\n",
    "structure = parser.get_structure(structure_id, filename)"
   ]
  },
  {
   "cell_type": "code",
   "execution_count": 44,
   "id": "ab5b3624-c9b7-419c-ad3c-57c693ca5256",
   "metadata": {},
   "outputs": [],
   "source": [
    "model = structure[0]"
   ]
  },
  {
   "cell_type": "code",
   "execution_count": 45,
   "id": "95524369-294d-443f-808a-bd48c694028b",
   "metadata": {},
   "outputs": [
    {
     "data": {
      "text/plain": [
       "[<Chain id=A>, <Chain id=B>]"
      ]
     },
     "execution_count": 45,
     "metadata": {},
     "output_type": "execute_result"
    }
   ],
   "source": [
    "model.get_list()"
   ]
  },
  {
   "cell_type": "code",
   "execution_count": 46,
   "id": "8de5de43-fd56-4456-834c-2f46ddc3330a",
   "metadata": {},
   "outputs": [],
   "source": [
    "chain = model[\"A\"]"
   ]
  },
  {
   "cell_type": "code",
   "execution_count": 47,
   "id": "0b2315a0-56ba-45fe-a210-2bb725816222",
   "metadata": {},
   "outputs": [
    {
     "data": {
      "text/plain": [
       "<Residue GLU het=  resseq=141 icode= >"
      ]
     },
     "execution_count": 47,
     "metadata": {},
     "output_type": "execute_result"
    }
   ],
   "source": [
    "chain.get_list()[0]"
   ]
  },
  {
   "cell_type": "code",
   "execution_count": 48,
   "id": "71fe289b-2f11-43b8-a956-edf6ac7793d2",
   "metadata": {},
   "outputs": [
    {
     "ename": "IndentationError",
     "evalue": "expected an indented block (<ipython-input-48-ef5dad2f7d06>, line 8)",
     "output_type": "error",
     "traceback": [
      "\u001b[1;36m  File \u001b[1;32m\"<ipython-input-48-ef5dad2f7d06>\"\u001b[1;36m, line \u001b[1;32m8\u001b[0m\n\u001b[1;33m    # Do something here with atoms\u001b[0m\n\u001b[1;37m                                  ^\u001b[0m\n\u001b[1;31mIndentationError\u001b[0m\u001b[1;31m:\u001b[0m expected an indented block\n"
     ]
    }
   ],
   "source": [
    "for model in structure:\n",
    "    # Do something here with models\n",
    "    for chain in model:\n",
    "        # Do something here with chains\n",
    "        for residue in chain:\n",
    "            # Do something here with residues\n",
    "            for atom in residue:\n",
    "                # Do something here with atoms"
   ]
  },
  {
   "cell_type": "code",
   "execution_count": null,
   "id": "3ce3a16b-6bd8-4b62-93aa-3f3ffa946f99",
   "metadata": {},
   "outputs": [],
   "source": []
  },
  {
   "cell_type": "code",
   "execution_count": null,
   "id": "5c9174a3-4b6f-448d-8c9f-506fe1053636",
   "metadata": {},
   "outputs": [],
   "source": []
  },
  {
   "cell_type": "code",
   "execution_count": null,
   "id": "c8bb9095-a73f-4b8b-8b54-c297b360a008",
   "metadata": {},
   "outputs": [],
   "source": []
  }
 ],
 "metadata": {
  "kernelspec": {
   "display_name": "Python 3",
   "language": "python",
   "name": "python3"
  },
  "language_info": {
   "codemirror_mode": {
    "name": "ipython",
    "version": 3
   },
   "file_extension": ".py",
   "mimetype": "text/x-python",
   "name": "python",
   "nbconvert_exporter": "python",
   "pygments_lexer": "ipython3",
   "version": "3.9.4"
  }
 },
 "nbformat": 4,
 "nbformat_minor": 5
}
