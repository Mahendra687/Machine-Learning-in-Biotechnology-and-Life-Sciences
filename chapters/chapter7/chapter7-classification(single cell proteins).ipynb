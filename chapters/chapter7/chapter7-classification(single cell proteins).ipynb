{
 "cells": [
  {
   "cell_type": "markdown",
   "metadata": {},
   "source": [
    "## Chapter 7 - Supervised Machine Learning (COVID ICU)"
   ]
  },
  {
   "cell_type": "markdown",
   "metadata": {},
   "source": [
    "http://blood.stemcells.cam.ac.uk/single_cell_atlas#data"
   ]
  },
  {
   "cell_type": "code",
   "execution_count": 1,
   "metadata": {},
   "outputs": [],
   "source": [
    "import pandas as pd\n",
    "import numpy as np\n",
    "from sklearn.metrics import classification_report\n"
   ]
  },
  {
   "cell_type": "code",
   "execution_count": 2,
   "metadata": {},
   "outputs": [
    {
     "data": {
      "text/html": [
       "<div>\n",
       "<style scoped>\n",
       "    .dataframe tbody tr th:only-of-type {\n",
       "        vertical-align: middle;\n",
       "    }\n",
       "\n",
       "    .dataframe tbody tr th {\n",
       "        vertical-align: top;\n",
       "    }\n",
       "\n",
       "    .dataframe thead th {\n",
       "        text-align: right;\n",
       "    }\n",
       "</style>\n",
       "<table border=\"1\" class=\"dataframe\">\n",
       "  <thead>\n",
       "    <tr style=\"text-align: right;\">\n",
       "      <th></th>\n",
       "      <th>1110032F04Rik</th>\n",
       "      <th>1110059E24Rik</th>\n",
       "      <th>1300017J02Rik</th>\n",
       "      <th>1600014C10Rik</th>\n",
       "      <th>1700017B05Rik</th>\n",
       "      <th>1700019G17Rik</th>\n",
       "      <th>1700024P16Rik</th>\n",
       "      <th>1700026L06Rik</th>\n",
       "      <th>1700029J07Rik</th>\n",
       "      <th>1700030K09Rik</th>\n",
       "      <th>...</th>\n",
       "      <th>Zscan29</th>\n",
       "      <th>Zswim3</th>\n",
       "      <th>Zswim4</th>\n",
       "      <th>Zswim6</th>\n",
       "      <th>Zufsp</th>\n",
       "      <th>Zxdb</th>\n",
       "      <th>Zxdc</th>\n",
       "      <th>Zyx</th>\n",
       "      <th>Zzz3</th>\n",
       "      <th>annotation</th>\n",
       "    </tr>\n",
       "  </thead>\n",
       "  <tbody>\n",
       "    <tr>\n",
       "      <th>HSPC_001</th>\n",
       "      <td>0.0</td>\n",
       "      <td>0.000000</td>\n",
       "      <td>0.0</td>\n",
       "      <td>0.000000</td>\n",
       "      <td>1.225439</td>\n",
       "      <td>0.0</td>\n",
       "      <td>0.0</td>\n",
       "      <td>0.0</td>\n",
       "      <td>0.000000</td>\n",
       "      <td>0.0</td>\n",
       "      <td>...</td>\n",
       "      <td>0.739099</td>\n",
       "      <td>0.000000</td>\n",
       "      <td>0.000000</td>\n",
       "      <td>0.0</td>\n",
       "      <td>0.000000</td>\n",
       "      <td>0.0</td>\n",
       "      <td>0.000000</td>\n",
       "      <td>5.386021</td>\n",
       "      <td>10.541571</td>\n",
       "      <td>HSPC</td>\n",
       "    </tr>\n",
       "    <tr>\n",
       "      <th>HSPC_002</th>\n",
       "      <td>0.0</td>\n",
       "      <td>0.000000</td>\n",
       "      <td>0.0</td>\n",
       "      <td>2.238601</td>\n",
       "      <td>2.238601</td>\n",
       "      <td>0.0</td>\n",
       "      <td>0.0</td>\n",
       "      <td>0.0</td>\n",
       "      <td>9.298240</td>\n",
       "      <td>0.0</td>\n",
       "      <td>...</td>\n",
       "      <td>2.238601</td>\n",
       "      <td>0.000000</td>\n",
       "      <td>2.238601</td>\n",
       "      <td>0.0</td>\n",
       "      <td>2.238601</td>\n",
       "      <td>0.0</td>\n",
       "      <td>0.000000</td>\n",
       "      <td>9.164370</td>\n",
       "      <td>3.603855</td>\n",
       "      <td>HSPC</td>\n",
       "    </tr>\n",
       "    <tr>\n",
       "      <th>HSPC_003</th>\n",
       "      <td>0.0</td>\n",
       "      <td>2.795189</td>\n",
       "      <td>0.0</td>\n",
       "      <td>0.000000</td>\n",
       "      <td>1.989360</td>\n",
       "      <td>0.0</td>\n",
       "      <td>0.0</td>\n",
       "      <td>0.0</td>\n",
       "      <td>0.000000</td>\n",
       "      <td>0.0</td>\n",
       "      <td>...</td>\n",
       "      <td>4.234474</td>\n",
       "      <td>7.378198</td>\n",
       "      <td>0.000000</td>\n",
       "      <td>0.0</td>\n",
       "      <td>0.000000</td>\n",
       "      <td>0.0</td>\n",
       "      <td>0.000000</td>\n",
       "      <td>9.143168</td>\n",
       "      <td>2.310576</td>\n",
       "      <td>HSPC</td>\n",
       "    </tr>\n",
       "    <tr>\n",
       "      <th>HSPC_004</th>\n",
       "      <td>0.0</td>\n",
       "      <td>1.326478</td>\n",
       "      <td>0.0</td>\n",
       "      <td>1.326478</td>\n",
       "      <td>2.005685</td>\n",
       "      <td>0.0</td>\n",
       "      <td>0.0</td>\n",
       "      <td>0.0</td>\n",
       "      <td>0.000000</td>\n",
       "      <td>0.0</td>\n",
       "      <td>...</td>\n",
       "      <td>2.005685</td>\n",
       "      <td>1.326478</td>\n",
       "      <td>3.094148</td>\n",
       "      <td>0.0</td>\n",
       "      <td>5.788797</td>\n",
       "      <td>0.0</td>\n",
       "      <td>5.577271</td>\n",
       "      <td>4.136426</td>\n",
       "      <td>2.813850</td>\n",
       "      <td>HSPC</td>\n",
       "    </tr>\n",
       "    <tr>\n",
       "      <th>HSPC_006</th>\n",
       "      <td>0.0</td>\n",
       "      <td>7.348663</td>\n",
       "      <td>0.0</td>\n",
       "      <td>4.946766</td>\n",
       "      <td>0.000000</td>\n",
       "      <td>0.0</td>\n",
       "      <td>0.0</td>\n",
       "      <td>0.0</td>\n",
       "      <td>1.941849</td>\n",
       "      <td>0.0</td>\n",
       "      <td>...</td>\n",
       "      <td>8.441787</td>\n",
       "      <td>1.941849</td>\n",
       "      <td>3.926937</td>\n",
       "      <td>0.0</td>\n",
       "      <td>0.000000</td>\n",
       "      <td>0.0</td>\n",
       "      <td>0.000000</td>\n",
       "      <td>7.752007</td>\n",
       "      <td>8.871921</td>\n",
       "      <td>HSPC</td>\n",
       "    </tr>\n",
       "  </tbody>\n",
       "</table>\n",
       "<p>5 rows × 3992 columns</p>\n",
       "</div>"
      ],
      "text/plain": [
       "          1110032F04Rik  1110059E24Rik  1300017J02Rik  1600014C10Rik  \\\n",
       "HSPC_001            0.0       0.000000            0.0       0.000000   \n",
       "HSPC_002            0.0       0.000000            0.0       2.238601   \n",
       "HSPC_003            0.0       2.795189            0.0       0.000000   \n",
       "HSPC_004            0.0       1.326478            0.0       1.326478   \n",
       "HSPC_006            0.0       7.348663            0.0       4.946766   \n",
       "\n",
       "          1700017B05Rik  1700019G17Rik  1700024P16Rik  1700026L06Rik  \\\n",
       "HSPC_001       1.225439            0.0            0.0            0.0   \n",
       "HSPC_002       2.238601            0.0            0.0            0.0   \n",
       "HSPC_003       1.989360            0.0            0.0            0.0   \n",
       "HSPC_004       2.005685            0.0            0.0            0.0   \n",
       "HSPC_006       0.000000            0.0            0.0            0.0   \n",
       "\n",
       "          1700029J07Rik  1700030K09Rik  ...   Zscan29    Zswim3    Zswim4  \\\n",
       "HSPC_001       0.000000            0.0  ...  0.739099  0.000000  0.000000   \n",
       "HSPC_002       9.298240            0.0  ...  2.238601  0.000000  2.238601   \n",
       "HSPC_003       0.000000            0.0  ...  4.234474  7.378198  0.000000   \n",
       "HSPC_004       0.000000            0.0  ...  2.005685  1.326478  3.094148   \n",
       "HSPC_006       1.941849            0.0  ...  8.441787  1.941849  3.926937   \n",
       "\n",
       "          Zswim6     Zufsp  Zxdb      Zxdc       Zyx       Zzz3  annotation  \n",
       "HSPC_001     0.0  0.000000   0.0  0.000000  5.386021  10.541571        HSPC  \n",
       "HSPC_002     0.0  2.238601   0.0  0.000000  9.164370   3.603855        HSPC  \n",
       "HSPC_003     0.0  0.000000   0.0  0.000000  9.143168   2.310576        HSPC  \n",
       "HSPC_004     0.0  5.788797   0.0  5.577271  4.136426   2.813850        HSPC  \n",
       "HSPC_006     0.0  0.000000   0.0  0.000000  7.752007   8.871921        HSPC  \n",
       "\n",
       "[5 rows x 3992 columns]"
      ]
     },
     "execution_count": 2,
     "metadata": {},
     "output_type": "execute_result"
    }
   ],
   "source": [
    "dfx = pd.read_csv(\"../../datasets/single_cell_rna/nestorowa_corrected_log2_transformed_counts.txt\", sep=' ',  )\n",
    "dfx['annotation'] = dfx.index.str[:4]\n",
    "# dfx = dfx[dfx[\"annotation\"] != \"LT.H\"]\n",
    "y = dfx[\"annotation\"].values.ravel()\n",
    "dfx.head()"
   ]
  },
  {
   "cell_type": "code",
   "execution_count": 3,
   "metadata": {},
   "outputs": [
    {
     "data": {
      "text/plain": [
       "(1645, 3992)"
      ]
     },
     "execution_count": 3,
     "metadata": {},
     "output_type": "execute_result"
    }
   ],
   "source": [
    "dfx.shape"
   ]
  },
  {
   "cell_type": "code",
   "execution_count": 4,
   "metadata": {},
   "outputs": [
    {
     "data": {
      "text/plain": [
       "1645"
      ]
     },
     "execution_count": 4,
     "metadata": {},
     "output_type": "execute_result"
    }
   ],
   "source": [
    "len(dfx)"
   ]
  },
  {
   "cell_type": "code",
   "execution_count": 6,
   "metadata": {},
   "outputs": [],
   "source": [
    "from sklearn.preprocessing import StandardScaler\n",
    "scaler = StandardScaler()\n",
    "X_scaled = scaler.fit_transform(dfx.drop(columns = [\"annotation\"]))"
   ]
  },
  {
   "cell_type": "code",
   "execution_count": 12,
   "metadata": {},
   "outputs": [
    {
     "name": "stdout",
     "output_type": "stream",
     "text": [
      "0.8545985153116179\n",
      "[0.08083444 0.0235883  0.01405723 0.00996533 0.00821934]\n"
     ]
    }
   ],
   "source": [
    "from sklearn.decomposition import PCA\n",
    "\n",
    "pca = PCA(n_components=900, svd_solver='full')\n",
    "pca.fit(X_scaled)\n",
    "data_pca = pca.fit_transform(X_scaled)\n",
    "\n",
    "print(pca.explained_variance_ratio_.sum())\n",
    "print(pca.explained_variance_ratio_[:5])"
   ]
  },
  {
   "cell_type": "code",
   "execution_count": 13,
   "metadata": {},
   "outputs": [],
   "source": [
    "from sklearn.model_selection import train_test_split\n",
    "X_train, X_test, y_train, y_test = train_test_split(data_pca, y, test_size=0.33)"
   ]
  },
  {
   "cell_type": "code",
   "execution_count": 21,
   "metadata": {},
   "outputs": [
    {
     "name": "stdout",
     "output_type": "stream",
     "text": [
      "             precision    recall  f1-score   support\n",
      "\n",
      "       HSPC       0.66      0.13      0.21       229\n",
      "       LT.H       1.00      0.04      0.07        54\n",
      "       Prog       0.52      1.00      0.68       260\n",
      "\n",
      "avg / total       0.63      0.53      0.42       543\n",
      "\n"
     ]
    }
   ],
   "source": [
    "from sklearn.neighbors import KNeighborsClassifier\n",
    "knn = KNeighborsClassifier(n_neighbors=5)\n",
    "knn.fit(X_train, y_train)\n",
    "y_pred = knn.predict(X_test)\n",
    "print(classification_report(y_test, y_pred))"
   ]
  },
  {
   "cell_type": "code",
   "execution_count": 24,
   "metadata": {},
   "outputs": [
    {
     "name": "stdout",
     "output_type": "stream",
     "text": [
      "n = 1 acc = 0.5524861878453039\n",
      "n = 2 acc = 0.6077348066298343\n",
      "n = 3 acc = 0.5395948434622467\n",
      "n = 4 acc = 0.585635359116022\n",
      "n = 5 acc = 0.5340699815837937\n",
      "n = 6 acc = 0.569060773480663\n",
      "n = 7 acc = 0.5285451197053407\n",
      "n = 8 acc = 0.5524861878453039\n",
      "n = 9 acc = 0.5193370165745856\n"
     ]
    }
   ],
   "source": [
    "from sklearn.metrics import accuracy_score\n",
    "\n",
    "for i in range(1,10):\n",
    "    knn = KNeighborsClassifier(n_neighbors=i)\n",
    "    knn.fit(X_train, y_train)\n",
    "    y_pred = knn.predict(X_test)\n",
    "    print(\"n =\", i, \"acc =\", accuracy_score(y_test, y_pred))"
   ]
  },
  {
   "cell_type": "code",
   "execution_count": 36,
   "metadata": {},
   "outputs": [
    {
     "name": "stdout",
     "output_type": "stream",
     "text": [
      "             precision    recall  f1-score   support\n",
      "\n",
      "       HSPC       0.71      0.94      0.81       229\n",
      "       LT.H       0.00      0.00      0.00        54\n",
      "       Prog       0.93      0.85      0.89       260\n",
      "\n",
      "avg / total       0.74      0.81      0.77       543\n",
      "\n"
     ]
    },
    {
     "name": "stderr",
     "output_type": "stream",
     "text": [
      "C:\\Users\\Saleh Alkhalifa\\anaconda3\\lib\\site-packages\\sklearn\\metrics\\classification.py:1134: UndefinedMetricWarning: Precision and F-score are ill-defined and being set to 0.0 in labels with no predicted samples.\n",
      "  precision = _prf_divide(tp_sum, pred_sum,\n"
     ]
    }
   ],
   "source": [
    "from sklearn.ensemble import RandomForestClassifier\n",
    "clf = RandomForestClassifier(n_estimators=1000)\n",
    "clf.fit(X_train, y_train)\n",
    "\n",
    "y_pred = clf.predict(X_test)\n",
    "print(classification_report(y_test, y_pred))"
   ]
  },
  {
   "cell_type": "code",
   "execution_count": 25,
   "metadata": {},
   "outputs": [
    {
     "name": "stdout",
     "output_type": "stream",
     "text": [
      "             precision    recall  f1-score   support\n",
      "\n",
      "       HSPC       0.62      0.97      0.76       229\n",
      "       LT.H       0.00      0.00      0.00        54\n",
      "       Prog       0.95      0.67      0.79       260\n",
      "\n",
      "avg / total       0.72      0.73      0.70       543\n",
      "\n"
     ]
    },
    {
     "name": "stderr",
     "output_type": "stream",
     "text": [
      "C:\\Users\\Saleh Alkhalifa\\anaconda3\\lib\\site-packages\\sklearn\\metrics\\classification.py:1134: UndefinedMetricWarning: Precision and F-score are ill-defined and being set to 0.0 in labels with no predicted samples.\n",
      "  precision = _prf_divide(tp_sum, pred_sum,\n"
     ]
    }
   ],
   "source": [
    "from sklearn.svm import SVC\n",
    "svc = SVC(kernel=\"rbf\")\n",
    "svc.fit(X_train, y_train)\n",
    "y_pred = svc.predict(X_test)\n",
    "print(classification_report(y_test, y_pred))"
   ]
  },
  {
   "cell_type": "code",
   "execution_count": 29,
   "metadata": {},
   "outputs": [
    {
     "name": "stdout",
     "output_type": "stream",
     "text": [
      "             precision    recall  f1-score   support\n",
      "\n",
      "       HSPC       0.83      0.90      0.87       229\n",
      "       LT.H       0.82      0.67      0.73        54\n",
      "       Prog       0.93      0.90      0.92       260\n",
      "\n",
      "avg / total       0.88      0.88      0.88       543\n",
      "\n"
     ]
    }
   ],
   "source": [
    "from sklearn.svm import SVC\n",
    "svc = SVC(kernel=\"linear\")\n",
    "svc.fit(X_train, y_train)\n",
    "y_pred = svc.predict(X_test)\n",
    "print(classification_report(y_test, y_pred))"
   ]
  },
  {
   "cell_type": "code",
   "execution_count": 28,
   "metadata": {},
   "outputs": [
    {
     "name": "stdout",
     "output_type": "stream",
     "text": [
      "             precision    recall  f1-score   support\n",
      "\n",
      "       HSPC       0.66      0.33      0.44       229\n",
      "       LT.H       0.00      0.00      0.00        54\n",
      "       Prog       0.60      0.98      0.74       260\n",
      "\n",
      "avg / total       0.56      0.61      0.54       543\n",
      "\n"
     ]
    }
   ],
   "source": [
    "from sklearn.svm import SVC\n",
    "svc = SVC(kernel=\"poly\")\n",
    "svc.fit(X_train, y_train)\n",
    "y_pred = svc.predict(X_test)\n",
    "print(classification_report(y_test, y_pred))"
   ]
  },
  {
   "cell_type": "code",
   "execution_count": 34,
   "metadata": {},
   "outputs": [
    {
     "name": "stdout",
     "output_type": "stream",
     "text": [
      "             precision    recall  f1-score   support\n",
      "\n",
      "       HSPC       0.71      0.82      0.76       229\n",
      "       LT.H       0.57      0.30      0.39        54\n",
      "       Prog       0.86      0.83      0.84       260\n",
      "\n",
      "avg / total       0.77      0.77      0.76       543\n",
      "\n"
     ]
    }
   ],
   "source": [
    "from sklearn.tree import DecisionTreeClassifier\n",
    "dtc = DecisionTreeClassifier(max_depth=4)\n",
    "dtc.fit(X_train, y_train)\n",
    "y_pred = dtc.predict(X_test)\n",
    "print(classification_report(y_test, y_pred))"
   ]
  },
  {
   "cell_type": "code",
   "execution_count": 35,
   "metadata": {},
   "outputs": [
    {
     "name": "stdout",
     "output_type": "stream",
     "text": [
      "n = 1 acc = 0.714548802946593\n",
      "n = 2 acc = 0.7734806629834254\n",
      "n = 3 acc = 0.8213627992633518\n",
      "n = 4 acc = 0.7716390423572744\n",
      "n = 5 acc = 0.7882136279926335\n",
      "n = 6 acc = 0.7771639042357275\n",
      "n = 7 acc = 0.7697974217311234\n",
      "n = 8 acc = 0.7421731123388582\n",
      "n = 9 acc = 0.7495395948434622\n"
     ]
    }
   ],
   "source": [
    "from sklearn.metrics import accuracy_score\n",
    "\n",
    "for i in range(1,10):\n",
    "    dtc = DecisionTreeClassifier(max_depth=i)\n",
    "    dtc.fit(X_train, y_train)\n",
    "    y_pred = dtc.predict(X_test)\n",
    "    print(\"n =\", i, \"acc =\", accuracy_score(y_test, y_pred))"
   ]
  },
  {
   "cell_type": "code",
   "execution_count": 18,
   "metadata": {},
   "outputs": [
    {
     "name": "stdout",
     "output_type": "stream",
     "text": [
      "             precision    recall  f1-score   support\n",
      "\n",
      "       HSPC       0.67      0.94      0.78       229\n",
      "       LT.H       0.75      0.22      0.34        54\n",
      "       Prog       0.94      0.73      0.82       260\n",
      "\n",
      "avg / total       0.80      0.77      0.76       543\n",
      "\n"
     ]
    }
   ],
   "source": [
    "from sklearn.ensemble import AdaBoostClassifier\n",
    "adab = AdaBoostClassifier(n_estimators=1000)\n",
    "adab.fit(X_train, y_train)\n",
    "y_pred = adab.predict(X_test)\n",
    "print(classification_report(y_test, y_pred))"
   ]
  },
  {
   "cell_type": "code",
   "execution_count": 19,
   "metadata": {},
   "outputs": [
    {
     "name": "stdout",
     "output_type": "stream",
     "text": [
      "             precision    recall  f1-score   support\n",
      "\n",
      "       HSPC       0.80      0.90      0.85       229\n",
      "       LT.H       0.76      0.52      0.62        54\n",
      "       Prog       0.91      0.87      0.89       260\n",
      "\n",
      "avg / total       0.85      0.85      0.85       543\n",
      "\n"
     ]
    }
   ],
   "source": [
    "from sklearn.ensemble import GradientBoostingClassifier\n",
    "gbc = GradientBoostingClassifier(n_estimators=1000, learning_rate=0.4)\n",
    "gbc.fit(X_train, y_train)\n",
    "y_pred = gbc.predict(X_test)\n",
    "print(classification_report(y_test, y_pred))"
   ]
  },
  {
   "cell_type": "code",
   "execution_count": 20,
   "metadata": {},
   "outputs": [
    {
     "name": "stderr",
     "output_type": "stream",
     "text": [
      "C:\\Users\\Saleh Alkhalifa\\anaconda3\\lib\\site-packages\\xgboost\\sklearn.py:888: UserWarning: The use of label encoder in XGBClassifier is deprecated and will be removed in a future release. To remove this warning, do the following: 1) Pass option use_label_encoder=False when constructing XGBClassifier object; and 2) Encode your labels (y) as integers starting with 0, i.e. 0, 1, 2, ..., [num_class - 1].\n",
      "  warnings.warn(label_encoder_deprecation_msg, UserWarning)\n"
     ]
    },
    {
     "name": "stdout",
     "output_type": "stream",
     "text": [
      "[22:25:08] WARNING: C:/Users/Administrator/workspace/xgboost-win64_release_1.3.0/src/learner.cc:1061: Starting in XGBoost 1.3.0, the default evaluation metric used with the objective 'multi:softprob' was changed from 'merror' to 'mlogloss'. Explicitly set eval_metric if you'd like to restore the old behavior.\n",
      "             precision    recall  f1-score   support\n",
      "\n",
      "       HSPC       0.81      0.90      0.85       229\n",
      "       LT.H       0.76      0.54      0.63        54\n",
      "       Prog       0.92      0.89      0.91       260\n",
      "\n",
      "avg / total       0.86      0.86      0.86       543\n",
      "\n"
     ]
    },
    {
     "name": "stderr",
     "output_type": "stream",
     "text": [
      "C:\\Users\\Saleh Alkhalifa\\anaconda3\\lib\\site-packages\\sklearn\\preprocessing\\label.py:151: DeprecationWarning: The truth value of an empty array is ambiguous. Returning False, but in future this will result in an error. Use `array.size > 0` to check that an array is not empty.\n",
      "  if diff:\n"
     ]
    }
   ],
   "source": [
    "from xgboost import XGBClassifier\n",
    "xgb = XGBClassifier(n_estimators=10000)\n",
    "xgb.fit(X_train, y_train)\n",
    "y_pred = xgb.predict(X_test)\n",
    "print(classification_report(y_test, y_pred))"
   ]
  },
  {
   "cell_type": "code",
   "execution_count": null,
   "metadata": {},
   "outputs": [],
   "source": []
  }
 ],
 "metadata": {
  "kernelspec": {
   "display_name": "Python 3",
   "language": "python",
   "name": "python3"
  },
  "language_info": {
   "codemirror_mode": {
    "name": "ipython",
    "version": 3
   },
   "file_extension": ".py",
   "mimetype": "text/x-python",
   "name": "python",
   "nbconvert_exporter": "python",
   "pygments_lexer": "ipython3",
   "version": "3.8.5"
  }
 },
 "nbformat": 4,
 "nbformat_minor": 4
}
