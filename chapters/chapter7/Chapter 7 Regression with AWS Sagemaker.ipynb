{
 "cells": [
  {
   "cell_type": "markdown",
   "id": "eeb3388c",
   "metadata": {},
   "source": [
    "## Chapter 7: Regression with AWS Sagemaker"
   ]
  },
  {
   "cell_type": "code",
   "execution_count": 19,
   "id": "b6a0a949",
   "metadata": {},
   "outputs": [
    {
     "name": "stdout",
     "output_type": "stream",
     "text": [
      "Requirement already satisfied: mysql-connector in /home/ec2-user/anaconda3/envs/python3/lib/python3.6/site-packages (2.2.9)\n",
      "Requirement already satisfied: pymysql in /home/ec2-user/anaconda3/envs/python3/lib/python3.6/site-packages (1.0.2)\n",
      "Requirement already satisfied: auto-sklearn in /home/ec2-user/anaconda3/envs/python3/lib/python3.6/site-packages (0.12.7)\n",
      "Requirement already satisfied: ConfigSpace<0.5,>=0.4.14 in /home/ec2-user/anaconda3/envs/python3/lib/python3.6/site-packages (from auto-sklearn) (0.4.19)\n",
      "Requirement already satisfied: smac<0.14,>=0.13.1 in /home/ec2-user/anaconda3/envs/python3/lib/python3.6/site-packages (from auto-sklearn) (0.13.1)\n",
      "Requirement already satisfied: numpy>=1.9.0 in /home/ec2-user/anaconda3/envs/python3/lib/python3.6/site-packages (from auto-sklearn) (1.19.5)\n",
      "Requirement already satisfied: joblib in /home/ec2-user/anaconda3/envs/python3/lib/python3.6/site-packages (from auto-sklearn) (1.0.1)\n",
      "Requirement already satisfied: pyyaml in /home/ec2-user/anaconda3/envs/python3/lib/python3.6/site-packages (from auto-sklearn) (5.4.1)\n",
      "Requirement already satisfied: liac-arff in /home/ec2-user/anaconda3/envs/python3/lib/python3.6/site-packages (from auto-sklearn) (2.5.0)\n",
      "Requirement already satisfied: pyrfr<0.9,>=0.8.1 in /home/ec2-user/anaconda3/envs/python3/lib/python3.6/site-packages (from auto-sklearn) (0.8.2)\n",
      "Requirement already satisfied: distributed>=2.2.0 in /home/ec2-user/anaconda3/envs/python3/lib/python3.6/site-packages (from auto-sklearn) (2021.2.0)\n",
      "Requirement already satisfied: dask in /home/ec2-user/anaconda3/envs/python3/lib/python3.6/site-packages (from auto-sklearn) (2021.2.0)\n",
      "Requirement already satisfied: scipy<1.7,>=0.14.1 in /home/ec2-user/anaconda3/envs/python3/lib/python3.6/site-packages (from auto-sklearn) (1.5.3)\n",
      "Requirement already satisfied: scikit-learn<0.25.0,>=0.24.0 in /home/ec2-user/anaconda3/envs/python3/lib/python3.6/site-packages (from auto-sklearn) (0.24.1)\n",
      "Requirement already satisfied: pynisher>=0.6.3 in /home/ec2-user/anaconda3/envs/python3/lib/python3.6/site-packages (from auto-sklearn) (0.6.4)\n",
      "Requirement already satisfied: setuptools in /home/ec2-user/anaconda3/envs/python3/lib/python3.6/site-packages (from auto-sklearn) (49.6.0.post20210108)\n",
      "Requirement already satisfied: pandas>=1.0 in /home/ec2-user/anaconda3/envs/python3/lib/python3.6/site-packages (from auto-sklearn) (1.1.5)\n",
      "Requirement already satisfied: cython in /home/ec2-user/anaconda3/envs/python3/lib/python3.6/site-packages (from ConfigSpace<0.5,>=0.4.14->auto-sklearn) (0.29.22)\n",
      "Requirement already satisfied: pyparsing in /home/ec2-user/anaconda3/envs/python3/lib/python3.6/site-packages (from ConfigSpace<0.5,>=0.4.14->auto-sklearn) (2.4.7)\n",
      "Requirement already satisfied: sortedcontainers!=2.0.0,!=2.0.1 in /home/ec2-user/anaconda3/envs/python3/lib/python3.6/site-packages (from distributed>=2.2.0->auto-sklearn) (2.3.0)\n",
      "Requirement already satisfied: contextvars in /home/ec2-user/anaconda3/envs/python3/lib/python3.6/site-packages (from distributed>=2.2.0->auto-sklearn) (2.4)\n",
      "Requirement already satisfied: tornado>=5 in /home/ec2-user/anaconda3/envs/python3/lib/python3.6/site-packages (from distributed>=2.2.0->auto-sklearn) (6.1)\n",
      "Requirement already satisfied: cloudpickle>=1.5.0 in /home/ec2-user/anaconda3/envs/python3/lib/python3.6/site-packages (from distributed>=2.2.0->auto-sklearn) (1.6.0)\n",
      "Requirement already satisfied: click>=6.6 in /home/ec2-user/anaconda3/envs/python3/lib/python3.6/site-packages (from distributed>=2.2.0->auto-sklearn) (7.1.2)\n",
      "Requirement already satisfied: toolz>=0.8.2 in /home/ec2-user/anaconda3/envs/python3/lib/python3.6/site-packages (from distributed>=2.2.0->auto-sklearn) (0.11.1)\n",
      "Requirement already satisfied: tblib>=1.6.0 in /home/ec2-user/anaconda3/envs/python3/lib/python3.6/site-packages (from distributed>=2.2.0->auto-sklearn) (1.6.0)\n",
      "Requirement already satisfied: zict>=0.1.3 in /home/ec2-user/anaconda3/envs/python3/lib/python3.6/site-packages (from distributed>=2.2.0->auto-sklearn) (2.0.0)\n",
      "Requirement already satisfied: psutil>=5.0 in /home/ec2-user/anaconda3/envs/python3/lib/python3.6/site-packages (from distributed>=2.2.0->auto-sklearn) (5.8.0)\n",
      "Requirement already satisfied: msgpack>=0.6.0 in /home/ec2-user/anaconda3/envs/python3/lib/python3.6/site-packages (from distributed>=2.2.0->auto-sklearn) (1.0.2)\n",
      "Requirement already satisfied: python-dateutil>=2.7.3 in /home/ec2-user/anaconda3/envs/python3/lib/python3.6/site-packages (from pandas>=1.0->auto-sklearn) (2.8.1)\n",
      "Requirement already satisfied: pytz>=2017.2 in /home/ec2-user/anaconda3/envs/python3/lib/python3.6/site-packages (from pandas>=1.0->auto-sklearn) (2021.1)\n",
      "Requirement already satisfied: six>=1.5 in /home/ec2-user/anaconda3/envs/python3/lib/python3.6/site-packages (from python-dateutil>=2.7.3->pandas>=1.0->auto-sklearn) (1.15.0)\n",
      "Requirement already satisfied: threadpoolctl>=2.0.0 in /home/ec2-user/anaconda3/envs/python3/lib/python3.6/site-packages (from scikit-learn<0.25.0,>=0.24.0->auto-sklearn) (2.1.0)\n",
      "Requirement already satisfied: lazy-import in /home/ec2-user/anaconda3/envs/python3/lib/python3.6/site-packages (from smac<0.14,>=0.13.1->auto-sklearn) (0.2.2)\n",
      "Requirement already satisfied: heapdict in /home/ec2-user/anaconda3/envs/python3/lib/python3.6/site-packages (from zict>=0.1.3->distributed>=2.2.0->auto-sklearn) (1.0.1)\n",
      "Requirement already satisfied: immutables>=0.9 in /home/ec2-user/anaconda3/envs/python3/lib/python3.6/site-packages (from contextvars->distributed>=2.2.0->auto-sklearn) (0.15)\n",
      "\u001b[33mWARNING: You are using pip version 21.1.2; however, version 21.2.2 is available.\n",
      "You should consider upgrading via the '/home/ec2-user/anaconda3/envs/python3/bin/python -m pip install --upgrade pip' command.\u001b[0m\n"
     ]
    }
   ],
   "source": [
    "!pip install mysql-connector pymysql auto-sklearn"
   ]
  },
  {
   "cell_type": "code",
   "execution_count": 9,
   "id": "b1a4a5a3",
   "metadata": {},
   "outputs": [],
   "source": [
    "import pandas as pd\n",
    "import numpy as np\n",
    "\n",
    "import mysql.connector\n",
    "import sys\n",
    "import boto3\n",
    "import os\n",
    "import re\n",
    "\n",
    "import matplotlib.pyplot as plt\n",
    "import seaborn as sns\n",
    "sns.set_style(\"darkgrid\")"
   ]
  },
  {
   "cell_type": "code",
   "execution_count": 10,
   "id": "d46967c6",
   "metadata": {},
   "outputs": [],
   "source": [
    "ENDPOINT=\"toxicitydataset.cbowkysg1oyc.us-east-2.rds.amazonaws.com\"\n",
    "PORT=\"3306\"\n",
    "USR=\"admin\"\n",
    "DBNAME=\"toxicity_db_tutorial\"\n",
    "PASSWORD = \"Slv6exdhmcR4uRDSzHvj\""
   ]
  },
  {
   "cell_type": "code",
   "execution_count": 11,
   "id": "e1c26479",
   "metadata": {},
   "outputs": [
    {
     "data": {
      "text/html": [
       "<div>\n",
       "<style scoped>\n",
       "    .dataframe tbody tr th:only-of-type {\n",
       "        vertical-align: middle;\n",
       "    }\n",
       "\n",
       "    .dataframe tbody tr th {\n",
       "        vertical-align: top;\n",
       "    }\n",
       "\n",
       "    .dataframe thead th {\n",
       "        text-align: right;\n",
       "    }\n",
       "</style>\n",
       "<table border=\"1\" class=\"dataframe\">\n",
       "  <thead>\n",
       "    <tr style=\"text-align: right;\">\n",
       "      <th></th>\n",
       "      <th>ID</th>\n",
       "      <th>smiles</th>\n",
       "      <th>toxic</th>\n",
       "      <th>FormalCharge</th>\n",
       "      <th>TPSA</th>\n",
       "      <th>MolWt</th>\n",
       "      <th>HeavyAtoms</th>\n",
       "      <th>NHOH</th>\n",
       "      <th>HAcceptors</th>\n",
       "      <th>HDonors</th>\n",
       "      <th>Heteroatoms</th>\n",
       "      <th>AromaticRings</th>\n",
       "      <th>SaturatedRings</th>\n",
       "      <th>AromaticOH</th>\n",
       "      <th>AromaticN</th>\n",
       "      <th>LogP</th>\n",
       "    </tr>\n",
       "  </thead>\n",
       "  <tbody>\n",
       "    <tr>\n",
       "      <th>0</th>\n",
       "      <td>25239916</td>\n",
       "      <td>c1c2c(c(c(c1[131I])[O-])[131I])Oc3c(cc(c(c3[13...</td>\n",
       "      <td>0</td>\n",
       "      <td>-2</td>\n",
       "      <td>81.65</td>\n",
       "      <td>987.667498</td>\n",
       "      <td>33</td>\n",
       "      <td>0</td>\n",
       "      <td>5</td>\n",
       "      <td>0</td>\n",
       "      <td>13</td>\n",
       "      <td>3</td>\n",
       "      <td>0</td>\n",
       "      <td>0</td>\n",
       "      <td>0</td>\n",
       "      <td>7.4338</td>\n",
       "    </tr>\n",
       "    <tr>\n",
       "      <th>1</th>\n",
       "      <td>25239917</td>\n",
       "      <td>CCC[C@@H]1C[C@H]([NH+](C1)C)C(=O)N[C@@H]([C@@H...</td>\n",
       "      <td>0</td>\n",
       "      <td>1</td>\n",
       "      <td>123.69</td>\n",
       "      <td>407.553000</td>\n",
       "      <td>27</td>\n",
       "      <td>6</td>\n",
       "      <td>7</td>\n",
       "      <td>6</td>\n",
       "      <td>9</td>\n",
       "      <td>0</td>\n",
       "      <td>2</td>\n",
       "      <td>4</td>\n",
       "      <td>0</td>\n",
       "      <td>-2.2741</td>\n",
       "    </tr>\n",
       "    <tr>\n",
       "      <th>2</th>\n",
       "      <td>25239918</td>\n",
       "      <td>CNC(=O)c1cc(ccn1)Oc2ccc(cc2)NC(=O)Nc3ccc(c(c3)...</td>\n",
       "      <td>0</td>\n",
       "      <td>0</td>\n",
       "      <td>92.35</td>\n",
       "      <td>464.831000</td>\n",
       "      <td>32</td>\n",
       "      <td>3</td>\n",
       "      <td>4</td>\n",
       "      <td>3</td>\n",
       "      <td>11</td>\n",
       "      <td>3</td>\n",
       "      <td>0</td>\n",
       "      <td>0</td>\n",
       "      <td>1</td>\n",
       "      <td>5.5497</td>\n",
       "    </tr>\n",
       "    <tr>\n",
       "      <th>3</th>\n",
       "      <td>25239919</td>\n",
       "      <td>CN(C)c1cccc2c1ccc(c2)S(=O)(=O)[O-]</td>\n",
       "      <td>0</td>\n",
       "      <td>-1</td>\n",
       "      <td>60.44</td>\n",
       "      <td>250.299000</td>\n",
       "      <td>17</td>\n",
       "      <td>0</td>\n",
       "      <td>4</td>\n",
       "      <td>0</td>\n",
       "      <td>5</td>\n",
       "      <td>2</td>\n",
       "      <td>0</td>\n",
       "      <td>0</td>\n",
       "      <td>0</td>\n",
       "      <td>1.8099</td>\n",
       "    </tr>\n",
       "    <tr>\n",
       "      <th>4</th>\n",
       "      <td>25239920</td>\n",
       "      <td>CC(C)c1ccc2c(c1)c(=O)c3cc(c(nc3o2)N)C(=O)[O-]</td>\n",
       "      <td>0</td>\n",
       "      <td>-1</td>\n",
       "      <td>109.25</td>\n",
       "      <td>297.290000</td>\n",
       "      <td>22</td>\n",
       "      <td>2</td>\n",
       "      <td>6</td>\n",
       "      <td>1</td>\n",
       "      <td>6</td>\n",
       "      <td>3</td>\n",
       "      <td>0</td>\n",
       "      <td>0</td>\n",
       "      <td>1</td>\n",
       "      <td>1.4103</td>\n",
       "    </tr>\n",
       "  </tbody>\n",
       "</table>\n",
       "</div>"
      ],
      "text/plain": [
       "         ID                                             smiles  toxic  \\\n",
       "0  25239916  c1c2c(c(c(c1[131I])[O-])[131I])Oc3c(cc(c(c3[13...      0   \n",
       "1  25239917  CCC[C@@H]1C[C@H]([NH+](C1)C)C(=O)N[C@@H]([C@@H...      0   \n",
       "2  25239918  CNC(=O)c1cc(ccn1)Oc2ccc(cc2)NC(=O)Nc3ccc(c(c3)...      0   \n",
       "3  25239919                 CN(C)c1cccc2c1ccc(c2)S(=O)(=O)[O-]      0   \n",
       "4  25239920      CC(C)c1ccc2c(c1)c(=O)c3cc(c(nc3o2)N)C(=O)[O-]      0   \n",
       "\n",
       "   FormalCharge    TPSA       MolWt  HeavyAtoms  NHOH  HAcceptors  HDonors  \\\n",
       "0            -2   81.65  987.667498          33     0           5        0   \n",
       "1             1  123.69  407.553000          27     6           7        6   \n",
       "2             0   92.35  464.831000          32     3           4        3   \n",
       "3            -1   60.44  250.299000          17     0           4        0   \n",
       "4            -1  109.25  297.290000          22     2           6        1   \n",
       "\n",
       "   Heteroatoms  AromaticRings  SaturatedRings  AromaticOH  AromaticN    LogP  \n",
       "0           13              3               0           0          0  7.4338  \n",
       "1            9              0               2           4          0 -2.2741  \n",
       "2           11              3               0           0          1  5.5497  \n",
       "3            5              2               0           0          0  1.8099  \n",
       "4            6              3               0           0          1  1.4103  "
      ]
     },
     "execution_count": 11,
     "metadata": {},
     "output_type": "execute_result"
    }
   ],
   "source": [
    "from sqlalchemy import create_engine\n",
    "import pandas as pd\n",
    "\n",
    "db_connection_str = 'mysql+pymysql://{USR}:{PASSWORD}@{ENDPOINT}:{PORT}/{DBNAME}'.format(USR=USR, PASSWORD=PASSWORD, ENDPOINT=ENDPOINT, PORT=PORT, DBNAME=DBNAME)\n",
    "db_connection = create_engine(db_connection_str)\n",
    "df = pd.read_sql('SELECT * FROM dataset_toxicity_sd', con=db_connection)\n",
    "df.head()"
   ]
  },
  {
   "cell_type": "code",
   "execution_count": 12,
   "id": "8a5de5cf",
   "metadata": {},
   "outputs": [],
   "source": [
    "X = df[[\"Heteroatoms\", \"MolWt\", \"HeavyAtoms\", \"NHOH\", \"HAcceptors\", \"HDonors\"]]\n",
    "y = df.TPSA.values.ravel()"
   ]
  },
  {
   "cell_type": "code",
   "execution_count": 13,
   "id": "483c3c4d",
   "metadata": {},
   "outputs": [],
   "source": [
    "from sklearn.preprocessing import MinMaxScaler\n",
    "scaler = MinMaxScaler()\n",
    "X_scaled = scaler.fit_transform(X)"
   ]
  },
  {
   "cell_type": "code",
   "execution_count": 14,
   "id": "a1ee5c20",
   "metadata": {},
   "outputs": [],
   "source": [
    "from sklearn.model_selection import train_test_split\n",
    "X_train, X_test, y_train, y_test = train_test_split(X_scaled, y, test_size=0.25)"
   ]
  },
  {
   "cell_type": "code",
   "execution_count": 24,
   "id": "9225e6a8",
   "metadata": {},
   "outputs": [
    {
     "data": {
      "text/plain": [
       "AutoSklearnRegressor(per_run_time_limit=30, time_left_for_this_task=120,\n",
       "                     tmp_folder='/tmp/autosklearn_regression_example_tmp2')"
      ]
     },
     "execution_count": 24,
     "metadata": {},
     "output_type": "execute_result"
    }
   ],
   "source": [
    "import autosklearn.regression\n",
    "\n",
    "automl = autosklearn.regression.AutoSklearnRegressor(\n",
    "    time_left_for_this_task=120,\n",
    "    per_run_time_limit=30,\n",
    "    tmp_folder='/tmp/autosklearn_regression_example_tmp2',\n",
    ")\n",
    "automl.fit(X_train, y_train, dataset_name='dataset_toxicity')"
   ]
  },
  {
   "cell_type": "code",
   "execution_count": 26,
   "id": "f93ca33c",
   "metadata": {},
   "outputs": [
    {
     "data": {
      "text/plain": [
       "(0.44,\n",
       " SimpleRegressionPipeline({'data_preprocessing:categorical_transformer:categorical_encoding:__choice__': 'no_encoding', 'data_preprocessing:categorical_transformer:category_coalescence:__choice__': 'no_coalescense', 'data_preprocessing:numerical_transformer:imputation:strategy': 'most_frequent', 'data_preprocessing:numerical_transformer:rescaling:__choice__': 'minmax', 'feature_preprocessor:__choice__': 'polynomial', 'regressor:__choice__': 'extra_trees', 'feature_preprocessor:polynomial:degree': 2, 'feature_preprocessor:polynomial:include_bias': 'False', 'feature_preprocessor:polynomial:interaction_only': 'True', 'regressor:extra_trees:bootstrap': 'False', 'regressor:extra_trees:criterion': 'mse', 'regressor:extra_trees:max_depth': 'None', 'regressor:extra_trees:max_features': 0.9797793053686011, 'regressor:extra_trees:max_leaf_nodes': 'None', 'regressor:extra_trees:min_impurity_decrease': 0.0, 'regressor:extra_trees:min_samples_leaf': 1, 'regressor:extra_trees:min_samples_split': 4, 'regressor:extra_trees:min_weight_fraction_leaf': 0.0},\n",
       " dataset_properties={\n",
       "   'task': 4,\n",
       "   'sparse': False,\n",
       "   'multioutput': False,\n",
       "   'target_type': 'regression',\n",
       "   'signed': False}))"
      ]
     },
     "execution_count": 26,
     "metadata": {},
     "output_type": "execute_result"
    }
   ],
   "source": [
    "automl.get_models_with_weights()[0]"
   ]
  },
  {
   "cell_type": "code",
   "execution_count": 37,
   "id": "bd1c55f2",
   "metadata": {},
   "outputs": [
    {
     "data": {
      "image/png": "[encoded data removed]",
      "text/plain": [
       "<Figure size 432x432 with 3 Axes>"
      ]
     },
     "metadata": {},
     "output_type": "display_data"
    }
   ],
   "source": [
    "from sklearn.metrics import r2_score, mean_squared_error\n",
    "\n",
    "predictions = automl.predict(X_test)\n",
    "p = sns.jointplot(x=y_test, y=predictions, kind=\"reg\")\n",
    "p.fig.suptitle(f\"automl, R2 = {round(r2_score(y_test, predictions), 3)}, MSE = {round(mean_squared_error(y_test, predictions), 2)}\")\n",
    "# p.ax_joint.collections[0].set_alpha(0)\n",
    "# p.fig.tight_layout()\n",
    "p.fig.subplots_adjust(top=0.90)"
   ]
  },
  {
   "cell_type": "code",
   "execution_count": null,
   "id": "2ea23d93",
   "metadata": {},
   "outputs": [],
   "source": []
  }
 ],
 "metadata": {
  "kernelspec": {
   "display_name": "conda_python3",
   "language": "python",
   "name": "conda_python3"
  },
  "language_info": {
   "codemirror_mode": {
    "name": "ipython",
    "version": 3
   },
   "file_extension": ".py",
   "mimetype": "text/x-python",
   "name": "python",
   "nbconvert_exporter": "python",
   "pygments_lexer": "ipython3",
   "version": "3.6.13"
  }
 },
 "nbformat": 4,
 "nbformat_minor": 5
}
