{
 "cells": [
  {
   "cell_type": "markdown",
   "id": "a1cfd4ac-a096-4803-a4b7-e14e770aca5d",
   "metadata": {},
   "source": [
    "### Chapter9 - Scientific Q&A Platforms:"
   ]
  },
  {
   "cell_type": "markdown",
   "id": "6e449d51-9aec-40be-a9ab-6dc88bcb6200",
   "metadata": {},
   "source": [
    "### Import Libraries:"
   ]
  },
  {
   "cell_type": "code",
   "execution_count": 1,
   "id": "5c509180-db27-45b4-9d58-4cca425ed4b3",
   "metadata": {},
   "outputs": [],
   "source": [
    "import pandas as pd\n",
    "import numpy as np\n",
    "import scipy\n",
    "\n",
    "from tqdm import tqdm\n",
    "# import transformers\n",
    "# import logging\n",
    "# transformers.logging.get_verbosity = lambda: logging.NOTSET\n",
    "import torch\n",
    "# import tensorflow\n",
    "# from transformers import pipeline"
   ]
  },
  {
   "cell_type": "markdown",
   "id": "a01e1b9e-cc7e-4dfe-9c2c-2f026f7a46cc",
   "metadata": {},
   "source": [
    "### Import Data:"
   ]
  },
  {
   "cell_type": "code",
   "execution_count": 2,
   "id": "14d50d39-f3c4-49a3-891d-c5f127183d51",
   "metadata": {},
   "outputs": [],
   "source": [
    "from pymed import PubMed\n",
    "pubmed = PubMed()\n",
    "query = \"environmental biotechnology\"\n",
    "results = pubmed.query(query, max_results=1000)"
   ]
  },
  {
   "cell_type": "code",
   "execution_count": 3,
   "id": "5bc794ef-7b9e-42ec-96db-ecf722835201",
   "metadata": {},
   "outputs": [
    {
     "name": "stderr",
     "output_type": "stream",
     "text": [
      "1000it [00:04, 206.50it/s]\n"
     ]
    }
   ],
   "source": [
    "articleList = []\n",
    "for article in tqdm(results):\n",
    "    articleDict = article.toDict()\n",
    "    articleList.append(articleDict)"
   ]
  },
  {
   "cell_type": "code",
   "execution_count": 4,
   "id": "ede2fa6a-17a9-48e1-8083-eb4cdd983d83",
   "metadata": {},
   "outputs": [
    {
     "data": {
      "text/html": [
       "<div>\n",
       "<style scoped>\n",
       "    .dataframe tbody tr th:only-of-type {\n",
       "        vertical-align: middle;\n",
       "    }\n",
       "\n",
       "    .dataframe tbody tr th {\n",
       "        vertical-align: top;\n",
       "    }\n",
       "\n",
       "    .dataframe thead th {\n",
       "        text-align: right;\n",
       "    }\n",
       "</style>\n",
       "<table border=\"1\" class=\"dataframe\">\n",
       "  <thead>\n",
       "    <tr style=\"text-align: right;\">\n",
       "      <th></th>\n",
       "      <th>pubmed_id</th>\n",
       "      <th>title</th>\n",
       "      <th>abstract</th>\n",
       "      <th>keywords</th>\n",
       "      <th>journal</th>\n",
       "      <th>publication_date</th>\n",
       "      <th>authors</th>\n",
       "      <th>methods</th>\n",
       "      <th>conclusions</th>\n",
       "      <th>results</th>\n",
       "      <th>copyrights</th>\n",
       "      <th>doi</th>\n",
       "      <th>xml</th>\n",
       "    </tr>\n",
       "  </thead>\n",
       "  <tbody>\n",
       "    <tr>\n",
       "      <th>0</th>\n",
       "      <td>34454387</td>\n",
       "      <td>Biodegradation of weathered crude oil by micro...</td>\n",
       "      <td>Oil spilled in the Arctic may drift into ice-c...</td>\n",
       "      <td>[Bacterial dynamics, Biotransformation, Brine,...</td>\n",
       "      <td>Marine pollution bulletin</td>\n",
       "      <td>2021-08-29</td>\n",
       "      <td>[{'lastname': 'Lofthus', 'firstname': 'Synnøve...</td>\n",
       "      <td>None</td>\n",
       "      <td>None</td>\n",
       "      <td>None</td>\n",
       "      <td>Copyright © 2021 The Authors. Published by Els...</td>\n",
       "      <td>10.1016/j.marpolbul.2021.112823</td>\n",
       "      <td>[[[], [&lt;Element 'Year' at 0x000001FD2C569EA0&gt;,...</td>\n",
       "    </tr>\n",
       "    <tr>\n",
       "      <th>1</th>\n",
       "      <td>34454204</td>\n",
       "      <td>Assessment of diagnostic potential of some cir...</td>\n",
       "      <td>Numerous studies have been carried out to iden...</td>\n",
       "      <td>[ALS, miR-142-3p, miR-143-3p, miR-206, miR-4516]</td>\n",
       "      <td>Clinical neurology and neurosurgery</td>\n",
       "      <td>2021-08-29</td>\n",
       "      <td>[{'lastname': 'Soliman', 'firstname': 'Radwa',...</td>\n",
       "      <td>None</td>\n",
       "      <td>This is the first study investigating miRNA pr...</td>\n",
       "      <td>As compared to the control group, significant ...</td>\n",
       "      <td>Copyright © 2021. Published by Elsevier B.V.</td>\n",
       "      <td>10.1016/j.clineuro.2021.106883</td>\n",
       "      <td>[[[], [&lt;Element 'Year' at 0x000001FD2C57CD60&gt;,...</td>\n",
       "    </tr>\n",
       "    <tr>\n",
       "      <th>2</th>\n",
       "      <td>34454155</td>\n",
       "      <td>Temperature influences the content and biosynt...</td>\n",
       "      <td>Temperature may affect the production of saxit...</td>\n",
       "      <td>[Alexandrium pacificum, HPLC-FLD, Saxitoxin bi...</td>\n",
       "      <td>The Science of the total environment</td>\n",
       "      <td>2021-08-29</td>\n",
       "      <td>[{'lastname': 'Wang', 'firstname': 'Hui', 'ini...</td>\n",
       "      <td>None</td>\n",
       "      <td>None</td>\n",
       "      <td>None</td>\n",
       "      <td>Copyright © 2021 Elsevier B.V. All rights rese...</td>\n",
       "      <td>10.1016/j.scitotenv.2021.149801</td>\n",
       "      <td>[[[], [&lt;Element 'Year' at 0x000001FD2C582810&gt;,...</td>\n",
       "    </tr>\n",
       "    <tr>\n",
       "      <th>3</th>\n",
       "      <td>34454144</td>\n",
       "      <td>Towards understanding the link between the det...</td>\n",
       "      <td>The gradual degradation of technical materials...</td>\n",
       "      <td>[Adaptation mechanisms, Aerial green algae, Bi...</td>\n",
       "      <td>The Science of the total environment</td>\n",
       "      <td>2021-08-29</td>\n",
       "      <td>[{'lastname': 'Nowicka-Krawczyk', 'firstname':...</td>\n",
       "      <td>None</td>\n",
       "      <td>None</td>\n",
       "      <td>None</td>\n",
       "      <td>Copyright © 2021 Elsevier B.V. All rights rese...</td>\n",
       "      <td>10.1016/j.scitotenv.2021.149856</td>\n",
       "      <td>[[[], [&lt;Element 'Year' at 0x000001FD2C588E00&gt;,...</td>\n",
       "    </tr>\n",
       "    <tr>\n",
       "      <th>4</th>\n",
       "      <td>34454141</td>\n",
       "      <td>A review on co-culturing of microalgae: A gree...</td>\n",
       "      <td>There is a growing global recognition that mic...</td>\n",
       "      <td>[Biomass, Co-cultivation, Lipid, Microalgae-ba...</td>\n",
       "      <td>The Science of the total environment</td>\n",
       "      <td>2021-08-29</td>\n",
       "      <td>[{'lastname': 'Ray', 'firstname': 'Ayusmita', ...</td>\n",
       "      <td>None</td>\n",
       "      <td>None</td>\n",
       "      <td>None</td>\n",
       "      <td>Copyright © 2021. Published by Elsevier B.V.</td>\n",
       "      <td>10.1016/j.scitotenv.2021.149765</td>\n",
       "      <td>[[[], [&lt;Element 'Year' at 0x000001FD2C591360&gt;,...</td>\n",
       "    </tr>\n",
       "  </tbody>\n",
       "</table>\n",
       "</div>"
      ],
      "text/plain": [
       "  pubmed_id                                              title  \\\n",
       "0  34454387  Biodegradation of weathered crude oil by micro...   \n",
       "1  34454204  Assessment of diagnostic potential of some cir...   \n",
       "2  34454155  Temperature influences the content and biosynt...   \n",
       "3  34454144  Towards understanding the link between the det...   \n",
       "4  34454141  A review on co-culturing of microalgae: A gree...   \n",
       "\n",
       "                                            abstract  \\\n",
       "0  Oil spilled in the Arctic may drift into ice-c...   \n",
       "1  Numerous studies have been carried out to iden...   \n",
       "2  Temperature may affect the production of saxit...   \n",
       "3  The gradual degradation of technical materials...   \n",
       "4  There is a growing global recognition that mic...   \n",
       "\n",
       "                                            keywords  \\\n",
       "0  [Bacterial dynamics, Biotransformation, Brine,...   \n",
       "1   [ALS, miR-142-3p, miR-143-3p, miR-206, miR-4516]   \n",
       "2  [Alexandrium pacificum, HPLC-FLD, Saxitoxin bi...   \n",
       "3  [Adaptation mechanisms, Aerial green algae, Bi...   \n",
       "4  [Biomass, Co-cultivation, Lipid, Microalgae-ba...   \n",
       "\n",
       "                                journal publication_date  \\\n",
       "0             Marine pollution bulletin       2021-08-29   \n",
       "1   Clinical neurology and neurosurgery       2021-08-29   \n",
       "2  The Science of the total environment       2021-08-29   \n",
       "3  The Science of the total environment       2021-08-29   \n",
       "4  The Science of the total environment       2021-08-29   \n",
       "\n",
       "                                             authors methods  \\\n",
       "0  [{'lastname': 'Lofthus', 'firstname': 'Synnøve...    None   \n",
       "1  [{'lastname': 'Soliman', 'firstname': 'Radwa',...    None   \n",
       "2  [{'lastname': 'Wang', 'firstname': 'Hui', 'ini...    None   \n",
       "3  [{'lastname': 'Nowicka-Krawczyk', 'firstname':...    None   \n",
       "4  [{'lastname': 'Ray', 'firstname': 'Ayusmita', ...    None   \n",
       "\n",
       "                                         conclusions  \\\n",
       "0                                               None   \n",
       "1  This is the first study investigating miRNA pr...   \n",
       "2                                               None   \n",
       "3                                               None   \n",
       "4                                               None   \n",
       "\n",
       "                                             results  \\\n",
       "0                                               None   \n",
       "1  As compared to the control group, significant ...   \n",
       "2                                               None   \n",
       "3                                               None   \n",
       "4                                               None   \n",
       "\n",
       "                                          copyrights  \\\n",
       "0  Copyright © 2021 The Authors. Published by Els...   \n",
       "1       Copyright © 2021. Published by Elsevier B.V.   \n",
       "2  Copyright © 2021 Elsevier B.V. All rights rese...   \n",
       "3  Copyright © 2021 Elsevier B.V. All rights rese...   \n",
       "4       Copyright © 2021. Published by Elsevier B.V.   \n",
       "\n",
       "                               doi  \\\n",
       "0  10.1016/j.marpolbul.2021.112823   \n",
       "1   10.1016/j.clineuro.2021.106883   \n",
       "2  10.1016/j.scitotenv.2021.149801   \n",
       "3  10.1016/j.scitotenv.2021.149856   \n",
       "4  10.1016/j.scitotenv.2021.149765   \n",
       "\n",
       "                                                 xml  \n",
       "0  [[[], [<Element 'Year' at 0x000001FD2C569EA0>,...  \n",
       "1  [[[], [<Element 'Year' at 0x000001FD2C57CD60>,...  \n",
       "2  [[[], [<Element 'Year' at 0x000001FD2C582810>,...  \n",
       "3  [[[], [<Element 'Year' at 0x000001FD2C588E00>,...  \n",
       "4  [[[], [<Element 'Year' at 0x000001FD2C591360>,...  "
      ]
     },
     "execution_count": 4,
     "metadata": {},
     "output_type": "execute_result"
    }
   ],
   "source": [
    "df = pd.DataFrame(articleList)\n",
    "df.head()"
   ]
  },
  {
   "cell_type": "code",
   "execution_count": 5,
   "id": "a4202409-5c38-4f9e-b458-409dbd5780a1",
   "metadata": {},
   "outputs": [
    {
     "data": {
      "text/html": [
       "<div>\n",
       "<style scoped>\n",
       "    .dataframe tbody tr th:only-of-type {\n",
       "        vertical-align: middle;\n",
       "    }\n",
       "\n",
       "    .dataframe tbody tr th {\n",
       "        vertical-align: top;\n",
       "    }\n",
       "\n",
       "    .dataframe thead th {\n",
       "        text-align: right;\n",
       "    }\n",
       "</style>\n",
       "<table border=\"1\" class=\"dataframe\">\n",
       "  <thead>\n",
       "    <tr style=\"text-align: right;\">\n",
       "      <th></th>\n",
       "      <th>pubmed_id</th>\n",
       "      <th>title</th>\n",
       "      <th>abstract</th>\n",
       "      <th>keywords</th>\n",
       "      <th>journal</th>\n",
       "      <th>publication_date</th>\n",
       "      <th>doi</th>\n",
       "    </tr>\n",
       "  </thead>\n",
       "  <tbody>\n",
       "    <tr>\n",
       "      <th>0</th>\n",
       "      <td>34454387</td>\n",
       "      <td>Biodegradation of weathered crude oil by micro...</td>\n",
       "      <td>Oil spilled in the Arctic may drift into ice-c...</td>\n",
       "      <td>[Bacterial dynamics, Biotransformation, Brine,...</td>\n",
       "      <td>Marine pollution bulletin</td>\n",
       "      <td>2021-08-29</td>\n",
       "      <td>10.1016/j.marpolbul.2021.112823</td>\n",
       "    </tr>\n",
       "    <tr>\n",
       "      <th>1</th>\n",
       "      <td>34454204</td>\n",
       "      <td>Assessment of diagnostic potential of some cir...</td>\n",
       "      <td>Numerous studies have been carried out to iden...</td>\n",
       "      <td>[ALS, miR-142-3p, miR-143-3p, miR-206, miR-4516]</td>\n",
       "      <td>Clinical neurology and neurosurgery</td>\n",
       "      <td>2021-08-29</td>\n",
       "      <td>10.1016/j.clineuro.2021.106883</td>\n",
       "    </tr>\n",
       "    <tr>\n",
       "      <th>2</th>\n",
       "      <td>34454155</td>\n",
       "      <td>Temperature influences the content and biosynt...</td>\n",
       "      <td>Temperature may affect the production of saxit...</td>\n",
       "      <td>[Alexandrium pacificum, HPLC-FLD, Saxitoxin bi...</td>\n",
       "      <td>The Science of the total environment</td>\n",
       "      <td>2021-08-29</td>\n",
       "      <td>10.1016/j.scitotenv.2021.149801</td>\n",
       "    </tr>\n",
       "    <tr>\n",
       "      <th>3</th>\n",
       "      <td>34454144</td>\n",
       "      <td>Towards understanding the link between the det...</td>\n",
       "      <td>The gradual degradation of technical materials...</td>\n",
       "      <td>[Adaptation mechanisms, Aerial green algae, Bi...</td>\n",
       "      <td>The Science of the total environment</td>\n",
       "      <td>2021-08-29</td>\n",
       "      <td>10.1016/j.scitotenv.2021.149856</td>\n",
       "    </tr>\n",
       "    <tr>\n",
       "      <th>4</th>\n",
       "      <td>34454141</td>\n",
       "      <td>A review on co-culturing of microalgae: A gree...</td>\n",
       "      <td>There is a growing global recognition that mic...</td>\n",
       "      <td>[Biomass, Co-cultivation, Lipid, Microalgae-ba...</td>\n",
       "      <td>The Science of the total environment</td>\n",
       "      <td>2021-08-29</td>\n",
       "      <td>10.1016/j.scitotenv.2021.149765</td>\n",
       "    </tr>\n",
       "  </tbody>\n",
       "</table>\n",
       "</div>"
      ],
      "text/plain": [
       "  pubmed_id                                              title  \\\n",
       "0  34454387  Biodegradation of weathered crude oil by micro...   \n",
       "1  34454204  Assessment of diagnostic potential of some cir...   \n",
       "2  34454155  Temperature influences the content and biosynt...   \n",
       "3  34454144  Towards understanding the link between the det...   \n",
       "4  34454141  A review on co-culturing of microalgae: A gree...   \n",
       "\n",
       "                                            abstract  \\\n",
       "0  Oil spilled in the Arctic may drift into ice-c...   \n",
       "1  Numerous studies have been carried out to iden...   \n",
       "2  Temperature may affect the production of saxit...   \n",
       "3  The gradual degradation of technical materials...   \n",
       "4  There is a growing global recognition that mic...   \n",
       "\n",
       "                                            keywords  \\\n",
       "0  [Bacterial dynamics, Biotransformation, Brine,...   \n",
       "1   [ALS, miR-142-3p, miR-143-3p, miR-206, miR-4516]   \n",
       "2  [Alexandrium pacificum, HPLC-FLD, Saxitoxin bi...   \n",
       "3  [Adaptation mechanisms, Aerial green algae, Bi...   \n",
       "4  [Biomass, Co-cultivation, Lipid, Microalgae-ba...   \n",
       "\n",
       "                                journal publication_date  \\\n",
       "0             Marine pollution bulletin       2021-08-29   \n",
       "1   Clinical neurology and neurosurgery       2021-08-29   \n",
       "2  The Science of the total environment       2021-08-29   \n",
       "3  The Science of the total environment       2021-08-29   \n",
       "4  The Science of the total environment       2021-08-29   \n",
       "\n",
       "                               doi  \n",
       "0  10.1016/j.marpolbul.2021.112823  \n",
       "1   10.1016/j.clineuro.2021.106883  \n",
       "2  10.1016/j.scitotenv.2021.149801  \n",
       "3  10.1016/j.scitotenv.2021.149856  \n",
       "4  10.1016/j.scitotenv.2021.149765  "
      ]
     },
     "execution_count": 5,
     "metadata": {},
     "output_type": "execute_result"
    }
   ],
   "source": [
    "df = df[[\"pubmed_id\", \"title\", \"abstract\", \"keywords\", \"journal\", \"publication_date\", \"doi\"]]\n",
    "df.head()"
   ]
  },
  {
   "cell_type": "code",
   "execution_count": 21,
   "id": "f926ef52-4d01-46dd-88ff-58115c9235f5",
   "metadata": {},
   "outputs": [
    {
     "data": {
      "text/plain": [
       "(1000, 2)"
      ]
     },
     "execution_count": 21,
     "metadata": {},
     "output_type": "execute_result"
    }
   ],
   "source": [
    "df.shape"
   ]
  },
  {
   "cell_type": "code",
   "execution_count": 93,
   "id": "9990bc67-7f25-4a22-9253-75801528b091",
   "metadata": {},
   "outputs": [
    {
     "data": {
      "text/html": [
       "<div>\n",
       "<style scoped>\n",
       "    .dataframe tbody tr th:only-of-type {\n",
       "        vertical-align: middle;\n",
       "    }\n",
       "\n",
       "    .dataframe tbody tr th {\n",
       "        vertical-align: top;\n",
       "    }\n",
       "\n",
       "    .dataframe thead th {\n",
       "        text-align: right;\n",
       "    }\n",
       "</style>\n",
       "<table border=\"1\" class=\"dataframe\">\n",
       "  <thead>\n",
       "    <tr style=\"text-align: right;\">\n",
       "      <th></th>\n",
       "      <th>title</th>\n",
       "      <th>abstract</th>\n",
       "    </tr>\n",
       "  </thead>\n",
       "  <tbody>\n",
       "    <tr>\n",
       "      <th>0</th>\n",
       "      <td>Biodegradation of weathered crude oil by micro...</td>\n",
       "      <td>Oil spilled in the Arctic may drift into ice-c...</td>\n",
       "    </tr>\n",
       "    <tr>\n",
       "      <th>1</th>\n",
       "      <td>Assessment of diagnostic potential of some cir...</td>\n",
       "      <td>Numerous studies have been carried out to iden...</td>\n",
       "    </tr>\n",
       "    <tr>\n",
       "      <th>2</th>\n",
       "      <td>Temperature influences the content and biosynt...</td>\n",
       "      <td>Temperature may affect the production of saxit...</td>\n",
       "    </tr>\n",
       "    <tr>\n",
       "      <th>3</th>\n",
       "      <td>Towards understanding the link between the det...</td>\n",
       "      <td>The gradual degradation of technical materials...</td>\n",
       "    </tr>\n",
       "    <tr>\n",
       "      <th>4</th>\n",
       "      <td>A review on co-culturing of microalgae: A gree...</td>\n",
       "      <td>There is a growing global recognition that mic...</td>\n",
       "    </tr>\n",
       "  </tbody>\n",
       "</table>\n",
       "</div>"
      ],
      "text/plain": [
       "                                               title  \\\n",
       "0  Biodegradation of weathered crude oil by micro...   \n",
       "1  Assessment of diagnostic potential of some cir...   \n",
       "2  Temperature influences the content and biosynt...   \n",
       "3  Towards understanding the link between the det...   \n",
       "4  A review on co-culturing of microalgae: A gree...   \n",
       "\n",
       "                                            abstract  \n",
       "0  Oil spilled in the Arctic may drift into ice-c...  \n",
       "1  Numerous studies have been carried out to iden...  \n",
       "2  Temperature may affect the production of saxit...  \n",
       "3  The gradual degradation of technical materials...  \n",
       "4  There is a growing global recognition that mic...  "
      ]
     },
     "execution_count": 93,
     "metadata": {},
     "output_type": "execute_result"
    }
   ],
   "source": [
    "df = df[[\"title\", \"abstract\"]].dropna().reset_index(drop=True)\n",
    "df.head()"
   ]
  },
  {
   "cell_type": "code",
   "execution_count": 94,
   "id": "08805f95-0053-440a-8a66-a3bc8546d486",
   "metadata": {},
   "outputs": [
    {
     "data": {
      "text/plain": [
       "(979, 2)"
      ]
     },
     "execution_count": 94,
     "metadata": {},
     "output_type": "execute_result"
    }
   ],
   "source": [
    "df.shape"
   ]
  },
  {
   "cell_type": "markdown",
   "id": "b78caf6b-5df8-4e64-a874-2121f6f8342a",
   "metadata": {},
   "source": [
    "### Sentence Transformers Sample:"
   ]
  },
  {
   "cell_type": "code",
   "execution_count": 29,
   "id": "e13b257f-9faa-41cb-b169-656c470416ba",
   "metadata": {},
   "outputs": [
    {
     "data": {
      "application/vnd.jupyter.widget-view+json": {
       "model_id": "311f0d5e7a2e49888df39a01fa337a03",
       "version_major": 2,
       "version_minor": 0
      },
      "text/plain": [
       "Downloading:   0%|          | 0.00/690 [00:00<?, ?B/s]"
      ]
     },
     "metadata": {},
     "output_type": "display_data"
    },
    {
     "data": {
      "application/vnd.jupyter.widget-view+json": {
       "model_id": "7b7a2a0bc9bd4cf6940b26608ab3bae2",
       "version_major": 2,
       "version_minor": 0
      },
      "text/plain": [
       "Downloading:   0%|          | 0.00/3.71k [00:00<?, ?B/s]"
      ]
     },
     "metadata": {},
     "output_type": "display_data"
    },
    {
     "data": {
      "application/vnd.jupyter.widget-view+json": {
       "model_id": "ac655d718a38404693759f214f33b508",
       "version_major": 2,
       "version_minor": 0
      },
      "text/plain": [
       "Downloading:   0%|          | 0.00/545 [00:00<?, ?B/s]"
      ]
     },
     "metadata": {},
     "output_type": "display_data"
    },
    {
     "data": {
      "application/vnd.jupyter.widget-view+json": {
       "model_id": "2cd6600bb2834dbb89acfa7c45f01527",
       "version_major": 2,
       "version_minor": 0
      },
      "text/plain": [
       "Downloading:   0%|          | 0.00/122 [00:00<?, ?B/s]"
      ]
     },
     "metadata": {},
     "output_type": "display_data"
    },
    {
     "data": {
      "application/vnd.jupyter.widget-view+json": {
       "model_id": "5c9e46ad3cd842b7a4ef8a108f6002a5",
       "version_major": 2,
       "version_minor": 0
      },
      "text/plain": [
       "Downloading:   0%|          | 0.00/229 [00:00<?, ?B/s]"
      ]
     },
     "metadata": {},
     "output_type": "display_data"
    },
    {
     "data": {
      "application/vnd.jupyter.widget-view+json": {
       "model_id": "4f42019c8d5f40aa8e06099a729e8f08",
       "version_major": 2,
       "version_minor": 0
      },
      "text/plain": [
       "Downloading:   0%|          | 0.00/265M [00:00<?, ?B/s]"
      ]
     },
     "metadata": {},
     "output_type": "display_data"
    },
    {
     "data": {
      "application/vnd.jupyter.widget-view+json": {
       "model_id": "50d95faeb26646709c70f7d4afc59ea7",
       "version_major": 2,
       "version_minor": 0
      },
      "text/plain": [
       "Downloading:   0%|          | 0.00/53.0 [00:00<?, ?B/s]"
      ]
     },
     "metadata": {},
     "output_type": "display_data"
    },
    {
     "data": {
      "application/vnd.jupyter.widget-view+json": {
       "model_id": "6bbf6f25cd64478f861fd45ec5c4fd34",
       "version_major": 2,
       "version_minor": 0
      },
      "text/plain": [
       "Downloading:   0%|          | 0.00/112 [00:00<?, ?B/s]"
      ]
     },
     "metadata": {},
     "output_type": "display_data"
    },
    {
     "data": {
      "application/vnd.jupyter.widget-view+json": {
       "model_id": "77e4328d7c2e479793bdb094539da8d6",
       "version_major": 2,
       "version_minor": 0
      },
      "text/plain": [
       "Downloading:   0%|          | 0.00/466k [00:00<?, ?B/s]"
      ]
     },
     "metadata": {},
     "output_type": "display_data"
    },
    {
     "data": {
      "application/vnd.jupyter.widget-view+json": {
       "model_id": "71d86d3363dd44be9c41f2b4917f851c",
       "version_major": 2,
       "version_minor": 0
      },
      "text/plain": [
       "Downloading:   0%|          | 0.00/319 [00:00<?, ?B/s]"
      ]
     },
     "metadata": {},
     "output_type": "display_data"
    },
    {
     "data": {
      "application/vnd.jupyter.widget-view+json": {
       "model_id": "202b1083f22b4d448149b789a33154db",
       "version_major": 2,
       "version_minor": 0
      },
      "text/plain": [
       "Downloading:   0%|          | 0.00/232k [00:00<?, ?B/s]"
      ]
     },
     "metadata": {},
     "output_type": "display_data"
    },
    {
     "data": {
      "application/vnd.jupyter.widget-view+json": {
       "model_id": "626393ee04b641d89809d7a3668d4878",
       "version_major": 2,
       "version_minor": 0
      },
      "text/plain": [
       "Downloading:   0%|          | 0.00/190 [00:00<?, ?B/s]"
      ]
     },
     "metadata": {},
     "output_type": "display_data"
    }
   ],
   "source": [
    "from sentence_transformers import SentenceTransformer, util\n",
    "model = SentenceTransformer('msmarco-distilbert-base-v4')"
   ]
  },
  {
   "cell_type": "code",
   "execution_count": 30,
   "id": "9b1eac88-ccb4-44ac-8355-6b4f0c1b7f0d",
   "metadata": {},
   "outputs": [],
   "source": [
    "database = [\"Quantum chemistry is an interesting field. Heisenberg Uncertainty is my favorite topic.\", \n",
    "        \"Monoclonal antibodies were a wonderful discovery. They are a primary example success in modern biotechnology.\",\n",
    "        \"Chemistry is more interesting than biology.\"]"
   ]
  },
  {
   "cell_type": "code",
   "execution_count": 31,
   "id": "d7cbcca2-9267-4f56-86d3-7cd02367e975",
   "metadata": {},
   "outputs": [],
   "source": [
    "database_embeddings = model.encode(database)"
   ]
  },
  {
   "cell_type": "code",
   "execution_count": 32,
   "id": "e4644b2f-5e7f-4575-9acd-b7381983a76c",
   "metadata": {},
   "outputs": [
    {
     "data": {
      "text/plain": [
       "3"
      ]
     },
     "execution_count": 32,
     "metadata": {},
     "output_type": "execute_result"
    }
   ],
   "source": [
    "len(database_embeddings)"
   ]
  },
  {
   "cell_type": "code",
   "execution_count": 33,
   "id": "99789075-fa27-4280-8d24-a298367b344a",
   "metadata": {},
   "outputs": [
    {
     "data": {
      "text/plain": [
       "'Quantum chemistry is an interesting field. Heisenberg Uncertainty is my favorite topic.'"
      ]
     },
     "execution_count": 33,
     "metadata": {},
     "output_type": "execute_result"
    }
   ],
   "source": [
    "database[0]"
   ]
  },
  {
   "cell_type": "code",
   "execution_count": 34,
   "id": "8b326d0e-eb23-4c7d-8f0f-175e972a8e53",
   "metadata": {},
   "outputs": [
    {
     "data": {
      "text/plain": [
       "array([-0.33035722, -0.00299182, -0.23856919,  0.15675594,  0.10859083,\n",
       "       -0.37391078, -0.8054329 , -0.29058525, -0.27573693, -0.25883505],\n",
       "      dtype=float32)"
      ]
     },
     "execution_count": 34,
     "metadata": {},
     "output_type": "execute_result"
    }
   ],
   "source": [
    "database_embeddings[0][:10]"
   ]
  },
  {
   "cell_type": "code",
   "execution_count": 35,
   "id": "964f217c-555c-449e-806e-0774ff4aea56",
   "metadata": {},
   "outputs": [],
   "source": [
    "query = \"One of the best discoveries were monoclonal antibodies\"\n",
    "query_embedding = model.encode(query)"
   ]
  },
  {
   "cell_type": "code",
   "execution_count": 36,
   "id": "a8968b4b-7c2d-4dd8-94d1-c41ae04f3bd4",
   "metadata": {},
   "outputs": [
    {
     "data": {
      "text/plain": [
       "array([0.78234024, 0.33241609, 0.80974558])"
      ]
     },
     "execution_count": 36,
     "metadata": {},
     "output_type": "execute_result"
    }
   ],
   "source": [
    "import scipy\n",
    "distances = scipy.spatial.distance.cdist([query_embedding], database_embeddings, \"cosine\")[0]\n",
    "distances"
   ]
  },
  {
   "cell_type": "markdown",
   "id": "c9abe047-1350-4bfa-9a58-24ad7f4c5f05",
   "metadata": {},
   "source": [
    "### Sentence Transformers Search Engine:"
   ]
  },
  {
   "cell_type": "code",
   "execution_count": 95,
   "id": "790e0e6c-2c8d-41e2-88ab-f5f6223fd59d",
   "metadata": {},
   "outputs": [],
   "source": [
    "from sentence_transformers import SentenceTransformer, util\n",
    "model = SentenceTransformer('msmarco-distilbert-base-v4')"
   ]
  },
  {
   "cell_type": "code",
   "execution_count": 96,
   "id": "4f88880a-99d5-451a-8ead-2373dd487928",
   "metadata": {},
   "outputs": [],
   "source": [
    "# database = df[\"abstract\"].sample(30).values\n",
    "database = df[\"abstract\"].values"
   ]
  },
  {
   "cell_type": "code",
   "execution_count": 97,
   "id": "0d1256dd-b409-4c71-8ca1-77546e73cca3",
   "metadata": {},
   "outputs": [],
   "source": [
    "database_embeddings = model.encode(database)"
   ]
  },
  {
   "cell_type": "code",
   "execution_count": 109,
   "id": "b060bbf2-5683-4125-bdfd-7d75e9b745d1",
   "metadata": {},
   "outputs": [
    {
     "name": "stdout",
     "output_type": "stream",
     "text": [
      "####################################################################################################\n",
      "#### What is known about the removal of harmful cyanobacteria? ####\n",
      "####################################################################################################\n",
      "#### Score: 0.5726\n",
      "#### Title:  Simultaneous removal of colonial Microcystis and microcystins by protozoa grazing coupled with ultrasound treatment.\n",
      "#### Abstract:  Removal of harmful cyanobacteria is an extremely urgent task in global lake management and protection. Conventional measures are insufficient for simultaneously removing cyanobacteria and hazardous cyanotoxin, efficient and environmental-friendly measures are therefore particularly needed. Herbivorous protozoa have great potentials in controlling algae, however, large-sized colonial Microcystis is inedible for protozoa, which is a central problem to be solved. Therefore, in present study, a measure of protozoa grazing assisted by ultrasound was investigated in laboratory scale for eliminating harmful colonial Microcystis. The results showed that with ultrasound power and time increasing, the proportion of unicellular Microcystis increased significantly. With Ochromonas addition, approximately 80% of colonial Microcystis and microcystin was removed on day 4 under ultrasound power of 100 W for 15 min, while Ochromonas only reduced Microcystis by less than 20% without assistance of ultrasound. Moreover, when directly exposed to low-intensity ultrasound, Ochromonas showed strong resistance to ultrasound and were not inhibited in grazing Microcystis. Overall, ultrasound increases edible food for protozoa via collapsing Microcystis colonies and assists Ochromonas to remove Microcystis, thus intermittently collapsing colonial Microcystis using low-intensity ultrasound can significantly improve the removal efficiency of Microcystis by protozoa grazing, which provided a new insight in controlling harmful colonial Microcystis.\n",
      "#################################\n",
      "#### Score: 0.5687\n",
      "#### Title:  Monitoring Cyanobacterial Blooms during the COVID-19 Pandemic in Campania, Italy: The Case of Lake Avernus.\n",
      "#### Abstract:  Cyanobacteria are ubiquitous photosynthetic microorganisms considered as important contributors to the formation of Earth's atmosphere and to the process of nitrogen fixation. However, they are also frequently associated with toxic blooms, named cyanobacterial harmful algal blooms (cyanoHABs). This paper reports on an unusual out-of-season cyanoHAB and its dynamics during the COVID-19 pandemic, in Lake Avernus, South Italy. Fast detection strategy (FDS) was used to assess this phenomenon, through the integration of satellite imagery and biomolecular investigation of the environmental samples. Data obtained unveiled a widespread \n",
      "#################################\n",
      "#### Score: 0.4876\n",
      "#### Title:  High-rate nitrogen removal in a continuous biofilter anammox reactor for treating low-concentration nitrogen wastewater at moderate temperature.\n",
      "#### Abstract:  The high-rate nitrogen removal in a continuous biofilter anammox reactor (CBAR) was investigated to treat low-concentration nitrogen wastewater. Shortening hydraulic retention time (HRT) gradually could restart CBAR and accumulate anammox bacteria effectively in the reactor, where the carmine anammox granular sludge and biofilm were coexisted well. It spent 21 days to restart CBAR completely after it had been idle for 116 days. Meanwhile, the total nitrogen removal rate remained stable at 86.42% accompanied with a total biomass concentration of 26.02 g-SS/L in 0 ~ 20 cm zone under nitrogen loading rate of 4.25 ± 0.10 kg-N/(m\n",
      "#################################\n",
      "#### Score: 0.4738\n",
      "#### Title:  Remediation Strategies to Control Toxic Cyanobacterial Blooms: Effects of Macrophyte Aqueous Extracts on \n",
      "#### Abstract:  Increasing toxic cyanobacterial blooms in freshwater demand environmentally friendly solutions to control their growth and toxicity, especially in arid countries, where most drinking water is produced from surface reservoirs. We tested the effects of macrophyte allelochemicals on \n",
      "#################################\n",
      "#### Score: 0.4721\n",
      "#### Title:  Cyanobacteria, cyanotoxins, and their histopathological effects on fish tissues in Fehérvárcsurgó reservoir, Hungary.\n",
      "#### Abstract:  Cyanobacteria are important members of lake plankton, but they have the ability to form blooms and produce cyanotoxins and thus cause a number of adverse effects. Freshwater ecosystems around the world have been investigated for the distribution of cyanobacteria and their toxins and the effects they have on the ecosystems. Similar research was performed on the Fehérvárcsurgó reservoir in Hungary during 2018. Cyanobacteria were present and blooming, and the highest abundance was recorded in July (2,822,000 cells/mL). The species present were Aphanizomenon flos-aquae, Microcystis flos-aquae, Microcystis wesenbergii, Cuspidothrix issatschenkoi, Dolichospermum flos-aquae, and Snowella litoralis. In July and September, the microcystin encoding gene mcyE and the saxitoxin encoding gene sxtG were amplified in the biomass samples. While a low concentration of microcystin-RR was found in one water sample from July, analyses of Abramis brama and Carassius gibelio caught from the reservoir did not show the presence of the investigated microcystins in the fish tissue. However, several histopathological changes, predominantly in gills and kidneys, were observed in the fish, and the damage was more severe during May and especially July, which coincides with the increase in cyanobacterial biomass during the summer months. Cyanobacteria may thus have adverse effects in this ecosystem.\n",
      "#################################\n"
     ]
    }
   ],
   "source": [
    "def askQuestion(query, top_k):\n",
    "    print(f\"####################################################################################################\")\n",
    "    print(f\"#### {query} ####\")\n",
    "    print(f\"####################################################################################################\")\n",
    "    query_embedding = model.encode(query, convert_to_tensor=True)\n",
    "    cos_scores = util.pytorch_cos_sim(query_embedding, database_embeddings)[0]\n",
    "    top_results = torch.topk(cos_scores, k=top_k)\n",
    "    \n",
    "    for score, idx in zip(top_results[0], top_results[1]):\n",
    "#         print(\"IDX: \", idx)\n",
    "        print(\"#### Score: {:.4f}\".format(score))\n",
    "        print(\"#### Title: \", df.loc[float(idx)].title)\n",
    "        print(\"#### Abstract: \", df.loc[float(idx)].abstract)\n",
    "        print(\"#################################\")\n",
    "        \n",
    "query = 'What is known about the removal of harmful cyanobacteria?'\n",
    "\n",
    "askQuestion(query, 5)"
   ]
  },
  {
   "cell_type": "code",
   "execution_count": null,
   "id": "12d50fd0-f1d5-44a4-a767-202b88de2402",
   "metadata": {},
   "outputs": [],
   "source": []
  }
 ],
 "metadata": {
  "kernelspec": {
   "display_name": "Python 3",
   "language": "python",
   "name": "python3"
  },
  "language_info": {
   "codemirror_mode": {
    "name": "ipython",
    "version": 3
   },
   "file_extension": ".py",
   "mimetype": "text/x-python",
   "name": "python",
   "nbconvert_exporter": "python",
   "pygments_lexer": "ipython3",
   "version": "3.8.5"
  }
 },
 "nbformat": 4,
 "nbformat_minor": 5
}
