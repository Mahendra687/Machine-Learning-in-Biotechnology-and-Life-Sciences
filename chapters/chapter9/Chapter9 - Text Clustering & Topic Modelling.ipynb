{
 "cells": [
  {
   "cell_type": "markdown",
   "metadata": {},
   "source": [
    "### Chapter9 - Text Clustering & Topic Modelling"
   ]
  },
  {
   "cell_type": "markdown",
   "metadata": {},
   "source": [
    "### Import Libs:"
   ]
  },
  {
   "cell_type": "code",
   "execution_count": 329,
   "metadata": {},
   "outputs": [
    {
     "name": "stderr",
     "output_type": "stream",
     "text": [
      "[nltk_data] Downloading package punkt to C:\\Users\\Saleh\n",
      "[nltk_data]     Alkhalifa\\AppData\\Roaming\\nltk_data...\n",
      "[nltk_data]   Package punkt is already up-to-date!\n",
      "[nltk_data] Downloading package stopwords to C:\\Users\\Saleh\n",
      "[nltk_data]     Alkhalifa\\AppData\\Roaming\\nltk_data...\n",
      "[nltk_data]   Package stopwords is already up-to-date!\n"
     ]
    }
   ],
   "source": [
    "import pandas as pd\n",
    "import numpy as np\n",
    "import re\n",
    "\n",
    "import nltk\n",
    "from nltk.corpus import stopwords\n",
    "from nltk.tokenize import word_tokenize\n",
    "nltk.download('punkt')\n",
    "nltk.download('stopwords')\n",
    "STOP_WORDS = stopwords.words()\n",
    "\n",
    "from pymed import PubMed\n",
    "pubmed = PubMed()\n",
    "\n",
    "import matplotlib.pyplot as plt\n",
    "import seaborn as sns\n",
    "sns.set_style(\"darkgrid\")\n"
   ]
  },
  {
   "cell_type": "markdown",
   "metadata": {},
   "source": [
    "### Generate Data:"
   ]
  },
  {
   "cell_type": "code",
   "execution_count": 4,
   "metadata": {},
   "outputs": [],
   "source": [
    "def dataset_generator(query, num_results, ):\n",
    "    results = pubmed.query(query, max_results=num_results)\n",
    "    articleList = []\n",
    "    for article in results:\n",
    "        articleDict = article.toDict()\n",
    "        articleList.append(articleDict)\n",
    "    print(f\"Found {len(articleList)} results for the query '{query}'.\")\n",
    "    return pd.DataFrame(articleList)"
   ]
  },
  {
   "cell_type": "code",
   "execution_count": 462,
   "metadata": {},
   "outputs": [
    {
     "name": "stdout",
     "output_type": "stream",
     "text": [
      "Found 600 results for the query 'monoclonal antibodies'.\n",
      "Found 600 results for the query 'machine learning'.\n",
      "Found 600 results for the query 'covid-19'.\n",
      "Found 600 results for the query 'particle physics'.\n"
     ]
    }
   ],
   "source": [
    "df1 = dataset_generator(\"monoclonal antibodies\", 600)\n",
    "df2 = dataset_generator(\"machine learning\", 600)\n",
    "df3 = dataset_generator(\"covid-19\", 600)\n",
    "df4 = dataset_generator(\"particle physics\", 600)\n",
    "\n",
    "df = pd.concat([df1, df2, df3, df4])"
   ]
  },
  {
   "cell_type": "code",
   "execution_count": 463,
   "metadata": {},
   "outputs": [
    {
     "data": {
      "text/html": [
       "<div>\n",
       "<style scoped>\n",
       "    .dataframe tbody tr th:only-of-type {\n",
       "        vertical-align: middle;\n",
       "    }\n",
       "\n",
       "    .dataframe tbody tr th {\n",
       "        vertical-align: top;\n",
       "    }\n",
       "\n",
       "    .dataframe thead th {\n",
       "        text-align: right;\n",
       "    }\n",
       "</style>\n",
       "<table border=\"1\" class=\"dataframe\">\n",
       "  <thead>\n",
       "    <tr style=\"text-align: right;\">\n",
       "      <th></th>\n",
       "      <th>pubmed_id</th>\n",
       "      <th>title</th>\n",
       "      <th>abstract</th>\n",
       "      <th>keywords</th>\n",
       "      <th>journal</th>\n",
       "      <th>publication_date</th>\n",
       "      <th>authors</th>\n",
       "      <th>methods</th>\n",
       "      <th>conclusions</th>\n",
       "      <th>results</th>\n",
       "      <th>copyrights</th>\n",
       "      <th>doi</th>\n",
       "      <th>xml</th>\n",
       "      <th>isbn</th>\n",
       "      <th>language</th>\n",
       "      <th>publication_type</th>\n",
       "      <th>sections</th>\n",
       "      <th>publisher</th>\n",
       "      <th>publisher_location</th>\n",
       "    </tr>\n",
       "  </thead>\n",
       "  <tbody>\n",
       "    <tr>\n",
       "      <th>0</th>\n",
       "      <td>34454001</td>\n",
       "      <td>Development of a chemiluminescence immunoassay...</td>\n",
       "      <td>The outbreak of African swine fever (ASF) has ...</td>\n",
       "      <td>[African swine fever virus, chemiluminescence ...</td>\n",
       "      <td>Journal of virological methods</td>\n",
       "      <td>2021-08-29</td>\n",
       "      <td>[{'lastname': 'Yang', 'firstname': 'Yong', 'in...</td>\n",
       "      <td>NaN</td>\n",
       "      <td>None</td>\n",
       "      <td>None</td>\n",
       "      <td>Copyright © 2021. Published by Elsevier B.V.</td>\n",
       "      <td>10.1016/j.jviromet.2021.114269</td>\n",
       "      <td>[[[], [&lt;Element 'Year' at 0x000002AF20F024A0&gt;,...</td>\n",
       "      <td>NaN</td>\n",
       "      <td>NaN</td>\n",
       "      <td>NaN</td>\n",
       "      <td>NaN</td>\n",
       "      <td>NaN</td>\n",
       "      <td>NaN</td>\n",
       "    </tr>\n",
       "    <tr>\n",
       "      <th>1</th>\n",
       "      <td>34453941</td>\n",
       "      <td>Mesenchymal stem cells in SARS-CoV-2 infection...</td>\n",
       "      <td>COVID-19 is a serious viral infection that str...</td>\n",
       "      <td>[Antiviral, COVID-19, Clinical trial, Mesenchy...</td>\n",
       "      <td>Life sciences</td>\n",
       "      <td>2021-08-29</td>\n",
       "      <td>[{'lastname': 'Pal', 'firstname': 'Deeksha', '...</td>\n",
       "      <td>NaN</td>\n",
       "      <td>None</td>\n",
       "      <td>None</td>\n",
       "      <td>Copyright © 2018. Published by Elsevier Inc.</td>\n",
       "      <td>10.1016/j.lfs.2021.119901</td>\n",
       "      <td>[[[], [&lt;Element 'Year' at 0x000002AF20FDFB30&gt;,...</td>\n",
       "      <td>NaN</td>\n",
       "      <td>NaN</td>\n",
       "      <td>NaN</td>\n",
       "      <td>NaN</td>\n",
       "      <td>NaN</td>\n",
       "      <td>NaN</td>\n",
       "    </tr>\n",
       "    <tr>\n",
       "      <th>2</th>\n",
       "      <td>34453188\\n33592716\\n33275408\\n28813601\\n333060...</td>\n",
       "      <td>Peroxidase-mimicking nanozyme with surface-dis...</td>\n",
       "      <td>Platinum-containing nanozymes with peroxidase-...</td>\n",
       "      <td>[Cardiac markers, Core@shell nanoparticles, Ga...</td>\n",
       "      <td>Mikrochimica acta</td>\n",
       "      <td>2021-08-29</td>\n",
       "      <td>[{'lastname': 'Panferov', 'firstname': 'Vasily...</td>\n",
       "      <td>NaN</td>\n",
       "      <td>None</td>\n",
       "      <td>None</td>\n",
       "      <td>© 2021. The Author(s), under exclusive licence...</td>\n",
       "      <td>10.1007/s00604-021-04968-x\\n10.1016/j.snb.2018...</td>\n",
       "      <td>[[[], [&lt;Element 'Year' at 0x000002AF20FE27C0&gt;,...</td>\n",
       "      <td>NaN</td>\n",
       "      <td>NaN</td>\n",
       "      <td>NaN</td>\n",
       "      <td>NaN</td>\n",
       "      <td>NaN</td>\n",
       "      <td>NaN</td>\n",
       "    </tr>\n",
       "    <tr>\n",
       "      <th>3</th>\n",
       "      <td>34452926</td>\n",
       "      <td>Simultaneous engagement of tumor and stroma ta...</td>\n",
       "      <td>Metastatic castration resistant (mCRPC) prosta...</td>\n",
       "      <td>[]</td>\n",
       "      <td>Cancer immunology research</td>\n",
       "      <td>2021-08-29</td>\n",
       "      <td>[{'lastname': 'Hintz', 'firstname': 'Hallie M'...</td>\n",
       "      <td>NaN</td>\n",
       "      <td>None</td>\n",
       "      <td>None</td>\n",
       "      <td>Copyright ©2021, American Association for Canc...</td>\n",
       "      <td>10.1158/2326-6066.CIR-21-0178</td>\n",
       "      <td>[[[], [&lt;Element 'Year' at 0x000002AF20FEF310&gt;,...</td>\n",
       "      <td>NaN</td>\n",
       "      <td>NaN</td>\n",
       "      <td>NaN</td>\n",
       "      <td>NaN</td>\n",
       "      <td>NaN</td>\n",
       "      <td>NaN</td>\n",
       "    </tr>\n",
       "    <tr>\n",
       "      <th>4</th>\n",
       "      <td>34452912</td>\n",
       "      <td>No ordinary proteins: Adsorption and molecular...</td>\n",
       "      <td>The interaction of monoclonal antibodies (mAbs...</td>\n",
       "      <td>[]</td>\n",
       "      <td>Science advances</td>\n",
       "      <td>2021-08-29</td>\n",
       "      <td>[{'lastname': 'Kanthe', 'firstname': 'Ankit', ...</td>\n",
       "      <td>NaN</td>\n",
       "      <td>None</td>\n",
       "      <td>None</td>\n",
       "      <td>Copyright © 2021 The Authors, some rights rese...</td>\n",
       "      <td>10.1126/sciadv.abg2873</td>\n",
       "      <td>[[[], [&lt;Element 'Year' at 0x000002AF20FE5E00&gt;,...</td>\n",
       "      <td>NaN</td>\n",
       "      <td>NaN</td>\n",
       "      <td>NaN</td>\n",
       "      <td>NaN</td>\n",
       "      <td>NaN</td>\n",
       "      <td>NaN</td>\n",
       "    </tr>\n",
       "  </tbody>\n",
       "</table>\n",
       "</div>"
      ],
      "text/plain": [
       "                                           pubmed_id  \\\n",
       "0                                           34454001   \n",
       "1                                           34453941   \n",
       "2  34453188\\n33592716\\n33275408\\n28813601\\n333060...   \n",
       "3                                           34452926   \n",
       "4                                           34452912   \n",
       "\n",
       "                                               title  \\\n",
       "0  Development of a chemiluminescence immunoassay...   \n",
       "1  Mesenchymal stem cells in SARS-CoV-2 infection...   \n",
       "2  Peroxidase-mimicking nanozyme with surface-dis...   \n",
       "3  Simultaneous engagement of tumor and stroma ta...   \n",
       "4  No ordinary proteins: Adsorption and molecular...   \n",
       "\n",
       "                                            abstract  \\\n",
       "0  The outbreak of African swine fever (ASF) has ...   \n",
       "1  COVID-19 is a serious viral infection that str...   \n",
       "2  Platinum-containing nanozymes with peroxidase-...   \n",
       "3  Metastatic castration resistant (mCRPC) prosta...   \n",
       "4  The interaction of monoclonal antibodies (mAbs...   \n",
       "\n",
       "                                            keywords  \\\n",
       "0  [African swine fever virus, chemiluminescence ...   \n",
       "1  [Antiviral, COVID-19, Clinical trial, Mesenchy...   \n",
       "2  [Cardiac markers, Core@shell nanoparticles, Ga...   \n",
       "3                                                 []   \n",
       "4                                                 []   \n",
       "\n",
       "                          journal publication_date  \\\n",
       "0  Journal of virological methods       2021-08-29   \n",
       "1                   Life sciences       2021-08-29   \n",
       "2               Mikrochimica acta       2021-08-29   \n",
       "3      Cancer immunology research       2021-08-29   \n",
       "4                Science advances       2021-08-29   \n",
       "\n",
       "                                             authors methods conclusions  \\\n",
       "0  [{'lastname': 'Yang', 'firstname': 'Yong', 'in...     NaN        None   \n",
       "1  [{'lastname': 'Pal', 'firstname': 'Deeksha', '...     NaN        None   \n",
       "2  [{'lastname': 'Panferov', 'firstname': 'Vasily...     NaN        None   \n",
       "3  [{'lastname': 'Hintz', 'firstname': 'Hallie M'...     NaN        None   \n",
       "4  [{'lastname': 'Kanthe', 'firstname': 'Ankit', ...     NaN        None   \n",
       "\n",
       "  results                                         copyrights  \\\n",
       "0    None       Copyright © 2021. Published by Elsevier B.V.   \n",
       "1    None       Copyright © 2018. Published by Elsevier Inc.   \n",
       "2    None  © 2021. The Author(s), under exclusive licence...   \n",
       "3    None  Copyright ©2021, American Association for Canc...   \n",
       "4    None  Copyright © 2021 The Authors, some rights rese...   \n",
       "\n",
       "                                                 doi  \\\n",
       "0                     10.1016/j.jviromet.2021.114269   \n",
       "1                          10.1016/j.lfs.2021.119901   \n",
       "2  10.1007/s00604-021-04968-x\\n10.1016/j.snb.2018...   \n",
       "3                      10.1158/2326-6066.CIR-21-0178   \n",
       "4                             10.1126/sciadv.abg2873   \n",
       "\n",
       "                                                 xml  isbn language  \\\n",
       "0  [[[], [<Element 'Year' at 0x000002AF20F024A0>,...   NaN      NaN   \n",
       "1  [[[], [<Element 'Year' at 0x000002AF20FDFB30>,...   NaN      NaN   \n",
       "2  [[[], [<Element 'Year' at 0x000002AF20FE27C0>,...   NaN      NaN   \n",
       "3  [[[], [<Element 'Year' at 0x000002AF20FEF310>,...   NaN      NaN   \n",
       "4  [[[], [<Element 'Year' at 0x000002AF20FE5E00>,...   NaN      NaN   \n",
       "\n",
       "  publication_type sections publisher publisher_location  \n",
       "0              NaN      NaN       NaN                NaN  \n",
       "1              NaN      NaN       NaN                NaN  \n",
       "2              NaN      NaN       NaN                NaN  \n",
       "3              NaN      NaN       NaN                NaN  \n",
       "4              NaN      NaN       NaN                NaN  "
      ]
     },
     "execution_count": 463,
     "metadata": {},
     "output_type": "execute_result"
    }
   ],
   "source": [
    "df.head()"
   ]
  },
  {
   "cell_type": "code",
   "execution_count": 464,
   "metadata": {},
   "outputs": [
    {
     "data": {
      "text/html": [
       "<div>\n",
       "<style scoped>\n",
       "    .dataframe tbody tr th:only-of-type {\n",
       "        vertical-align: middle;\n",
       "    }\n",
       "\n",
       "    .dataframe tbody tr th {\n",
       "        vertical-align: top;\n",
       "    }\n",
       "\n",
       "    .dataframe thead th {\n",
       "        text-align: right;\n",
       "    }\n",
       "</style>\n",
       "<table border=\"1\" class=\"dataframe\">\n",
       "  <thead>\n",
       "    <tr style=\"text-align: right;\">\n",
       "      <th></th>\n",
       "      <th>title</th>\n",
       "      <th>abstract</th>\n",
       "    </tr>\n",
       "  </thead>\n",
       "  <tbody>\n",
       "    <tr>\n",
       "      <th>0</th>\n",
       "      <td>Development of a chemiluminescence immunoassay...</td>\n",
       "      <td>The outbreak of African swine fever (ASF) has ...</td>\n",
       "    </tr>\n",
       "    <tr>\n",
       "      <th>1</th>\n",
       "      <td>Mesenchymal stem cells in SARS-CoV-2 infection...</td>\n",
       "      <td>COVID-19 is a serious viral infection that str...</td>\n",
       "    </tr>\n",
       "    <tr>\n",
       "      <th>2</th>\n",
       "      <td>Peroxidase-mimicking nanozyme with surface-dis...</td>\n",
       "      <td>Platinum-containing nanozymes with peroxidase-...</td>\n",
       "    </tr>\n",
       "    <tr>\n",
       "      <th>3</th>\n",
       "      <td>Simultaneous engagement of tumor and stroma ta...</td>\n",
       "      <td>Metastatic castration resistant (mCRPC) prosta...</td>\n",
       "    </tr>\n",
       "    <tr>\n",
       "      <th>4</th>\n",
       "      <td>No ordinary proteins: Adsorption and molecular...</td>\n",
       "      <td>The interaction of monoclonal antibodies (mAbs...</td>\n",
       "    </tr>\n",
       "  </tbody>\n",
       "</table>\n",
       "</div>"
      ],
      "text/plain": [
       "                                               title  \\\n",
       "0  Development of a chemiluminescence immunoassay...   \n",
       "1  Mesenchymal stem cells in SARS-CoV-2 infection...   \n",
       "2  Peroxidase-mimicking nanozyme with surface-dis...   \n",
       "3  Simultaneous engagement of tumor and stroma ta...   \n",
       "4  No ordinary proteins: Adsorption and molecular...   \n",
       "\n",
       "                                            abstract  \n",
       "0  The outbreak of African swine fever (ASF) has ...  \n",
       "1  COVID-19 is a serious viral infection that str...  \n",
       "2  Platinum-containing nanozymes with peroxidase-...  \n",
       "3  Metastatic castration resistant (mCRPC) prosta...  \n",
       "4  The interaction of monoclonal antibodies (mAbs...  "
      ]
     },
     "execution_count": 464,
     "metadata": {},
     "output_type": "execute_result"
    }
   ],
   "source": [
    "df = df[[\"title\", \"abstract\"]]\n",
    "df.head()"
   ]
  },
  {
   "cell_type": "code",
   "execution_count": 465,
   "metadata": {},
   "outputs": [
    {
     "name": "stdout",
     "output_type": "stream",
     "text": [
      "(2263, 3)\n"
     ]
    },
    {
     "data": {
      "text/html": [
       "<div>\n",
       "<style scoped>\n",
       "    .dataframe tbody tr th:only-of-type {\n",
       "        vertical-align: middle;\n",
       "    }\n",
       "\n",
       "    .dataframe tbody tr th {\n",
       "        vertical-align: top;\n",
       "    }\n",
       "\n",
       "    .dataframe thead th {\n",
       "        text-align: right;\n",
       "    }\n",
       "</style>\n",
       "<table border=\"1\" class=\"dataframe\">\n",
       "  <thead>\n",
       "    <tr style=\"text-align: right;\">\n",
       "      <th></th>\n",
       "      <th>title</th>\n",
       "      <th>abstract</th>\n",
       "      <th>text</th>\n",
       "    </tr>\n",
       "  </thead>\n",
       "  <tbody>\n",
       "    <tr>\n",
       "      <th>0</th>\n",
       "      <td>Development of a chemiluminescence immunoassay...</td>\n",
       "      <td>The outbreak of African swine fever (ASF) has ...</td>\n",
       "      <td>Development of a chemiluminescence immunoassay...</td>\n",
       "    </tr>\n",
       "    <tr>\n",
       "      <th>1</th>\n",
       "      <td>Mesenchymal stem cells in SARS-CoV-2 infection...</td>\n",
       "      <td>COVID-19 is a serious viral infection that str...</td>\n",
       "      <td>Mesenchymal stem cells in SARS-CoV-2 infection...</td>\n",
       "    </tr>\n",
       "    <tr>\n",
       "      <th>2</th>\n",
       "      <td>Peroxidase-mimicking nanozyme with surface-dis...</td>\n",
       "      <td>Platinum-containing nanozymes with peroxidase-...</td>\n",
       "      <td>Peroxidase-mimicking nanozyme with surface-dis...</td>\n",
       "    </tr>\n",
       "    <tr>\n",
       "      <th>3</th>\n",
       "      <td>Simultaneous engagement of tumor and stroma ta...</td>\n",
       "      <td>Metastatic castration resistant (mCRPC) prosta...</td>\n",
       "      <td>Simultaneous engagement of tumor and stroma ta...</td>\n",
       "    </tr>\n",
       "    <tr>\n",
       "      <th>4</th>\n",
       "      <td>No ordinary proteins: Adsorption and molecular...</td>\n",
       "      <td>The interaction of monoclonal antibodies (mAbs...</td>\n",
       "      <td>No ordinary proteins: Adsorption and molecular...</td>\n",
       "    </tr>\n",
       "  </tbody>\n",
       "</table>\n",
       "</div>"
      ],
      "text/plain": [
       "                                               title  \\\n",
       "0  Development of a chemiluminescence immunoassay...   \n",
       "1  Mesenchymal stem cells in SARS-CoV-2 infection...   \n",
       "2  Peroxidase-mimicking nanozyme with surface-dis...   \n",
       "3  Simultaneous engagement of tumor and stroma ta...   \n",
       "4  No ordinary proteins: Adsorption and molecular...   \n",
       "\n",
       "                                            abstract  \\\n",
       "0  The outbreak of African swine fever (ASF) has ...   \n",
       "1  COVID-19 is a serious viral infection that str...   \n",
       "2  Platinum-containing nanozymes with peroxidase-...   \n",
       "3  Metastatic castration resistant (mCRPC) prosta...   \n",
       "4  The interaction of monoclonal antibodies (mAbs...   \n",
       "\n",
       "                                                text  \n",
       "0  Development of a chemiluminescence immunoassay...  \n",
       "1  Mesenchymal stem cells in SARS-CoV-2 infection...  \n",
       "2  Peroxidase-mimicking nanozyme with surface-dis...  \n",
       "3  Simultaneous engagement of tumor and stroma ta...  \n",
       "4  No ordinary proteins: Adsorption and molecular...  "
      ]
     },
     "execution_count": 465,
     "metadata": {},
     "output_type": "execute_result"
    }
   ],
   "source": [
    "df[\"text\"] = df[\"title\"] + \" \" + df[\"abstract\"]\n",
    "df = df.dropna()\n",
    "print(df.shape)\n",
    "df.head()"
   ]
  },
  {
   "cell_type": "code",
   "execution_count": 466,
   "metadata": {},
   "outputs": [
    {
     "data": {
      "text/plain": [
       "1354.4339372514362"
      ]
     },
     "execution_count": 466,
     "metadata": {},
     "output_type": "execute_result"
    }
   ],
   "source": [
    "df.text.str.len().mean()"
   ]
  },
  {
   "cell_type": "code",
   "execution_count": 467,
   "metadata": {},
   "outputs": [
    {
     "data": {
      "text/plain": [
       "190.8965974370305"
      ]
     },
     "execution_count": 467,
     "metadata": {},
     "output_type": "execute_result"
    }
   ],
   "source": [
    "df.text.str.split(\" \").apply(len).mean()"
   ]
  },
  {
   "cell_type": "code",
   "execution_count": 468,
   "metadata": {},
   "outputs": [],
   "source": [
    "def cleaner(text):\n",
    "    if type(text) == str:\n",
    "        text = text.lower()\n",
    "        text = re.sub(\"[^a-zA-Z]+\", ' ', text)\n",
    "        text_tokens = word_tokenize(text)\n",
    "        tokens_without_sw = [word for word in text_tokens if not word in STOP_WORDS]\n",
    "        filtered_sentence = (\" \").join(tokens_without_sw)\n",
    "        return filtered_sentence"
   ]
  },
  {
   "cell_type": "code",
   "execution_count": 469,
   "metadata": {},
   "outputs": [],
   "source": [
    "df[\"text\"] = df[\"text\"].apply(lambda x: cleaner(x))"
   ]
  },
  {
   "cell_type": "code",
   "execution_count": 470,
   "metadata": {},
   "outputs": [
    {
     "data": {
      "text/plain": [
       "123.78789217852409"
      ]
     },
     "execution_count": 470,
     "metadata": {},
     "output_type": "execute_result"
    }
   ],
   "source": [
    "df.text.str.split(\" \").apply(len).mean()"
   ]
  },
  {
   "cell_type": "markdown",
   "metadata": {},
   "source": [
    "### Extract Features & Cluster"
   ]
  },
  {
   "cell_type": "code",
   "execution_count": 471,
   "metadata": {},
   "outputs": [],
   "source": [
    "from sklearn.cluster import MiniBatchKMeans\n",
    "from sklearn.feature_extraction.text import TfidfVectorizer\n",
    "from sklearn.decomposition import PCA\n",
    "import matplotlib.pyplot as plt"
   ]
  },
  {
   "cell_type": "code",
   "execution_count": 552,
   "metadata": {},
   "outputs": [
    {
     "data": {
      "text/plain": [
       "<2263x5500 sparse matrix of type '<class 'numpy.float64'>'\n",
       "\twith 155046 stored elements in Compressed Sparse Row format>"
      ]
     },
     "execution_count": 552,
     "metadata": {},
     "output_type": "execute_result"
    }
   ],
   "source": [
    "vectors = TfidfVectorizer(stop_words=\"english\", max_features=5500)\n",
    "vectors.fit(df.text.values)\n",
    "features = vectors.transform(df.text.values)\n",
    "features"
   ]
  },
  {
   "cell_type": "code",
   "execution_count": 553,
   "metadata": {},
   "outputs": [
    {
     "data": {
      "text/plain": [
       "(2263, 5500)"
      ]
     },
     "execution_count": 553,
     "metadata": {},
     "output_type": "execute_result"
    }
   ],
   "source": [
    "features.shape"
   ]
  },
  {
   "cell_type": "code",
   "execution_count": 554,
   "metadata": {},
   "outputs": [
    {
     "data": {
      "text/plain": [
       "MiniBatchKMeans(batch_size=100, compute_labels=True, init='k-means++',\n",
       "        init_size=None, max_iter=100, max_no_improvement=10, n_clusters=4,\n",
       "        n_init=3, random_state=None, reassignment_ratio=0.01, tol=0.0,\n",
       "        verbose=0)"
      ]
     },
     "execution_count": 554,
     "metadata": {},
     "output_type": "execute_result"
    }
   ],
   "source": [
    "cls = MiniBatchKMeans(n_clusters=4)\n",
    "cls.fit(features)"
   ]
  },
  {
   "cell_type": "code",
   "execution_count": 555,
   "metadata": {},
   "outputs": [],
   "source": [
    "df[\"cluster\"] = cls.predict(features)"
   ]
  },
  {
   "cell_type": "code",
   "execution_count": 556,
   "metadata": {},
   "outputs": [
    {
     "data": {
      "text/html": [
       "<div>\n",
       "<style scoped>\n",
       "    .dataframe tbody tr th:only-of-type {\n",
       "        vertical-align: middle;\n",
       "    }\n",
       "\n",
       "    .dataframe tbody tr th {\n",
       "        vertical-align: top;\n",
       "    }\n",
       "\n",
       "    .dataframe thead th {\n",
       "        text-align: right;\n",
       "    }\n",
       "</style>\n",
       "<table border=\"1\" class=\"dataframe\">\n",
       "  <thead>\n",
       "    <tr style=\"text-align: right;\">\n",
       "      <th></th>\n",
       "      <th>text</th>\n",
       "      <th>cluster</th>\n",
       "    </tr>\n",
       "  </thead>\n",
       "  <tbody>\n",
       "    <tr>\n",
       "      <th>0</th>\n",
       "      <td>development chemiluminescence immunoassay accu...</td>\n",
       "      <td>3</td>\n",
       "    </tr>\n",
       "    <tr>\n",
       "      <th>1</th>\n",
       "      <td>mesenchymal stem cells sars cov infection hype...</td>\n",
       "      <td>1</td>\n",
       "    </tr>\n",
       "    <tr>\n",
       "      <th>2</th>\n",
       "      <td>peroxidase mimicking nanozyme surface disperse...</td>\n",
       "      <td>2</td>\n",
       "    </tr>\n",
       "    <tr>\n",
       "      <th>3</th>\n",
       "      <td>simultaneous engagement tumor stroma targeting...</td>\n",
       "      <td>3</td>\n",
       "    </tr>\n",
       "    <tr>\n",
       "      <th>4</th>\n",
       "      <td>ordinary proteins adsorption molecular orienta...</td>\n",
       "      <td>2</td>\n",
       "    </tr>\n",
       "  </tbody>\n",
       "</table>\n",
       "</div>"
      ],
      "text/plain": [
       "                                                text  cluster\n",
       "0  development chemiluminescence immunoassay accu...        3\n",
       "1  mesenchymal stem cells sars cov infection hype...        1\n",
       "2  peroxidase mimicking nanozyme surface disperse...        2\n",
       "3  simultaneous engagement tumor stroma targeting...        3\n",
       "4  ordinary proteins adsorption molecular orienta...        2"
      ]
     },
     "execution_count": 556,
     "metadata": {},
     "output_type": "execute_result"
    }
   ],
   "source": [
    "df[[\"text\", \"cluster\"]].head()"
   ]
  },
  {
   "cell_type": "code",
   "execution_count": 557,
   "metadata": {},
   "outputs": [
    {
     "data": {
      "text/plain": [
       "(2263, 4)"
      ]
     },
     "execution_count": 557,
     "metadata": {},
     "output_type": "execute_result"
    }
   ],
   "source": [
    "df.shape"
   ]
  },
  {
   "cell_type": "code",
   "execution_count": 558,
   "metadata": {},
   "outputs": [],
   "source": [
    "pca = PCA(n_components=2)\n",
    "pca_features_2d = pca.fit_transform(features.toarray())\n",
    "\n",
    "pca_features_2d_centers = pca.transform(cls.cluster_centers_)"
   ]
  },
  {
   "cell_type": "code",
   "execution_count": 559,
   "metadata": {},
   "outputs": [
    {
     "data": {
      "text/plain": [
       "(2263, 2)"
      ]
     },
     "execution_count": 559,
     "metadata": {},
     "output_type": "execute_result"
    }
   ],
   "source": [
    "pca_features_2d.shape"
   ]
  },
  {
   "cell_type": "code",
   "execution_count": 560,
   "metadata": {},
   "outputs": [
    {
     "data": {
      "text/plain": [
       "(2263, 2)"
      ]
     },
     "execution_count": 560,
     "metadata": {},
     "output_type": "execute_result"
    }
   ],
   "source": [
    "pca_features_2d.shape"
   ]
  },
  {
   "cell_type": "code",
   "execution_count": 561,
   "metadata": {},
   "outputs": [],
   "source": [
    "df[\"pc1\"], df[\"pc2\"] = pca_features_2d[:,0], pca_features_2d[:,1]"
   ]
  },
  {
   "cell_type": "code",
   "execution_count": 562,
   "metadata": {},
   "outputs": [
    {
     "data": {
      "text/html": [
       "<div>\n",
       "<style scoped>\n",
       "    .dataframe tbody tr th:only-of-type {\n",
       "        vertical-align: middle;\n",
       "    }\n",
       "\n",
       "    .dataframe tbody tr th {\n",
       "        vertical-align: top;\n",
       "    }\n",
       "\n",
       "    .dataframe thead th {\n",
       "        text-align: right;\n",
       "    }\n",
       "</style>\n",
       "<table border=\"1\" class=\"dataframe\">\n",
       "  <thead>\n",
       "    <tr style=\"text-align: right;\">\n",
       "      <th></th>\n",
       "      <th>text</th>\n",
       "      <th>cluster</th>\n",
       "      <th>pc1</th>\n",
       "      <th>pc2</th>\n",
       "    </tr>\n",
       "  </thead>\n",
       "  <tbody>\n",
       "    <tr>\n",
       "      <th>0</th>\n",
       "      <td>development chemiluminescence immunoassay accu...</td>\n",
       "      <td>3</td>\n",
       "      <td>0.036873</td>\n",
       "      <td>-0.031256</td>\n",
       "    </tr>\n",
       "    <tr>\n",
       "      <th>1</th>\n",
       "      <td>mesenchymal stem cells sars cov infection hype...</td>\n",
       "      <td>1</td>\n",
       "      <td>0.145596</td>\n",
       "      <td>0.116410</td>\n",
       "    </tr>\n",
       "    <tr>\n",
       "      <th>2</th>\n",
       "      <td>peroxidase mimicking nanozyme surface disperse...</td>\n",
       "      <td>2</td>\n",
       "      <td>-0.073850</td>\n",
       "      <td>-0.091979</td>\n",
       "    </tr>\n",
       "    <tr>\n",
       "      <th>3</th>\n",
       "      <td>simultaneous engagement tumor stroma targeting...</td>\n",
       "      <td>3</td>\n",
       "      <td>0.009339</td>\n",
       "      <td>-0.085552</td>\n",
       "    </tr>\n",
       "    <tr>\n",
       "      <th>4</th>\n",
       "      <td>ordinary proteins adsorption molecular orienta...</td>\n",
       "      <td>2</td>\n",
       "      <td>-0.056036</td>\n",
       "      <td>-0.120671</td>\n",
       "    </tr>\n",
       "  </tbody>\n",
       "</table>\n",
       "</div>"
      ],
      "text/plain": [
       "                                                text  cluster       pc1  \\\n",
       "0  development chemiluminescence immunoassay accu...        3  0.036873   \n",
       "1  mesenchymal stem cells sars cov infection hype...        1  0.145596   \n",
       "2  peroxidase mimicking nanozyme surface disperse...        2 -0.073850   \n",
       "3  simultaneous engagement tumor stroma targeting...        3  0.009339   \n",
       "4  ordinary proteins adsorption molecular orienta...        2 -0.056036   \n",
       "\n",
       "        pc2  \n",
       "0 -0.031256  \n",
       "1  0.116410  \n",
       "2 -0.091979  \n",
       "3 -0.085552  \n",
       "4 -0.120671  "
      ]
     },
     "execution_count": 562,
     "metadata": {},
     "output_type": "execute_result"
    }
   ],
   "source": [
    "df[[\"text\", \"cluster\", \"pc1\", \"pc2\"]].head()"
   ]
  },
  {
   "cell_type": "code",
   "execution_count": 563,
   "metadata": {},
   "outputs": [],
   "source": [
    "import matplotlib\n",
    "\n",
    "cmap_min = 0.3\n",
    "cmap_max = 1.0\n",
    "n = 10\n",
    "cmap_orig = plt.cm.Blues\n",
    "colors = cmap_orig(np.linspace(cmap_min, cmap_max, n))\n",
    "new_cmap = matplotlib.colors.LinearSegmentedColormap.from_list(\"mycmap\", colors)"
   ]
  },
  {
   "cell_type": "code",
   "execution_count": 564,
   "metadata": {},
   "outputs": [
    {
     "data": {
      "text/plain": [
       "Text(0, 0.5, 'PC2')"
      ]
     },
     "execution_count": 564,
     "metadata": {},
     "output_type": "execute_result"
    },
    {
     "data": {
      "image/png": "[encoded data removed]",
      "text/plain": [
       "<Figure size 1080x576 with 1 Axes>"
      ]
     },
     "metadata": {},
     "output_type": "display_data"
    }
   ],
   "source": [
    "plt.figure(figsize=(15,8))\n",
    "plt.scatter(df[\"pc1\"], df[\"pc2\"], c=df[\"cluster\"], cmap=new_cmap)\n",
    "plt.scatter(pca_features_2d_centers[:, 0], pca_features_2d_centers[:,1], marker='*', s=500, c='r')\n",
    "plt.xlabel(\"PC1\", fontsize=20)\n",
    "plt.ylabel(\"PC2\", fontsize=20)"
   ]
  },
  {
   "cell_type": "code",
   "execution_count": 565,
   "metadata": {},
   "outputs": [],
   "source": [
    "df = df[[\"text\", \"cluster\", \"pc1\", \"pc2\"]]"
   ]
  },
  {
   "cell_type": "code",
   "execution_count": 566,
   "metadata": {},
   "outputs": [
    {
     "data": {
      "text/html": [
       "<div>\n",
       "<style scoped>\n",
       "    .dataframe tbody tr th:only-of-type {\n",
       "        vertical-align: middle;\n",
       "    }\n",
       "\n",
       "    .dataframe tbody tr th {\n",
       "        vertical-align: top;\n",
       "    }\n",
       "\n",
       "    .dataframe thead th {\n",
       "        text-align: right;\n",
       "    }\n",
       "</style>\n",
       "<table border=\"1\" class=\"dataframe\">\n",
       "  <thead>\n",
       "    <tr style=\"text-align: right;\">\n",
       "      <th></th>\n",
       "      <th>text</th>\n",
       "      <th>cluster</th>\n",
       "      <th>pc1</th>\n",
       "      <th>pc2</th>\n",
       "    </tr>\n",
       "  </thead>\n",
       "  <tbody>\n",
       "    <tr>\n",
       "      <th>0</th>\n",
       "      <td>development chemiluminescence immunoassay accu...</td>\n",
       "      <td>3</td>\n",
       "      <td>0.036873</td>\n",
       "      <td>-0.031256</td>\n",
       "    </tr>\n",
       "    <tr>\n",
       "      <th>1</th>\n",
       "      <td>mesenchymal stem cells sars cov infection hype...</td>\n",
       "      <td>1</td>\n",
       "      <td>0.145596</td>\n",
       "      <td>0.116410</td>\n",
       "    </tr>\n",
       "    <tr>\n",
       "      <th>2</th>\n",
       "      <td>peroxidase mimicking nanozyme surface disperse...</td>\n",
       "      <td>2</td>\n",
       "      <td>-0.073850</td>\n",
       "      <td>-0.091979</td>\n",
       "    </tr>\n",
       "    <tr>\n",
       "      <th>3</th>\n",
       "      <td>simultaneous engagement tumor stroma targeting...</td>\n",
       "      <td>3</td>\n",
       "      <td>0.009339</td>\n",
       "      <td>-0.085552</td>\n",
       "    </tr>\n",
       "    <tr>\n",
       "      <th>4</th>\n",
       "      <td>ordinary proteins adsorption molecular orienta...</td>\n",
       "      <td>2</td>\n",
       "      <td>-0.056036</td>\n",
       "      <td>-0.120671</td>\n",
       "    </tr>\n",
       "  </tbody>\n",
       "</table>\n",
       "</div>"
      ],
      "text/plain": [
       "                                                text  cluster       pc1  \\\n",
       "0  development chemiluminescence immunoassay accu...        3  0.036873   \n",
       "1  mesenchymal stem cells sars cov infection hype...        1  0.145596   \n",
       "2  peroxidase mimicking nanozyme surface disperse...        2 -0.073850   \n",
       "3  simultaneous engagement tumor stroma targeting...        3  0.009339   \n",
       "4  ordinary proteins adsorption molecular orienta...        2 -0.056036   \n",
       "\n",
       "        pc2  \n",
       "0 -0.031256  \n",
       "1  0.116410  \n",
       "2 -0.091979  \n",
       "3 -0.085552  \n",
       "4 -0.120671  "
      ]
     },
     "execution_count": 566,
     "metadata": {},
     "output_type": "execute_result"
    }
   ],
   "source": [
    "df.head()"
   ]
  },
  {
   "cell_type": "code",
   "execution_count": 574,
   "metadata": {},
   "outputs": [
    {
     "data": {
      "text/plain": [
       "10"
      ]
     },
     "execution_count": 574,
     "metadata": {},
     "output_type": "execute_result"
    }
   ],
   "source": [
    "n_topics = 10\n",
    "n_topics"
   ]
  },
  {
   "cell_type": "code",
   "execution_count": 575,
   "metadata": {},
   "outputs": [
    {
     "data": {
      "text/plain": [
       "NMF(alpha=0.0, beta_loss='frobenius', init=None, l1_ratio=0.0, max_iter=200,\n",
       "  n_components=10, random_state=None, shuffle=False, solver='cd',\n",
       "  tol=0.0001, verbose=0)"
      ]
     },
     "execution_count": 575,
     "metadata": {},
     "output_type": "execute_result"
    }
   ],
   "source": [
    "from sklearn.feature_extraction.text import CountVectorizer, TfidfVectorizer\n",
    "vectors = TfidfVectorizer(max_features=5500, stop_words=\"english\")\n",
    "nmf_features = vectors.fit_transform(df.text)\n",
    "\n",
    "from sklearn.decomposition import NMF\n",
    "cls = NMF(n_components=n_topics)\n",
    "cls.fit(features)"
   ]
  },
  {
   "cell_type": "code",
   "execution_count": 576,
   "metadata": {},
   "outputs": [
    {
     "data": {
      "text/plain": [
       "5500"
      ]
     },
     "execution_count": 576,
     "metadata": {},
     "output_type": "execute_result"
    }
   ],
   "source": [
    "feature_names = vectors.get_feature_names()\n",
    "len(feature_names)"
   ]
  },
  {
   "cell_type": "code",
   "execution_count": 577,
   "metadata": {},
   "outputs": [],
   "source": [
    "num_topic_words = 3"
   ]
  },
  {
   "cell_type": "code",
   "execution_count": 578,
   "metadata": {},
   "outputs": [
    {
     "name": "stdout",
     "output_type": "stream",
     "text": [
      "0 cov sars variants \n",
      "1 learning model machine \n",
      "2 covid disease coronavirus \n",
      "3 patients treatment treated \n",
      "4 particle particles energy \n",
      "5 antibodies antibody monoclonal \n",
      "6 vaccine vaccination vaccines \n",
      "7 cancer cells cell \n",
      "8 data review artificial \n",
      "9 pandemic covid health \n"
     ]
    }
   ],
   "source": [
    "for i, j in enumerate(cls.components_):\n",
    "    print(i, end=' ')\n",
    "    for k in j.argsort()[-1:-num_topic_words-1:-1]:\n",
    "        print(feature_names[k], end=' ')\n",
    "    print()"
   ]
  },
  {
   "cell_type": "code",
   "execution_count": null,
   "metadata": {},
   "outputs": [],
   "source": []
  },
  {
   "cell_type": "code",
   "execution_count": null,
   "metadata": {},
   "outputs": [],
   "source": []
  }
 ],
 "metadata": {
  "kernelspec": {
   "display_name": "Python 3",
   "language": "python",
   "name": "python3"
  },
  "language_info": {
   "codemirror_mode": {
    "name": "ipython",
    "version": 3
   },
   "file_extension": ".py",
   "mimetype": "text/x-python",
   "name": "python",
   "nbconvert_exporter": "python",
   "pygments_lexer": "ipython3",
   "version": "3.8.5"
  }
 },
 "nbformat": 4,
 "nbformat_minor": 4
}
