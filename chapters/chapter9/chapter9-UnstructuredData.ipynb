{
 "cells": [
  {
   "cell_type": "markdown",
   "metadata": {},
   "source": [
    "## Chapter 9 -- Working with Unstructured Data:"
   ]
  },
  {
   "cell_type": "code",
   "execution_count": 50,
   "metadata": {},
   "outputs": [],
   "source": [
    "import boto3\n",
    "import pandas as pd"
   ]
  },
  {
   "cell_type": "code",
   "execution_count": 1,
   "metadata": {},
   "outputs": [],
   "source": [
    "AWS_ACCESS_KEY_ID = \"add-access-key-here\"\n",
    "AWS_SECRET_ACCESS_KEY = \"add-secret-access-key-here\"\n",
    "AWS_REGION = \"us-east-2\""
   ]
  },
  {
   "cell_type": "markdown",
   "metadata": {},
   "source": [
    "#### Upload to S3"
   ]
  },
  {
   "cell_type": "code",
   "execution_count": 9,
   "metadata": {},
   "outputs": [],
   "source": [
    "def upload_file(file_name, bucket, object_name=None):\n",
    "    \"\"\"Upload a file to an S3 bucket\n",
    "\n",
    "    :param file_name: File to upload\n",
    "    :param bucket: Bucket to upload to\n",
    "    :param object_name: S3 object name. If not specified then file_name is used\n",
    "    :return: True if file was uploaded, else False\n",
    "    \"\"\"\n",
    "\n",
    "    # If S3 object_name was not specified, use file_name\n",
    "    if object_name is None:\n",
    "        object_name = os.path.basename(file_name)\n",
    "\n",
    "    # Upload the file\n",
    "    s3_client = boto3.client('s3')\n",
    "    try:\n",
    "        response = s3_client.upload_file(file_name, bucket, object_name)\n",
    "    except ClientError as e:\n",
    "        logging.error(e)\n",
    "        return False\n",
    "    return True"
   ]
  },
  {
   "cell_type": "code",
   "execution_count": 17,
   "metadata": {},
   "outputs": [],
   "source": [
    "s3_client = boto3.client('s3', aws_access_key_id=AWS_ACCESS_KEY_ID, aws_secret_access_key=AWS_SECRET_ACCESS_KEY, region_name=AWS_REGION)"
   ]
  },
  {
   "cell_type": "code",
   "execution_count": 18,
   "metadata": {},
   "outputs": [],
   "source": [
    "with open(\"Monoclonal Production Article.pdf\", \"rb\") as f:\n",
    "    s3_client.upload_fileobj(f, \"biotech-machine-learning\", \"pdfs/Monoclonal Production Article.pdf\")"
   ]
  },
  {
   "cell_type": "markdown",
   "metadata": {},
   "source": [
    "#### Textract:"
   ]
  },
  {
   "cell_type": "code",
   "execution_count": 19,
   "metadata": {},
   "outputs": [],
   "source": [
    "textract_client = boto3.client('textract', aws_access_key_id=AWS_ACCESS_KEY_ID, aws_secret_access_key=AWS_SECRET_ACCESS_KEY, region_name=AWS_REGION)"
   ]
  },
  {
   "cell_type": "code",
   "execution_count": 21,
   "metadata": {},
   "outputs": [],
   "source": [
    "response = textract_client.start_document_text_detection(\n",
    "                   DocumentLocation={'S3Object': {'Bucket': \"biotech-machine-learning\", 'Name': \"pdfs/Monoclonal Production Article.pdf\"} })"
   ]
  },
  {
   "cell_type": "code",
   "execution_count": 23,
   "metadata": {},
   "outputs": [
    {
     "data": {
      "text/plain": [
       "'2565768351e2c0d0cb7de81f19053889d1ae45c1d611ae2684b8744be75ad660'"
      ]
     },
     "execution_count": 23,
     "metadata": {},
     "output_type": "execute_result"
    }
   ],
   "source": [
    "response[\"JobId\"]"
   ]
  },
  {
   "cell_type": "code",
   "execution_count": 27,
   "metadata": {},
   "outputs": [],
   "source": [
    "results = textract_client.get_document_text_detection(JobId=response[\"JobId\"])"
   ]
  },
  {
   "cell_type": "code",
   "execution_count": 28,
   "metadata": {},
   "outputs": [
    {
     "name": "stdout",
     "output_type": "stream",
     "text": [
      "DocumentMetadata\n",
      "JobStatus\n",
      "NextToken\n",
      "Blocks\n",
      "DetectDocumentTextModelVersion\n",
      "ResponseMetadata\n"
     ]
    }
   ],
   "source": [
    "for i in results:\n",
    "    print(i)"
   ]
  },
  {
   "cell_type": "code",
   "execution_count": 33,
   "metadata": {},
   "outputs": [
    {
     "data": {
      "text/plain": [
       "{'Pages': 6}"
      ]
     },
     "execution_count": 33,
     "metadata": {},
     "output_type": "execute_result"
    }
   ],
   "source": [
    "results[\"DocumentMetadata\"]"
   ]
  },
  {
   "cell_type": "code",
   "execution_count": 35,
   "metadata": {},
   "outputs": [
    {
     "data": {
      "text/plain": [
       "{'BlockType': 'PAGE',\n",
       " 'Geometry': {'BoundingBox': {'Width': 1.0,\n",
       "   'Height': 1.0,\n",
       "   'Left': 0.0,\n",
       "   'Top': 0.0},\n",
       "  'Polygon': [{'X': 1.5849614334573464e-16, 'Y': 0.0},\n",
       "   {'X': 1.0, 'Y': 9.462437987838284e-17},\n",
       "   {'X': 1.0, 'Y': 1.0},\n",
       "   {'X': 0.0, 'Y': 1.0}]},\n",
       " 'Id': '172e7b67-8c6b-4e37-b2af-d5f79c19534f',\n",
       " 'Relationships': [{'Type': 'CHILD',\n",
       "   'Ids': ['e086999e-d1de-46b0-96ee-e575c1b44f47',\n",
       "    '36687f55-0b02-4249-adc2-fec24e49f199',\n",
       "    '1e36b342-ca48-4262-a19b-c87029f48a57',\n",
       "    '624b9509-403c-4d72-8e3d-0e6dbf3b8bae',\n",
       "    '37075da2-2d1d-4642-b3ea-c132795c84b5',\n",
       "    'e6a89790-bc3f-41a3-958f-59ccb6a325c3',\n",
       "    'db5353d3-0f3a-4b06-92ac-11f4e485934e',\n",
       "    'c89dd024-94ca-4df9-873f-b191d98bf566',\n",
       "    '63ff8019-fc1c-4924-afb0-d41474d0fd5d',\n",
       "    'ecb3f655-785a-4612-8bfb-2429225fa745',\n",
       "    '6031d96e-3312-4987-9c36-fc25054e2d65',\n",
       "    'a68c0549-ad3d-4e74-a9ef-1cc010ce5b5d',\n",
       "    'a8aba533-1da4-440b-ac2b-0227ccf97902',\n",
       "    'c2810da2-2522-4ca6-bc2b-5670cb3c6f76',\n",
       "    '79d5f700-e27d-4049-a59b-23b98252b973',\n",
       "    '1b269629-7cff-4332-8a4b-fa66b4e50995',\n",
       "    '3e93fb17-8cf4-4a24-bd3c-8c27e2e772b3',\n",
       "    '02a98d81-0433-486f-98f9-4c45ea222794',\n",
       "    '306f3865-7439-41b8-9b02-42589c5f184d',\n",
       "    'dbf2498a-4be5-4f14-9d9b-e8bc8ebf4419',\n",
       "    '30cfb7ea-c164-44ca-835b-e9eb032723ab',\n",
       "    '9aca26a5-88e8-44ad-b8b8-19653af6ac3f',\n",
       "    '68dc5c17-3ee3-454e-a16e-942c9c5dff5b',\n",
       "    '7071b36d-3f7d-4ac6-b04c-3dbc815c162f',\n",
       "    '423e1d56-3e3d-414d-aeb0-58e77fdaa58a',\n",
       "    'b32fd2af-106b-4d77-b7cd-8f48943c42a8',\n",
       "    '6c5da23f-5f88-4d01-a027-8a23cda30a17',\n",
       "    'f07d293d-4728-40d0-b0bd-188a99bcf3ab',\n",
       "    'e3bc9a7e-ebf6-4f43-9638-674e1bdf4f4c',\n",
       "    '72242bcf-7e60-4de8-9c1f-7bb494b87051',\n",
       "    '0aa43743-55fb-43b2-acd5-396f60230cae',\n",
       "    'a7899357-6045-419a-b0d1-74f1545cfbe4',\n",
       "    '272bb77b-808c-4bc3-aaf6-8740aac0c930',\n",
       "    '958fa04f-395c-49b6-85ea-2dd3c3bb9fe7',\n",
       "    'd877f32a-6ff4-4127-ac39-5f33bce0a7ec',\n",
       "    'b7323c22-d514-493a-93d6-5f3790c45688',\n",
       "    '8a10b097-5f12-4ed9-9be6-7216a4d96f6a',\n",
       "    '70d30e5a-56de-4e14-964b-4c3f804595ca',\n",
       "    'fc5cef0f-0a7f-470a-a071-6f480eb3f2f7',\n",
       "    '4d136faa-2231-4015-a2bf-e94cedf7280b',\n",
       "    '039bf917-0630-4bfe-a98d-934d0f75718b',\n",
       "    'd4ae973f-7d7f-48a9-8604-367a66b6763f',\n",
       "    '2aab2897-a2f3-44d0-819c-3645249e28e0',\n",
       "    '1f385b6b-db6f-4d21-b2a9-82a8ff754eb9',\n",
       "    '33f13b0e-b0ea-4dbc-abf4-f5828e954057',\n",
       "    '2b2735e7-1dd8-4f0f-9c49-a5b7cd7862dd',\n",
       "    'ec3b988f-8014-4e37-8f67-7482814d7d02']}],\n",
       " 'Page': 1}"
      ]
     },
     "execution_count": 35,
     "metadata": {},
     "output_type": "execute_result"
    }
   ],
   "source": [
    "results[\"Blocks\"][0]"
   ]
  },
  {
   "cell_type": "code",
   "execution_count": 31,
   "metadata": {},
   "outputs": [],
   "source": [
    "documentText = \"\"\n",
    "\n",
    "for item in results[\"Blocks\"]:\n",
    "    if item[\"BlockType\"] == \"LINE\":\n",
    "        documentText = documentText + item[\"Text\"]"
   ]
  },
  {
   "cell_type": "code",
   "execution_count": 32,
   "metadata": {},
   "outputs": [
    {
     "data": {
      "text/plain": [
       "'Brief Definitive ReportsMONOCLONAL PRODUCTION OF BOTH IgM AND IgG1ANTIHAPTEN ANTIBODY*By JOAN L. PRESS AXD NORMAN R. KLINMAN;(From the Department of Pathology, University of Pennsylonia Medical School,Philadelphia, 19 174)(Received for publication 1 May 1973)Investigations on the clonal nature of antibody formation have demonstrated theexpression of allelie exclusion by lymphoid cells (1), as well as the production of amonospecific, restricted population of antibody molecules by the clonal progenyof a single antibody-forming precursor cell (B cell) (2, 3). Recent studies suggest,however, that a single clone may synthesize antibody molecules of the same speci-ficity which differ in heavy chain class. Thus, idiotypic determinants, which are con-sidered to be a function of the antibody combining site and therefore a variable re-gion marker (4), have been shown to be shared among the IgM and IgG anti-Sal-monella antibodies produced by individual rabbits (5). Furthermore, IgG and IgMmyeloma proteins derived from a single individual have been shown to share idio-typic determinants (6, 7) while structural studies indicate that these proteins haveidentical light chains and heavy chain variable region subgroups (7-9). These andother findings (10, 11) are consistent with the hypothesis that the primary aminoacid sequence of a single light or heavy chain is encoded by two genes and that thesynthesis of the polypeptide chain results from a mechanism involving translocation(11, 12).It is conceivable that a lymphoid cell might \"switch\" from IgM to lgG antibodyproduction while maintaining the same or similar antibody specificity. That suchaswitch mechanism is operative has been implied by several findings Pernis et al.(13, 14) have demonstrated that lymphocytes with IgM molecules on the cell mem-brane possess, in their cytoplasm, IgG molecules with similar allotypic determinantsSeveral investigators have shown that treatment of lymphoid cells with anti-u chainantisera inhibits the production of IgG antibody-forming cells in response to anti-genic stimulation (15-17). Finally, Nossal et al. (18, 19) noted that microdropletscontaining single antibody-forming cells expressed both IgM and IgG antibodies.The studies presented here were conducted to determine whether the clonalprogeny of a single stimulated precursor cell produced antibody of more thanone heavy chain class in response to a defined, haptenic determinant. Analysisof antibodies produced by splenic foci derived from the adoptive transfer oflimiting numbers of clonal precursor cells indicated that foci producing bothSupported by Research grant AI-08778 and Training grant AI-00419 from the U.S.Public Health Service.: Recipient of a U.S. Public Health Service Career Development Award (I-KO4-AI33983) from the National Institute of Allergy and Infectious DistasesIPress, J. L., and N. R. Klinman. 1973. Isoelectric analysis of neonatal monofocal anti-body. In press.300THE JOURNAL OF EXPERIMENTAL MEDICINE . VOLUME 138, 1973PRESS AND KLINMANBRIEF DEPINITIVE REPORT301IgM and IgG1 antihapten antibodies occurred at a significantly greater thanrandom frequency.Materials and MethodsAntigens.-The preparation of Livalus polyplessus hemocyanin (Hy) and 2,4-dinitro-phenylated hemocyanin (DNP-Hy) has been described previously (3). DNP-Hy contained10 mol of DNP per 100,000 8 of Hy.old Balb/e mice (Carworth Div. Becton, Dickinson, and Co., NewYork) were immunized by an intraperitoneal injection of 0.1 mg of DNP-Hy in completeFreund\\'s adjuvant (CFA) and used 4-6 mo later as accondary spleen cell donors, Balb/crecipients for cell transfer were carrier-primed 4-8 wk before use by an intraperitonealin-jection of 0.1 mg of Hy in CFA (3). Nonimmune Balb/e mice were used as primary spleencell donors at 8-10 wk of age.Cell Transjer.-Dono spleen cell suspensions were prepared in Dulbecco\\'s modified Eagle\\'smedium using a Tellon tissue homogenizer (3). Carrier-primed recipients received intrave-nously 0.5-2.0 X 10 viable spleen cells 6 h after 1,000 r total body irradiation from a cesiumsource.Spleen Fragment Cultwres.-Recipient spleen fragments were cultured by methods de-scribed previously (3), and stimulated with I ag/ml of DNP-Hy, 10-3 M for DNP. Culturefluids were collected every 2-3 days thereafter, and analyzed for antibody by the radio-immunoassay 7, 11, 13, and 15 days after in vitro stimulation.Radioisseanoassay.-The radioimmunoassay of culture fluids for anti-DNP antibodyandanti-Hy antibody, and the preparation of jodinated, purified rabbit antimouse Fab fragmentantibody has been described previously (20). MOPC 104E myeloma protein (a A) waspurified from tumor tissue and coupled to bromoacetyl cellulose by methods described pre-viously. Lambda protein was purified from the urine of RPC-20 myeloma tumor-bearingmice by the method of Potter (21) and coupled to cyanogen bromide activated Sepharose(Pharmacia Fine Chemicals, Piscataway, N. J.). MOPC 31c (y1, K) myeloma protein waspurified from tumor tissue by methods described previously, and coupled to Sepharose.Antisera specific for different classes of mouse immunoglobulin heavy chains, producedin goats by immunization with purified myeloma proteins, and adsorbed to remove cross-reactivity with light and heavy chains of other myeloma proteins, were obtained from MeloyLaboratories, Inc., Springfield, Va. Goat antimouse u-chain antibody was purified from theMeloy anti-g antiserum by adsorption on 104E myeloma protein coupled immunoadsorbentand subsequent elution with 0.1 N acetic acid. Iodinated goat antimouse g-chain antibodywas passaged through a lambda-protein coupled Sepharose immunoadsorbent, Goat anti-mouse ry1-chain antibody was purified from the Meloy anti-y1 antistrum by adsorption onMOPC 31C (IgG1) protein coupled immunoadsorbent and elution with 0,008 M glycyl-glycine HCI, 0.3 M for NaCI, pH 2.25. This preparation was iodinated as described previously(20).The purified preparations of goat antimouse -chain antibody and goat antimouse y1-chain antibody were shown to have no demonstrable cross-reactivity for other heavy chaindeterminants or for light chains. This was established by determining that neither iodinatedpurified antibody preparation bound to mouse Fab fragment coupled to Sepharose Further-more, iodinated goat antimouse u-chain antibody did not bind to IgG molecules purified fromserum by DEAE-cellulose chromatography and coupled to bromoacetyl cellulose. Anti-mouse y1-chain antibody showed no binding to IgM molecules purified from serum by G200Sephadex gel filtration and coupled to bromoacety cellulose.RESULTSCulture fluids obtained 11 and 13 days after in vitro stimulation of spleenfragments with DNP-Hy were analyzed by the radioimmunoassay, using'"
      ]
     },
     "execution_count": 32,
     "metadata": {},
     "output_type": "execute_result"
    }
   ],
   "source": [
    "documentText"
   ]
  },
  {
   "cell_type": "markdown",
   "metadata": {},
   "source": [
    "### AWS Comprehend"
   ]
  },
  {
   "cell_type": "code",
   "execution_count": 37,
   "metadata": {},
   "outputs": [],
   "source": [
    "comprehend_client = boto3.client('comprehend', aws_access_key_id=AWS_ACCESS_KEY_ID, aws_secret_access_key=AWS_SECRET_ACCESS_KEY, region_name=AWS_REGION)"
   ]
  },
  {
   "cell_type": "code",
   "execution_count": 46,
   "metadata": {},
   "outputs": [],
   "source": [
    "response = comprehend_client.detect_entities(\n",
    "    Text=documentText[:5000],\n",
    "    LanguageCode='en',\n",
    ")"
   ]
  },
  {
   "cell_type": "code",
   "execution_count": 1,
   "metadata": {},
   "outputs": [
    {
     "ename": "NameError",
     "evalue": "name 'response' is not defined",
     "output_type": "error",
     "traceback": [
      "\u001b[1;31m---------------------------------------------------------------------------\u001b[0m",
      "\u001b[1;31mNameError\u001b[0m                                 Traceback (most recent call last)",
      "\u001b[1;32mC:\\Users\\SALEHA~1\\AppData\\Local\\Temp/ipykernel_22040/1592389473.py\u001b[0m in \u001b[0;36m<module>\u001b[1;34m\u001b[0m\n\u001b[1;32m----> 1\u001b[1;33m \u001b[0mresponse\u001b[0m\u001b[1;33m[\u001b[0m\u001b[1;34m\"Entities\"\u001b[0m\u001b[1;33m]\u001b[0m\u001b[1;33m\u001b[0m\u001b[1;33m\u001b[0m\u001b[0m\n\u001b[0m",
      "\u001b[1;31mNameError\u001b[0m: name 'response' is not defined"
     ]
    }
   ],
   "source": [
    "response[\"Entities\"]"
   ]
  },
  {
   "cell_type": "code",
   "execution_count": 53,
   "metadata": {},
   "outputs": [
    {
     "data": {
      "text/html": [
       "<div>\n",
       "<style scoped>\n",
       "    .dataframe tbody tr th:only-of-type {\n",
       "        vertical-align: middle;\n",
       "    }\n",
       "\n",
       "    .dataframe tbody tr th {\n",
       "        vertical-align: top;\n",
       "    }\n",
       "\n",
       "    .dataframe thead th {\n",
       "        text-align: right;\n",
       "    }\n",
       "</style>\n",
       "<table border=\"1\" class=\"dataframe\">\n",
       "  <thead>\n",
       "    <tr style=\"text-align: right;\">\n",
       "      <th></th>\n",
       "      <th>Score</th>\n",
       "      <th>Type</th>\n",
       "      <th>Text</th>\n",
       "      <th>BeginOffset</th>\n",
       "      <th>EndOffset</th>\n",
       "    </tr>\n",
       "  </thead>\n",
       "  <tbody>\n",
       "    <tr>\n",
       "      <th>8</th>\n",
       "      <td>0.997775</td>\n",
       "      <td>DATE</td>\n",
       "      <td>1 May 1973</td>\n",
       "      <td>248</td>\n",
       "      <td>258</td>\n",
       "    </tr>\n",
       "    <tr>\n",
       "      <th>17</th>\n",
       "      <td>0.991282</td>\n",
       "      <td>ORGANIZATION</td>\n",
       "      <td>National Institute of Allergy and Infectious</td>\n",
       "      <td>2798</td>\n",
       "      <td>2842</td>\n",
       "    </tr>\n",
       "    <tr>\n",
       "      <th>15</th>\n",
       "      <td>0.981901</td>\n",
       "      <td>ORGANIZATION</td>\n",
       "      <td>U.S.Public Health Service</td>\n",
       "      <td>2678</td>\n",
       "      <td>2703</td>\n",
       "    </tr>\n",
       "    <tr>\n",
       "      <th>19</th>\n",
       "      <td>0.966133</td>\n",
       "      <td>PERSON</td>\n",
       "      <td>N. R. Klinman</td>\n",
       "      <td>2870</td>\n",
       "      <td>2883</td>\n",
       "    </tr>\n",
       "    <tr>\n",
       "      <th>2</th>\n",
       "      <td>0.957784</td>\n",
       "      <td>PERSON</td>\n",
       "      <td>NORMAN R. KLINMAN</td>\n",
       "      <td>107</td>\n",
       "      <td>124</td>\n",
       "    </tr>\n",
       "  </tbody>\n",
       "</table>\n",
       "</div>"
      ],
      "text/plain": [
       "       Score          Type                                          Text  \\\n",
       "8   0.997775          DATE                                    1 May 1973   \n",
       "17  0.991282  ORGANIZATION  National Institute of Allergy and Infectious   \n",
       "15  0.981901  ORGANIZATION                     U.S.Public Health Service   \n",
       "19  0.966133        PERSON                                 N. R. Klinman   \n",
       "2   0.957784        PERSON                             NORMAN R. KLINMAN   \n",
       "\n",
       "    BeginOffset  EndOffset  \n",
       "8           248        258  \n",
       "17         2798       2842  \n",
       "15         2678       2703  \n",
       "19         2870       2883  \n",
       "2           107        124  "
      ]
     },
     "execution_count": 53,
     "metadata": {},
     "output_type": "execute_result"
    }
   ],
   "source": [
    "pd.DataFrame(response[\"Entities\"]).sort_values(by='Score', ascending=False).head()"
   ]
  },
  {
   "cell_type": "code",
   "execution_count": 55,
   "metadata": {},
   "outputs": [],
   "source": [
    "response = comprehend_client.detect_key_phrases(\n",
    "    Text=documentText[:5000],\n",
    "    LanguageCode='en',\n",
    ")"
   ]
  },
  {
   "cell_type": "code",
   "execution_count": 57,
   "metadata": {},
   "outputs": [
    {
     "data": {
      "text/plain": [
       "{'Score': 0.94112229347229,\n",
       " 'Text': 'Brief Definitive ReportsMONOCLONAL PRODUCTION',\n",
       " 'BeginOffset': 0,\n",
       " 'EndOffset': 45}"
      ]
     },
     "execution_count": 57,
     "metadata": {},
     "output_type": "execute_result"
    }
   ],
   "source": [
    "response[\"KeyPhrases\"][0]"
   ]
  },
  {
   "cell_type": "code",
   "execution_count": 58,
   "metadata": {},
   "outputs": [],
   "source": [
    "response = comprehend_client.detect_sentiment(\n",
    "    Text=documentText[:5000],\n",
    "    LanguageCode='en',\n",
    ")"
   ]
  },
  {
   "cell_type": "code",
   "execution_count": 61,
   "metadata": {},
   "outputs": [
    {
     "data": {
      "text/plain": [
       "{'Sentiment': 'NEUTRAL',\n",
       " 'SentimentScore': {'Positive': 0.0010422870982438326,\n",
       "  'Negative': 0.00028130708960816264,\n",
       "  'Neutral': 0.9986714124679565,\n",
       "  'Mixed': 4.950157290295465e-06},\n",
       " 'ResponseMetadata': {'RequestId': 'ede1155b-dbf4-41f5-a9c8-33d498b61c04',\n",
       "  'HTTPStatusCode': 200,\n",
       "  'HTTPHeaders': {'x-amzn-requestid': 'ede1155b-dbf4-41f5-a9c8-33d498b61c04',\n",
       "   'content-type': 'application/x-amz-json-1.1',\n",
       "   'content-length': '166',\n",
       "   'date': 'Tue, 24 Aug 2021 01:54:35 GMT'},\n",
       "  'RetryAttempts': 0}}"
      ]
     },
     "execution_count": 61,
     "metadata": {},
     "output_type": "execute_result"
    }
   ],
   "source": [
    "response"
   ]
  },
  {
   "cell_type": "code",
   "execution_count": 63,
   "metadata": {},
   "outputs": [],
   "source": [
    "response = comprehend_client.detect_dominant_language(\n",
    "    Text=documentText[:5000],\n",
    ")"
   ]
  },
  {
   "cell_type": "code",
   "execution_count": 64,
   "metadata": {},
   "outputs": [
    {
     "data": {
      "text/plain": [
       "{'Languages': [{'LanguageCode': 'en', 'Score': 0.9832875728607178}],\n",
       " 'ResponseMetadata': {'RequestId': 'f8f874a8-7631-4e4e-88d6-345348f716fd',\n",
       "  'HTTPStatusCode': 200,\n",
       "  'HTTPHeaders': {'x-amzn-requestid': 'f8f874a8-7631-4e4e-88d6-345348f716fd',\n",
       "   'content-type': 'application/x-amz-json-1.1',\n",
       "   'content-length': '64',\n",
       "   'date': 'Tue, 24 Aug 2021 01:55:23 GMT'},\n",
       "  'RetryAttempts': 0}}"
      ]
     },
     "execution_count": 64,
     "metadata": {},
     "output_type": "execute_result"
    }
   ],
   "source": [
    "response"
   ]
  },
  {
   "cell_type": "code",
   "execution_count": null,
   "metadata": {},
   "outputs": [],
   "source": []
  }
 ],
 "metadata": {
  "kernelspec": {
   "display_name": "Python 3",
   "language": "python",
   "name": "python3"
  },
  "language_info": {
   "codemirror_mode": {
    "name": "ipython",
    "version": 3
   },
   "file_extension": ".py",
   "mimetype": "text/x-python",
   "name": "python",
   "nbconvert_exporter": "python",
   "pygments_lexer": "ipython3",
   "version": "3.8.5"
  }
 },
 "nbformat": 4,
 "nbformat_minor": 4
}
